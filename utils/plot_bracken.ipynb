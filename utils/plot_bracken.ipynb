{
 "cells": [
  {
   "cell_type": "code",
   "execution_count": 507,
   "metadata": {},
   "outputs": [],
   "source": [
    "import pandas as pd\n",
    "import numpy as np"
   ]
  },
  {
   "cell_type": "code",
   "execution_count": 508,
   "metadata": {},
   "outputs": [],
   "source": [
    "## Open file\n",
    "number_samples = 6\n",
    "bracken_file=pd.read_csv(filepath_or_buffer='/home/labcompjavier/juanPicon/biocomp_tools/MAUS/utils/all_bracken_report_V3-V4.txt', \n",
    "                        delimiter='\\t', skiprows=8)"
   ]
  },
  {
   "cell_type": "code",
   "execution_count": 509,
   "metadata": {},
   "outputs": [],
   "source": [
    "import os\n",
    "alpha_diversity_raw={\"sample\":[], \"shannon\":[], \"simpson_reciprocal\":[]}\n",
    "for i in os.listdir():\n",
    "    if i.startswith(\"G\"):\n",
    "        handler=open(i)\n",
    "        handler=handler.readlines()\n",
    "        ## select lines 0 and 3 which are Shannon and Simpson's Reciprocal Index\n",
    "        alpha_diversity_raw[\"sample\"].append(i[:4])\n",
    "        alpha_diversity_raw[\"shannon\"].append(round(float(handler[0].split(\" \")[2].strip()),2))\n",
    "        alpha_diversity_raw[\"simpson_reciprocal\"].append(round(float(handler[3].split(\" \")[3].strip()),2))\n",
    "alpha_data=pd.DataFrame(alpha_diversity_raw)\n",
    "alpha_data.sort_values(by=\"sample\",inplace=True)"
   ]
  },
  {
   "cell_type": "code",
   "execution_count": 510,
   "metadata": {},
   "outputs": [],
   "source": [
    "## compute relative abundance (RelAbun)\n",
    "def compute_relative_abun (df, number_samples=6):\n",
    "    for i in range(1, number_samples+1):\n",
    "        i = str(i)\n",
    "        df[f\"G{i}_1_RelAbun\"] = df[f\"G{i}_1_lvl\"]/df[f\"G{i}_1_lvl\"].sum() * 100\n",
    "    return df"
   ]
  },
  {
   "cell_type": "code",
   "execution_count": 511,
   "metadata": {},
   "outputs": [],
   "source": [
    "bracken_file=compute_relative_abun(df=bracken_file, number_samples=number_samples)\n",
    "min_abundance=1\n",
    "def filter_by_abundance_conditional (df, number_samples, min_abundance, min_samples):\n",
    "    ## This is intended to mimic the taxa filter by abundance conditionally of qiime2\n",
    "    ## Select taxa that have at least n abundance in at least n samples \n",
    "    df = df[(df.iloc[:,number_samples*-1:] >= min_abundance).sum(axis=1) >= min_samples]\n",
    "    return df\n",
    "\n",
    "bracken_file = filter_by_abundance_conditional (df=bracken_file, \n",
    "                                                number_samples=number_samples,\n",
    "                                                min_abundance=min_abundance, \n",
    "                                                min_samples=2)\n",
    "bracken_file=compute_relative_abun(df=bracken_file, number_samples=number_samples)"
   ]
  },
  {
   "cell_type": "code",
   "execution_count": 512,
   "metadata": {},
   "outputs": [],
   "source": [
    "from plotly.subplots import make_subplots\n",
    "import plotly.graph_objects as go\n",
    "import plotly.express as px"
   ]
  },
  {
   "cell_type": "code",
   "execution_count": 513,
   "metadata": {},
   "outputs": [
    {
     "data": {
      "application/vnd.plotly.v1+json": {
       "config": {
        "plotlyServerURL": "https://plot.ly"
       },
       "data": [
        {
         "marker": {
          "color": "rgb(158, 1, 66)"
         },
         "name": "Pseudomonas",
         "type": "bar",
         "x": [
          "G1_1_RelAbun",
          "G2_1_RelAbun",
          "G3_1_RelAbun",
          "G4_1_RelAbun",
          "G5_1_RelAbun",
          "G6_1_RelAbun"
         ],
         "xaxis": "x2",
         "y": [
          9.143152157353962,
          2.3773868757202896,
          37.91738058422835,
          26.975064145679195,
          31.096310312204352,
          27.970466219554286
         ],
         "yaxis": "y2"
        },
        {
         "marker": {
          "color": "rgb(179, 24, 71)"
         },
         "name": "Thiopseudomonas",
         "type": "bar",
         "x": [
          "G1_1_RelAbun",
          "G2_1_RelAbun",
          "G3_1_RelAbun",
          "G4_1_RelAbun",
          "G5_1_RelAbun",
          "G6_1_RelAbun"
         ],
         "xaxis": "x2",
         "y": [
          2.8496707686578535,
          0.1097255481101672,
          0.19328012035605333,
          10.643449667438906,
          1.3608325449385053,
          0.413499996616203
         ],
         "yaxis": "y2"
        },
        {
         "marker": {
          "color": "rgb(200, 48, 76)"
         },
         "name": "Advenella",
         "type": "bar",
         "x": [
          "G1_1_RelAbun",
          "G2_1_RelAbun",
          "G3_1_RelAbun",
          "G4_1_RelAbun",
          "G5_1_RelAbun",
          "G6_1_RelAbun"
         ],
         "xaxis": "x2",
         "y": [
          1.1391912250114258,
          0.21047982499120127,
          2.2086171590956583,
          13.180878359863488,
          1.2132450331125828,
          1.7704026041701915
         ],
         "yaxis": "y2"
        },
        {
         "marker": {
          "color": "rgb(218, 69, 77)"
         },
         "name": "Parapusillimonas",
         "type": "bar",
         "x": [
          "G1_1_RelAbun",
          "G2_1_RelAbun",
          "G3_1_RelAbun",
          "G4_1_RelAbun",
          "G5_1_RelAbun",
          "G6_1_RelAbun"
         ],
         "xaxis": "x2",
         "y": [
          0.23274709277722297,
          0.03864547606395826,
          0.23611517405658405,
          2.392945220835513,
          2.13282876064333,
          0.5129836291899866
         ],
         "yaxis": "y2"
        },
        {
         "marker": {
          "color": "rgb(230, 87, 73)"
         },
         "name": "Thauera",
         "type": "bar",
         "x": [
          "G1_1_RelAbun",
          "G2_1_RelAbun",
          "G3_1_RelAbun",
          "G4_1_RelAbun",
          "G5_1_RelAbun",
          "G6_1_RelAbun"
         ],
         "xaxis": "x2",
         "y": [
          0.006770824517155577,
          0.024153422539973914,
          0.07835680554975134,
          1.282415365069875,
          1.9670766319772943,
          18.242049768886663
         ],
         "yaxis": "y2"
        },
        {
         "marker": {
          "color": "rgb(242, 105, 68)"
         },
         "name": "Lampropedia",
         "type": "bar",
         "x": [
          "G1_1_RelAbun",
          "G2_1_RelAbun",
          "G3_1_RelAbun",
          "G4_1_RelAbun",
          "G5_1_RelAbun",
          "G6_1_RelAbun"
         ],
         "xaxis": "x2",
         "y": [
          0.019466120486822284,
          0.5479376427639796,
          14.817794308161645,
          0.4663328600254092,
          0.7538315988647114,
          3.364847762971786
         ],
         "yaxis": "y2"
        },
        {
         "marker": {
          "color": "rgb(247, 129, 76)"
         },
         "name": "Burkholderia-Caballeronia-Paraburkholderia",
         "type": "bar",
         "x": [
          "G1_1_RelAbun",
          "G2_1_RelAbun",
          "G3_1_RelAbun",
          "G4_1_RelAbun",
          "G5_1_RelAbun",
          "G6_1_RelAbun"
         ],
         "xaxis": "x2",
         "y": [
          1.3583966687543376,
          2.3152780749032136,
          2.8762171423795393,
          1.8837655382009317,
          1.0081362346263008,
          0.503508997516293
         ],
         "yaxis": "y2"
        },
        {
         "marker": {
          "color": "rgb(250, 154, 88)"
         },
         "name": "Haemophilus",
         "type": "bar",
         "x": [
          "G1_1_RelAbun",
          "G2_1_RelAbun",
          "G3_1_RelAbun",
          "G4_1_RelAbun",
          "G5_1_RelAbun",
          "G6_1_RelAbun"
         ],
         "xaxis": "x2",
         "y": [
          0.007617177581800024,
          0.029674204834825094,
          0.03656650925655063,
          3.540343272799741,
          5.285903500473037,
          3.7309746012195206
         ],
         "yaxis": "y2"
        },
        {
         "marker": {
          "color": "rgb(253, 178, 100)"
         },
         "name": "Bradyrhizobium",
         "type": "bar",
         "x": [
          "G1_1_RelAbun",
          "G2_1_RelAbun",
          "G3_1_RelAbun",
          "G4_1_RelAbun",
          "G5_1_RelAbun",
          "G6_1_RelAbun"
         ],
         "xaxis": "x2",
         "y": [
          0.3131506339184454,
          1.6824584043558972,
          4.908270299636425,
          2.6191365867025382,
          0.693282876064333,
          1.264863328438107
         ],
         "yaxis": "y2"
        },
        {
         "marker": {
          "color": "rgb(253, 197, 116)"
         },
         "name": "uncultured",
         "type": "bar",
         "x": [
          "G1_1_RelAbun",
          "G2_1_RelAbun",
          "G3_1_RelAbun",
          "G4_1_RelAbun",
          "G5_1_RelAbun",
          "G6_1_RelAbun"
         ],
         "xaxis": "x2",
         "y": [
          9.769453425190852,
          16.534052875292428,
          1.5577332943290567,
          0.30939391674762723,
          3.5421002838221383,
          0.19016939287913753
         ],
         "yaxis": "y2"
        },
        {
         "marker": {
          "color": "rgb(254, 216, 133)"
         },
         "name": "Sedimentibacter",
         "type": "bar",
         "x": [
          "G1_1_RelAbun",
          "G2_1_RelAbun",
          "G3_1_RelAbun",
          "G4_1_RelAbun",
          "G5_1_RelAbun",
          "G6_1_RelAbun"
         ],
         "xaxis": "x2",
         "y": [
          4.946933662846793,
          4.026030488520224,
          2.32667474612395,
          0.5017063996213537,
          3.611731315042573,
          0.7687986843797161
         ],
         "yaxis": "y2"
        },
        {
         "marker": {
          "color": "rgb(254, 231, 151)"
         },
         "name": "Christensenellaceae R-7 group",
         "type": "bar",
         "x": [
          "G1_1_RelAbun",
          "G2_1_RelAbun",
          "G3_1_RelAbun",
          "G4_1_RelAbun",
          "G5_1_RelAbun",
          "G6_1_RelAbun"
         ],
         "xaxis": "x2",
         "y": [
          3.9541615180188567,
          3.2262071535536583,
          1.7395210832044798,
          1.4303863687317837,
          2.913907284768212,
          2.2299222403443353
         ],
         "yaxis": "y2"
        },
        {
         "marker": {
          "color": "rgb(255, 243, 171)"
         },
         "name": "Acholeplasma",
         "type": "bar",
         "x": [
          "G1_1_RelAbun",
          "G2_1_RelAbun",
          "G3_1_RelAbun",
          "G4_1_RelAbun",
          "G5_1_RelAbun",
          "G6_1_RelAbun"
         ],
         "xaxis": "x2",
         "y": [
          13.008446603585153,
          8.25080913965509,
          0.8284926240127043,
          0.10412774331763945,
          1.537937559129612,
          0.5001252004899738
         ],
         "yaxis": "y2"
        },
        {
         "marker": {
          "color": "rgb(255, 255, 191)"
         },
         "name": "UCG-004",
         "type": "bar",
         "x": [
          "G1_1_RelAbun",
          "G2_1_RelAbun",
          "G3_1_RelAbun",
          "G4_1_RelAbun",
          "G5_1_RelAbun",
          "G6_1_RelAbun"
         ],
         "xaxis": "x2",
         "y": [
          2.9444623118980315,
          4.829994410207926,
          0.5505871536629194,
          3.5727274991903943,
          0.768968779564806,
          0.327551552147696
         ],
         "yaxis": "y2"
        },
        {
         "marker": {
          "color": "rgb(245, 251, 176)"
         },
         "name": "Staphylococcus",
         "type": "bar",
         "x": [
          "G1_1_RelAbun",
          "G2_1_RelAbun",
          "G3_1_RelAbun",
          "G4_1_RelAbun",
          "G5_1_RelAbun",
          "G6_1_RelAbun"
         ],
         "xaxis": "x2",
         "y": [
          2.4298796485942074,
          4.691974852836648,
          0.44715617033724775,
          3.684328525521262,
          0.3163670766319773,
          0.22874467897917614
         ],
         "yaxis": "y2"
        },
        {
         "marker": {
          "color": "rgb(236, 247, 161)"
         },
         "name": "Hydrogenispora",
         "type": "bar",
         "x": [
          "G1_1_RelAbun",
          "G2_1_RelAbun",
          "G3_1_RelAbun",
          "G4_1_RelAbun",
          "G5_1_RelAbun",
          "G6_1_RelAbun"
         ],
         "xaxis": "x2",
         "y": [
          0.03554682871506678,
          0.404397303097849,
          16.37866187471269,
          0.22370027152928282,
          0.5411542100283823,
          7.175679974012439
         ],
         "yaxis": "y2"
        },
        {
         "marker": {
          "color": "rgb(221, 241, 154)"
         },
         "name": "uncultured",
         "type": "bar",
         "x": [
          "G1_1_RelAbun",
          "G2_1_RelAbun",
          "G3_1_RelAbun",
          "G4_1_RelAbun",
          "G5_1_RelAbun",
          "G6_1_RelAbun"
         ],
         "xaxis": "x2",
         "y": [
          10.047903583458876,
          9.914634903765863,
          2.673534205357516,
          3.805893929203099,
          11.576915799432355,
          2.460020438134039
         ],
         "yaxis": "y2"
        },
        {
         "marker": {
          "color": "rgb(198, 232, 158)"
         },
         "name": "Flexilinea",
         "type": "bar",
         "x": [
          "G1_1_RelAbun",
          "G2_1_RelAbun",
          "G3_1_RelAbun",
          "G4_1_RelAbun",
          "G5_1_RelAbun",
          "G6_1_RelAbun"
         ],
         "xaxis": "x2",
         "y": [
          2.732027692672275,
          1.157984086345035,
          0.291487316645075,
          5.257703709239469,
          1.3093661305581836,
          1.235762674011762
         ],
         "yaxis": "y2"
        },
        {
         "marker": {
          "color": "rgb(176, 223, 163)"
         },
         "name": "DEV114",
         "type": "bar",
         "x": [
          "G1_1_RelAbun",
          "G2_1_RelAbun",
          "G3_1_RelAbun",
          "G4_1_RelAbun",
          "G5_1_RelAbun",
          "G6_1_RelAbun"
         ],
         "xaxis": "x2",
         "y": [
          6.52792118760262,
          8.021696674418767,
          0.20999623887333363,
          8.69092992551628,
          7.413434247871334,
          2.380162828312906
         ],
         "yaxis": "y2"
        },
        {
         "marker": {
          "color": "rgb(150, 213, 164)"
         },
         "name": "Bacteroides",
         "type": "bar",
         "x": [
          "G1_1_RelAbun",
          "G2_1_RelAbun",
          "G3_1_RelAbun",
          "G4_1_RelAbun",
          "G5_1_RelAbun",
          "G6_1_RelAbun"
         ],
         "xaxis": "x2",
         "y": [
          6.970563840411666,
          1.7956344414003467,
          0.41476869071001715,
          2.203123832299529,
          2.5831598864711447,
          0.7999296170218526
         ],
         "yaxis": "y2"
        },
        {
         "marker": {
          "color": "rgb(123, 202, 165)"
         },
         "name": "Proteiniphilum",
         "type": "bar",
         "x": [
          "G1_1_RelAbun",
          "G2_1_RelAbun",
          "G3_1_RelAbun",
          "G4_1_RelAbun",
          "G5_1_RelAbun",
          "G6_1_RelAbun"
         ],
         "xaxis": "x2",
         "y": [
          0.6110669126732908,
          0.37265280490245467,
          2.2211542479836184,
          0.19231248287372643,
          0.788647114474929,
          1.9057544852229584
         ],
         "yaxis": "y2"
        },
        {
         "marker": {
          "color": "rgb(98, 190, 167)"
         },
         "name": "Amycolatopsis",
         "type": "bar",
         "x": [
          "G1_1_RelAbun",
          "G2_1_RelAbun",
          "G3_1_RelAbun",
          "G4_1_RelAbun",
          "G5_1_RelAbun",
          "G6_1_RelAbun"
         ],
         "xaxis": "x2",
         "y": [
          0.02539059193933341,
          1.8066760059900488,
          3.006811818295792,
          1.6944423685324963,
          3.3135288552507096,
          3.844670181303845
         ],
         "yaxis": "y2"
        },
        {
         "marker": {
          "color": "rgb(78, 167, 176)"
         },
         "name": "uncultured",
         "type": "bar",
         "x": [
          "G1_1_RelAbun",
          "G2_1_RelAbun",
          "G3_1_RelAbun",
          "G4_1_RelAbun",
          "G5_1_RelAbun",
          "G6_1_RelAbun"
         ],
         "xaxis": "x2",
         "y": [
          1.0418606225773144,
          0.9530250436486851,
          0.6634209536545613,
          2.7805594997882572,
          1.9065279091769158,
          8.703802711098177
         ],
         "yaxis": "y2"
        },
        {
         "marker": {
          "color": "rgb(58, 145, 185)"
         },
         "name": "Syntrophus",
         "type": "bar",
         "x": [
          "G1_1_RelAbun",
          "G2_1_RelAbun",
          "G3_1_RelAbun",
          "G4_1_RelAbun",
          "G5_1_RelAbun",
          "G6_1_RelAbun"
         ],
         "xaxis": "x2",
         "y": [
          2.5974575553938077,
          3.6934033552554397,
          0.4001420870073969,
          0.11060458859577013,
          1.0883632923368023,
          0.10692798603168588
         ],
         "yaxis": "y2"
        },
        {
         "marker": {
          "color": "rgb(60, 123, 183)"
         },
         "name": "Methanoculleus",
         "type": "bar",
         "x": [
          "G1_1_RelAbun",
          "G2_1_RelAbun",
          "G3_1_RelAbun",
          "G4_1_RelAbun",
          "G5_1_RelAbun",
          "G6_1_RelAbun"
         ],
         "xaxis": "x2",
         "y": [
          9.251485349628451,
          13.521085937877398,
          0.05432738518116093,
          0.18882495080088682,
          0.26263008514664143,
          0.4074091619688284
         ],
         "yaxis": "y2"
        },
        {
         "marker": {
          "color": "rgb(77, 101, 172)"
         },
         "name": "Methanocorpusculum",
         "type": "bar",
         "x": [
          "G1_1_RelAbun",
          "G2_1_RelAbun",
          "G3_1_RelAbun",
          "G4_1_RelAbun",
          "G5_1_RelAbun",
          "G6_1_RelAbun"
         ],
         "xaxis": "x2",
         "y": [
          0.0880207187230225,
          0.18011552236951975,
          0.00940281666597016,
          0.05281119996014249,
          2.384105960264901,
          8.56642055182962
         ],
         "yaxis": "y2"
        },
        {
         "marker": {
          "color": "rgb(94, 79, 162)"
         },
         "name": "Methanosaeta",
         "type": "bar",
         "x": [
          "G1_1_RelAbun",
          "G2_1_RelAbun",
          "G3_1_RelAbun",
          "G4_1_RelAbun",
          "G5_1_RelAbun",
          "G6_1_RelAbun"
         ],
         "xaxis": "x2",
         "y": [
          7.947255277011359,
          9.283885526579116,
          2.953529190521961,
          2.2120917719154023,
          8.629706717123936,
          0.39455073326881557
         ],
         "yaxis": "y2"
        },
        {
         "base": "group",
         "offset": 0.2,
         "showlegend": false,
         "text": "shannon",
         "textangle": 0,
         "textposition": "outside",
         "type": "bar",
         "width": 0.4,
         "xaxis": "x",
         "y": [
          4.58,
          3.97,
          3.86,
          3.76,
          4.15,
          3.86
         ],
         "yaxis": "y"
        },
        {
         "base": "group",
         "showlegend": false,
         "text": "simpson",
         "textangle": 0,
         "textposition": "outside",
         "type": "bar",
         "width": 0.4,
         "xaxis": "x",
         "y": [
          39.67,
          22.06,
          14.02,
          14.86,
          17.75,
          15.35
         ],
         "yaxis": "y"
        }
       ],
       "layout": {
        "autosize": true,
        "barmode": "stack",
        "height": 800,
        "template": {
         "data": {
          "bar": [
           {
            "error_x": {
             "color": "#2a3f5f"
            },
            "error_y": {
             "color": "#2a3f5f"
            },
            "marker": {
             "line": {
              "color": "#E5ECF6",
              "width": 0.5
             },
             "pattern": {
              "fillmode": "overlay",
              "size": 10,
              "solidity": 0.2
             }
            },
            "type": "bar"
           }
          ],
          "barpolar": [
           {
            "marker": {
             "line": {
              "color": "#E5ECF6",
              "width": 0.5
             },
             "pattern": {
              "fillmode": "overlay",
              "size": 10,
              "solidity": 0.2
             }
            },
            "type": "barpolar"
           }
          ],
          "carpet": [
           {
            "aaxis": {
             "endlinecolor": "#2a3f5f",
             "gridcolor": "white",
             "linecolor": "white",
             "minorgridcolor": "white",
             "startlinecolor": "#2a3f5f"
            },
            "baxis": {
             "endlinecolor": "#2a3f5f",
             "gridcolor": "white",
             "linecolor": "white",
             "minorgridcolor": "white",
             "startlinecolor": "#2a3f5f"
            },
            "type": "carpet"
           }
          ],
          "choropleth": [
           {
            "colorbar": {
             "outlinewidth": 0,
             "ticks": ""
            },
            "type": "choropleth"
           }
          ],
          "contour": [
           {
            "colorbar": {
             "outlinewidth": 0,
             "ticks": ""
            },
            "colorscale": [
             [
              0,
              "#0d0887"
             ],
             [
              0.1111111111111111,
              "#46039f"
             ],
             [
              0.2222222222222222,
              "#7201a8"
             ],
             [
              0.3333333333333333,
              "#9c179e"
             ],
             [
              0.4444444444444444,
              "#bd3786"
             ],
             [
              0.5555555555555556,
              "#d8576b"
             ],
             [
              0.6666666666666666,
              "#ed7953"
             ],
             [
              0.7777777777777778,
              "#fb9f3a"
             ],
             [
              0.8888888888888888,
              "#fdca26"
             ],
             [
              1,
              "#f0f921"
             ]
            ],
            "type": "contour"
           }
          ],
          "contourcarpet": [
           {
            "colorbar": {
             "outlinewidth": 0,
             "ticks": ""
            },
            "type": "contourcarpet"
           }
          ],
          "heatmap": [
           {
            "colorbar": {
             "outlinewidth": 0,
             "ticks": ""
            },
            "colorscale": [
             [
              0,
              "#0d0887"
             ],
             [
              0.1111111111111111,
              "#46039f"
             ],
             [
              0.2222222222222222,
              "#7201a8"
             ],
             [
              0.3333333333333333,
              "#9c179e"
             ],
             [
              0.4444444444444444,
              "#bd3786"
             ],
             [
              0.5555555555555556,
              "#d8576b"
             ],
             [
              0.6666666666666666,
              "#ed7953"
             ],
             [
              0.7777777777777778,
              "#fb9f3a"
             ],
             [
              0.8888888888888888,
              "#fdca26"
             ],
             [
              1,
              "#f0f921"
             ]
            ],
            "type": "heatmap"
           }
          ],
          "heatmapgl": [
           {
            "colorbar": {
             "outlinewidth": 0,
             "ticks": ""
            },
            "colorscale": [
             [
              0,
              "#0d0887"
             ],
             [
              0.1111111111111111,
              "#46039f"
             ],
             [
              0.2222222222222222,
              "#7201a8"
             ],
             [
              0.3333333333333333,
              "#9c179e"
             ],
             [
              0.4444444444444444,
              "#bd3786"
             ],
             [
              0.5555555555555556,
              "#d8576b"
             ],
             [
              0.6666666666666666,
              "#ed7953"
             ],
             [
              0.7777777777777778,
              "#fb9f3a"
             ],
             [
              0.8888888888888888,
              "#fdca26"
             ],
             [
              1,
              "#f0f921"
             ]
            ],
            "type": "heatmapgl"
           }
          ],
          "histogram": [
           {
            "marker": {
             "pattern": {
              "fillmode": "overlay",
              "size": 10,
              "solidity": 0.2
             }
            },
            "type": "histogram"
           }
          ],
          "histogram2d": [
           {
            "colorbar": {
             "outlinewidth": 0,
             "ticks": ""
            },
            "colorscale": [
             [
              0,
              "#0d0887"
             ],
             [
              0.1111111111111111,
              "#46039f"
             ],
             [
              0.2222222222222222,
              "#7201a8"
             ],
             [
              0.3333333333333333,
              "#9c179e"
             ],
             [
              0.4444444444444444,
              "#bd3786"
             ],
             [
              0.5555555555555556,
              "#d8576b"
             ],
             [
              0.6666666666666666,
              "#ed7953"
             ],
             [
              0.7777777777777778,
              "#fb9f3a"
             ],
             [
              0.8888888888888888,
              "#fdca26"
             ],
             [
              1,
              "#f0f921"
             ]
            ],
            "type": "histogram2d"
           }
          ],
          "histogram2dcontour": [
           {
            "colorbar": {
             "outlinewidth": 0,
             "ticks": ""
            },
            "colorscale": [
             [
              0,
              "#0d0887"
             ],
             [
              0.1111111111111111,
              "#46039f"
             ],
             [
              0.2222222222222222,
              "#7201a8"
             ],
             [
              0.3333333333333333,
              "#9c179e"
             ],
             [
              0.4444444444444444,
              "#bd3786"
             ],
             [
              0.5555555555555556,
              "#d8576b"
             ],
             [
              0.6666666666666666,
              "#ed7953"
             ],
             [
              0.7777777777777778,
              "#fb9f3a"
             ],
             [
              0.8888888888888888,
              "#fdca26"
             ],
             [
              1,
              "#f0f921"
             ]
            ],
            "type": "histogram2dcontour"
           }
          ],
          "mesh3d": [
           {
            "colorbar": {
             "outlinewidth": 0,
             "ticks": ""
            },
            "type": "mesh3d"
           }
          ],
          "parcoords": [
           {
            "line": {
             "colorbar": {
              "outlinewidth": 0,
              "ticks": ""
             }
            },
            "type": "parcoords"
           }
          ],
          "pie": [
           {
            "automargin": true,
            "type": "pie"
           }
          ],
          "scatter": [
           {
            "fillpattern": {
             "fillmode": "overlay",
             "size": 10,
             "solidity": 0.2
            },
            "type": "scatter"
           }
          ],
          "scatter3d": [
           {
            "line": {
             "colorbar": {
              "outlinewidth": 0,
              "ticks": ""
             }
            },
            "marker": {
             "colorbar": {
              "outlinewidth": 0,
              "ticks": ""
             }
            },
            "type": "scatter3d"
           }
          ],
          "scattercarpet": [
           {
            "marker": {
             "colorbar": {
              "outlinewidth": 0,
              "ticks": ""
             }
            },
            "type": "scattercarpet"
           }
          ],
          "scattergeo": [
           {
            "marker": {
             "colorbar": {
              "outlinewidth": 0,
              "ticks": ""
             }
            },
            "type": "scattergeo"
           }
          ],
          "scattergl": [
           {
            "marker": {
             "colorbar": {
              "outlinewidth": 0,
              "ticks": ""
             }
            },
            "type": "scattergl"
           }
          ],
          "scattermapbox": [
           {
            "marker": {
             "colorbar": {
              "outlinewidth": 0,
              "ticks": ""
             }
            },
            "type": "scattermapbox"
           }
          ],
          "scatterpolar": [
           {
            "marker": {
             "colorbar": {
              "outlinewidth": 0,
              "ticks": ""
             }
            },
            "type": "scatterpolar"
           }
          ],
          "scatterpolargl": [
           {
            "marker": {
             "colorbar": {
              "outlinewidth": 0,
              "ticks": ""
             }
            },
            "type": "scatterpolargl"
           }
          ],
          "scatterternary": [
           {
            "marker": {
             "colorbar": {
              "outlinewidth": 0,
              "ticks": ""
             }
            },
            "type": "scatterternary"
           }
          ],
          "surface": [
           {
            "colorbar": {
             "outlinewidth": 0,
             "ticks": ""
            },
            "colorscale": [
             [
              0,
              "#0d0887"
             ],
             [
              0.1111111111111111,
              "#46039f"
             ],
             [
              0.2222222222222222,
              "#7201a8"
             ],
             [
              0.3333333333333333,
              "#9c179e"
             ],
             [
              0.4444444444444444,
              "#bd3786"
             ],
             [
              0.5555555555555556,
              "#d8576b"
             ],
             [
              0.6666666666666666,
              "#ed7953"
             ],
             [
              0.7777777777777778,
              "#fb9f3a"
             ],
             [
              0.8888888888888888,
              "#fdca26"
             ],
             [
              1,
              "#f0f921"
             ]
            ],
            "type": "surface"
           }
          ],
          "table": [
           {
            "cells": {
             "fill": {
              "color": "#EBF0F8"
             },
             "line": {
              "color": "white"
             }
            },
            "header": {
             "fill": {
              "color": "#C8D4E3"
             },
             "line": {
              "color": "white"
             }
            },
            "type": "table"
           }
          ]
         },
         "layout": {
          "annotationdefaults": {
           "arrowcolor": "#2a3f5f",
           "arrowhead": 0,
           "arrowwidth": 1
          },
          "autotypenumbers": "strict",
          "coloraxis": {
           "colorbar": {
            "outlinewidth": 0,
            "ticks": ""
           }
          },
          "colorscale": {
           "diverging": [
            [
             0,
             "#8e0152"
            ],
            [
             0.1,
             "#c51b7d"
            ],
            [
             0.2,
             "#de77ae"
            ],
            [
             0.3,
             "#f1b6da"
            ],
            [
             0.4,
             "#fde0ef"
            ],
            [
             0.5,
             "#f7f7f7"
            ],
            [
             0.6,
             "#e6f5d0"
            ],
            [
             0.7,
             "#b8e186"
            ],
            [
             0.8,
             "#7fbc41"
            ],
            [
             0.9,
             "#4d9221"
            ],
            [
             1,
             "#276419"
            ]
           ],
           "sequential": [
            [
             0,
             "#0d0887"
            ],
            [
             0.1111111111111111,
             "#46039f"
            ],
            [
             0.2222222222222222,
             "#7201a8"
            ],
            [
             0.3333333333333333,
             "#9c179e"
            ],
            [
             0.4444444444444444,
             "#bd3786"
            ],
            [
             0.5555555555555556,
             "#d8576b"
            ],
            [
             0.6666666666666666,
             "#ed7953"
            ],
            [
             0.7777777777777778,
             "#fb9f3a"
            ],
            [
             0.8888888888888888,
             "#fdca26"
            ],
            [
             1,
             "#f0f921"
            ]
           ],
           "sequentialminus": [
            [
             0,
             "#0d0887"
            ],
            [
             0.1111111111111111,
             "#46039f"
            ],
            [
             0.2222222222222222,
             "#7201a8"
            ],
            [
             0.3333333333333333,
             "#9c179e"
            ],
            [
             0.4444444444444444,
             "#bd3786"
            ],
            [
             0.5555555555555556,
             "#d8576b"
            ],
            [
             0.6666666666666666,
             "#ed7953"
            ],
            [
             0.7777777777777778,
             "#fb9f3a"
            ],
            [
             0.8888888888888888,
             "#fdca26"
            ],
            [
             1,
             "#f0f921"
            ]
           ]
          },
          "colorway": [
           "#636efa",
           "#EF553B",
           "#00cc96",
           "#ab63fa",
           "#FFA15A",
           "#19d3f3",
           "#FF6692",
           "#B6E880",
           "#FF97FF",
           "#FECB52"
          ],
          "font": {
           "color": "#2a3f5f"
          },
          "geo": {
           "bgcolor": "white",
           "lakecolor": "white",
           "landcolor": "#E5ECF6",
           "showlakes": true,
           "showland": true,
           "subunitcolor": "white"
          },
          "hoverlabel": {
           "align": "left"
          },
          "hovermode": "closest",
          "mapbox": {
           "style": "light"
          },
          "paper_bgcolor": "white",
          "plot_bgcolor": "#E5ECF6",
          "polar": {
           "angularaxis": {
            "gridcolor": "white",
            "linecolor": "white",
            "ticks": ""
           },
           "bgcolor": "#E5ECF6",
           "radialaxis": {
            "gridcolor": "white",
            "linecolor": "white",
            "ticks": ""
           }
          },
          "scene": {
           "xaxis": {
            "backgroundcolor": "#E5ECF6",
            "gridcolor": "white",
            "gridwidth": 2,
            "linecolor": "white",
            "showbackground": true,
            "ticks": "",
            "zerolinecolor": "white"
           },
           "yaxis": {
            "backgroundcolor": "#E5ECF6",
            "gridcolor": "white",
            "gridwidth": 2,
            "linecolor": "white",
            "showbackground": true,
            "ticks": "",
            "zerolinecolor": "white"
           },
           "zaxis": {
            "backgroundcolor": "#E5ECF6",
            "gridcolor": "white",
            "gridwidth": 2,
            "linecolor": "white",
            "showbackground": true,
            "ticks": "",
            "zerolinecolor": "white"
           }
          },
          "shapedefaults": {
           "line": {
            "color": "#2a3f5f"
           }
          },
          "ternary": {
           "aaxis": {
            "gridcolor": "white",
            "linecolor": "white",
            "ticks": ""
           },
           "baxis": {
            "gridcolor": "white",
            "linecolor": "white",
            "ticks": ""
           },
           "bgcolor": "#E5ECF6",
           "caxis": {
            "gridcolor": "white",
            "linecolor": "white",
            "ticks": ""
           }
          },
          "title": {
           "x": 0.05
          },
          "xaxis": {
           "automargin": true,
           "gridcolor": "white",
           "linecolor": "white",
           "ticks": "",
           "title": {
            "standoff": 15
           },
           "zerolinecolor": "white",
           "zerolinewidth": 2
          },
          "yaxis": {
           "automargin": true,
           "gridcolor": "white",
           "linecolor": "white",
           "ticks": "",
           "title": {
            "standoff": 15
           },
           "zerolinecolor": "white",
           "zerolinewidth": 2
          }
         }
        },
        "title": {
         "text": "Relative abundance V3-V4 Kraken2-Bracken"
        },
        "width": 1200,
        "xaxis": {
         "anchor": "y",
         "domain": [
          0,
          1
         ],
         "matches": "x2",
         "showticklabels": false
        },
        "xaxis2": {
         "anchor": "y2",
         "domain": [
          0,
          1
         ],
         "title": {
          "text": "Samples"
         }
        },
        "yaxis": {
         "anchor": "x",
         "domain": [
          0.575,
          1
         ],
         "dtick": 5,
         "tick0": 0,
         "tickmode": "linear",
         "title": {
          "text": "Value"
         }
        },
        "yaxis2": {
         "anchor": "x2",
         "domain": [
          0,
          0.425
         ],
         "title": {
          "text": "Relative frequency (%)"
         }
        }
       }
      }
     },
     "metadata": {},
     "output_type": "display_data"
    }
   ],
   "source": [
    "bracken_file_relative_abun=bracken_file.loc[:,\"name\":]\n",
    "fig = make_subplots(rows=2, cols=1, shared_xaxes=True)\n",
    "\n",
    "sample_names=bracken_file_relative_abun.iloc[:,1:].columns\n",
    "bracken_file_relative_abun[\"name\"] = bracken_file_relative_abun[\"name\"].apply(lambda x:x.strip())\n",
    "\n",
    "# Number of bars\n",
    "num_bars = len(bracken_file_relative_abun[\"name\"])\n",
    "\n",
    "# Generate colors using a predefined colorscale (Viridis, Cividis, etc.)\n",
    "colors = px.colors.sample_colorscale('spectral', np.linspace(0, 1, num_bars))\n",
    "\n",
    "## Composition bars\n",
    "for i in range(0, len(bracken_file_relative_abun[\"name\"])):\n",
    "        fig.add_bar(name=bracken_file_relative_abun.iloc[i,0].strip(),\n",
    "                        x=sample_names,y=bracken_file_relative_abun.iloc[i,1:],\n",
    "                        row=2, col=1, marker=dict(color=colors[i])\n",
    "                    )\n",
    "\n",
    "## Diversity bars\n",
    "width=0.4\n",
    "offset=0.2\n",
    "fig.add_bar(y=alpha_data[\"shannon\"].to_list(), showlegend=False,\n",
    "                        row=1, col=1, width=width,offset=offset,\n",
    "                        text=\"shannon\", textangle=360, textposition='outside'\n",
    "                    )\n",
    "fig.add_bar(y=alpha_data[\"simpson_reciprocal\"], showlegend=False,\n",
    "                        row=1, col=1, width=width,\n",
    "                        text=\"simpson\", textangle=360, textposition='outside'\n",
    "                    )\n",
    "\n",
    "fig.update_layout(barmode='stack',\n",
    "    autosize=True,\n",
    "    width=1200,\n",
    "    height=800,\n",
    "    title_text=\"Relative abundance V3-V4 Kraken2-Bracken\"\n",
    "    )\n",
    "\n",
    "\n",
    "## Composition bars\n",
    "fig.update_yaxes(title_text=\"Relative frequency (%)\", row=2, col=1)\n",
    "fig.update_xaxes(title_text=\"Samples\", row=2, col=1)\n",
    "\n",
    "## Diversity bars\n",
    "fig.update_traces(dict(base='group'), row=1, col=1, overwrite=True)\n",
    "fig.update_yaxes(dict(title_text=\"Value\", tickmode=\"linear\", tick0=0, dtick=5), row=1, col=1, overwrite=True)\n",
    "\n"
   ]
  },
  {
   "cell_type": "code",
   "execution_count": 514,
   "metadata": {},
   "outputs": [],
   "source": [
    "import seaborn as sns\n",
    "import matplotlib.pyplot as plt"
   ]
  },
  {
   "cell_type": "code",
   "execution_count": 515,
   "metadata": {},
   "outputs": [
    {
     "data": {
      "text/html": [
       "<div>\n",
       "<style scoped>\n",
       "    .dataframe tbody tr th:only-of-type {\n",
       "        vertical-align: middle;\n",
       "    }\n",
       "\n",
       "    .dataframe tbody tr th {\n",
       "        vertical-align: top;\n",
       "    }\n",
       "\n",
       "    .dataframe thead th {\n",
       "        text-align: right;\n",
       "    }\n",
       "</style>\n",
       "<table border=\"1\" class=\"dataframe\">\n",
       "  <thead>\n",
       "    <tr style=\"text-align: right;\">\n",
       "      <th></th>\n",
       "      <th>G1_1_RelAbun</th>\n",
       "      <th>G2_1_RelAbun</th>\n",
       "      <th>G3_1_RelAbun</th>\n",
       "      <th>G4_1_RelAbun</th>\n",
       "      <th>G5_1_RelAbun</th>\n",
       "      <th>G6_1_RelAbun</th>\n",
       "    </tr>\n",
       "    <tr>\n",
       "      <th>name</th>\n",
       "      <th></th>\n",
       "      <th></th>\n",
       "      <th></th>\n",
       "      <th></th>\n",
       "      <th></th>\n",
       "      <th></th>\n",
       "    </tr>\n",
       "  </thead>\n",
       "  <tbody>\n",
       "    <tr>\n",
       "      <th>Pseudomonas</th>\n",
       "      <td>9.143152</td>\n",
       "      <td>2.377387</td>\n",
       "      <td>37.917381</td>\n",
       "      <td>26.975064</td>\n",
       "      <td>31.096310</td>\n",
       "      <td>27.970466</td>\n",
       "    </tr>\n",
       "    <tr>\n",
       "      <th>Thiopseudomonas</th>\n",
       "      <td>2.849671</td>\n",
       "      <td>0.109726</td>\n",
       "      <td>0.193280</td>\n",
       "      <td>10.643450</td>\n",
       "      <td>1.360833</td>\n",
       "      <td>0.413500</td>\n",
       "    </tr>\n",
       "    <tr>\n",
       "      <th>Advenella</th>\n",
       "      <td>1.139191</td>\n",
       "      <td>0.210480</td>\n",
       "      <td>2.208617</td>\n",
       "      <td>13.180878</td>\n",
       "      <td>1.213245</td>\n",
       "      <td>1.770403</td>\n",
       "    </tr>\n",
       "    <tr>\n",
       "      <th>Parapusillimonas</th>\n",
       "      <td>0.232747</td>\n",
       "      <td>0.038645</td>\n",
       "      <td>0.236115</td>\n",
       "      <td>2.392945</td>\n",
       "      <td>2.132829</td>\n",
       "      <td>0.512984</td>\n",
       "    </tr>\n",
       "    <tr>\n",
       "      <th>Thauera</th>\n",
       "      <td>0.006771</td>\n",
       "      <td>0.024153</td>\n",
       "      <td>0.078357</td>\n",
       "      <td>1.282415</td>\n",
       "      <td>1.967077</td>\n",
       "      <td>18.242050</td>\n",
       "    </tr>\n",
       "  </tbody>\n",
       "</table>\n",
       "</div>"
      ],
      "text/plain": [
       "                  G1_1_RelAbun  G2_1_RelAbun  G3_1_RelAbun  G4_1_RelAbun  \\\n",
       "name                                                                       \n",
       "Pseudomonas           9.143152      2.377387     37.917381     26.975064   \n",
       "Thiopseudomonas       2.849671      0.109726      0.193280     10.643450   \n",
       "Advenella             1.139191      0.210480      2.208617     13.180878   \n",
       "Parapusillimonas      0.232747      0.038645      0.236115      2.392945   \n",
       "Thauera               0.006771      0.024153      0.078357      1.282415   \n",
       "\n",
       "                  G5_1_RelAbun  G6_1_RelAbun  \n",
       "name                                          \n",
       "Pseudomonas          31.096310     27.970466  \n",
       "Thiopseudomonas       1.360833      0.413500  \n",
       "Advenella             1.213245      1.770403  \n",
       "Parapusillimonas      2.132829      0.512984  \n",
       "Thauera               1.967077     18.242050  "
      ]
     },
     "execution_count": 515,
     "metadata": {},
     "output_type": "execute_result"
    }
   ],
   "source": [
    "duplicates=bracken_file_relative_abun[\"name\"].duplicated()\n",
    "for i in bracken_file_relative_abun[duplicates].index:\n",
    "    bracken_file_relative_abun.loc[i,\"name\"] = bracken_file_relative_abun.loc[i,\"name\"] + str(i)\n",
    "bracken_file_relative_abun.set_index(keys=\"name\",inplace=True)\n",
    "bracken_file_relative_abun.head()"
   ]
  },
  {
   "cell_type": "code",
   "execution_count": 516,
   "metadata": {},
   "outputs": [
    {
     "data": {
      "image/png": "[encoded data removed]",
      "text/plain": [
       "<Figure size 1000x800 with 2 Axes>"
      ]
     },
     "metadata": {},
     "output_type": "display_data"
    }
   ],
   "source": [
    "fig = plt.figure(figsize=(10,8))\n",
    "heatmap=sns.heatmap(bracken_file_relative_abun, cmap=\"gnuplot\", annot=True)\n",
    "heatmap.set_ylabel(\"Genus\")\n",
    "heatmap.set_xlabel(\"Samples\")\n",
    "plt.xticks(rotation=90)\n",
    "plt.tight_layout()\n",
    "#fig.savefig('heatmap_samples_vs_genus.png', format='png', dpi=1200)"
   ]
  },
  {
   "cell_type": "code",
   "execution_count": 517,
   "metadata": {},
   "outputs": [
    {
     "data": {
      "text/html": [
       "<div>\n",
       "<style scoped>\n",
       "    .dataframe tbody tr th:only-of-type {\n",
       "        vertical-align: middle;\n",
       "    }\n",
       "\n",
       "    .dataframe tbody tr th {\n",
       "        vertical-align: top;\n",
       "    }\n",
       "\n",
       "    .dataframe thead th {\n",
       "        text-align: right;\n",
       "    }\n",
       "</style>\n",
       "<table border=\"1\" class=\"dataframe\">\n",
       "  <thead>\n",
       "    <tr style=\"text-align: right;\">\n",
       "      <th></th>\n",
       "      <th>#perc</th>\n",
       "      <th>tot_all</th>\n",
       "      <th>tot_lvl</th>\n",
       "      <th>G1_1_all</th>\n",
       "      <th>G1_1_lvl</th>\n",
       "      <th>G2_1_all</th>\n",
       "      <th>G2_1_lvl</th>\n",
       "      <th>G3_1_all</th>\n",
       "      <th>G3_1_lvl</th>\n",
       "      <th>G4_1_all</th>\n",
       "      <th>...</th>\n",
       "      <th>G6_1_lvl</th>\n",
       "      <th>lvl_type</th>\n",
       "      <th>taxid</th>\n",
       "      <th>name</th>\n",
       "      <th>G1_1_RelAbun</th>\n",
       "      <th>G2_1_RelAbun</th>\n",
       "      <th>G3_1_RelAbun</th>\n",
       "      <th>G4_1_RelAbun</th>\n",
       "      <th>G5_1_RelAbun</th>\n",
       "      <th>G6_1_RelAbun</th>\n",
       "    </tr>\n",
       "  </thead>\n",
       "  <tbody>\n",
       "    <tr>\n",
       "      <th>7</th>\n",
       "      <td>14.4211</td>\n",
       "      <td>187100</td>\n",
       "      <td>187100</td>\n",
       "      <td>10803</td>\n",
       "      <td>10803</td>\n",
       "      <td>3445</td>\n",
       "      <td>3445</td>\n",
       "      <td>36293</td>\n",
       "      <td>36293</td>\n",
       "      <td>54143</td>\n",
       "      <td>...</td>\n",
       "      <td>41330</td>\n",
       "      <td>G</td>\n",
       "      <td>3723</td>\n",
       "      <td>Pseudomonas</td>\n",
       "      <td>9.143152</td>\n",
       "      <td>2.377387</td>\n",
       "      <td>37.917381</td>\n",
       "      <td>26.975064</td>\n",
       "      <td>31.096310</td>\n",
       "      <td>27.970466</td>\n",
       "    </tr>\n",
       "    <tr>\n",
       "      <th>8</th>\n",
       "      <td>2.1183</td>\n",
       "      <td>27483</td>\n",
       "      <td>27483</td>\n",
       "      <td>3367</td>\n",
       "      <td>3367</td>\n",
       "      <td>159</td>\n",
       "      <td>159</td>\n",
       "      <td>185</td>\n",
       "      <td>185</td>\n",
       "      <td>21363</td>\n",
       "      <td>...</td>\n",
       "      <td>611</td>\n",
       "      <td>G</td>\n",
       "      <td>14683</td>\n",
       "      <td>Thiopseudomonas</td>\n",
       "      <td>2.849671</td>\n",
       "      <td>0.109726</td>\n",
       "      <td>0.193280</td>\n",
       "      <td>10.643450</td>\n",
       "      <td>1.360833</td>\n",
       "      <td>0.413500</td>\n",
       "    </tr>\n",
       "    <tr>\n",
       "      <th>103</th>\n",
       "      <td>2.6545</td>\n",
       "      <td>34440</td>\n",
       "      <td>34440</td>\n",
       "      <td>1346</td>\n",
       "      <td>1346</td>\n",
       "      <td>305</td>\n",
       "      <td>305</td>\n",
       "      <td>2114</td>\n",
       "      <td>2114</td>\n",
       "      <td>26456</td>\n",
       "      <td>...</td>\n",
       "      <td>2616</td>\n",
       "      <td>G</td>\n",
       "      <td>46191</td>\n",
       "      <td>Advenella</td>\n",
       "      <td>1.139191</td>\n",
       "      <td>0.210480</td>\n",
       "      <td>2.208617</td>\n",
       "      <td>13.180878</td>\n",
       "      <td>1.213245</td>\n",
       "      <td>1.770403</td>\n",
       "    </tr>\n",
       "    <tr>\n",
       "      <th>106</th>\n",
       "      <td>0.6888</td>\n",
       "      <td>8936</td>\n",
       "      <td>8936</td>\n",
       "      <td>275</td>\n",
       "      <td>275</td>\n",
       "      <td>56</td>\n",
       "      <td>56</td>\n",
       "      <td>226</td>\n",
       "      <td>226</td>\n",
       "      <td>4803</td>\n",
       "      <td>...</td>\n",
       "      <td>758</td>\n",
       "      <td>G</td>\n",
       "      <td>46206</td>\n",
       "      <td>Parapusillimonas</td>\n",
       "      <td>0.232747</td>\n",
       "      <td>0.038645</td>\n",
       "      <td>0.236115</td>\n",
       "      <td>2.392945</td>\n",
       "      <td>2.132829</td>\n",
       "      <td>0.512984</td>\n",
       "    </tr>\n",
       "    <tr>\n",
       "      <th>129</th>\n",
       "      <td>2.4854</td>\n",
       "      <td>32246</td>\n",
       "      <td>32246</td>\n",
       "      <td>8</td>\n",
       "      <td>8</td>\n",
       "      <td>35</td>\n",
       "      <td>35</td>\n",
       "      <td>75</td>\n",
       "      <td>75</td>\n",
       "      <td>2574</td>\n",
       "      <td>...</td>\n",
       "      <td>26955</td>\n",
       "      <td>G</td>\n",
       "      <td>46425</td>\n",
       "      <td>Thauera</td>\n",
       "      <td>0.006771</td>\n",
       "      <td>0.024153</td>\n",
       "      <td>0.078357</td>\n",
       "      <td>1.282415</td>\n",
       "      <td>1.967077</td>\n",
       "      <td>18.242050</td>\n",
       "    </tr>\n",
       "  </tbody>\n",
       "</table>\n",
       "<p>5 rows × 24 columns</p>\n",
       "</div>"
      ],
      "text/plain": [
       "       #perc  tot_all  tot_lvl  G1_1_all  G1_1_lvl  G2_1_all  G2_1_lvl  \\\n",
       "7    14.4211   187100   187100     10803     10803      3445      3445   \n",
       "8     2.1183    27483    27483      3367      3367       159       159   \n",
       "103   2.6545    34440    34440      1346      1346       305       305   \n",
       "106   0.6888     8936     8936       275       275        56        56   \n",
       "129   2.4854    32246    32246         8         8        35        35   \n",
       "\n",
       "     G3_1_all  G3_1_lvl  G4_1_all  ...  G6_1_lvl  lvl_type  taxid  \\\n",
       "7       36293     36293     54143  ...     41330         G   3723   \n",
       "8         185       185     21363  ...       611         G  14683   \n",
       "103      2114      2114     26456  ...      2616         G  46191   \n",
       "106       226       226      4803  ...       758         G  46206   \n",
       "129        75        75      2574  ...     26955         G  46425   \n",
       "\n",
       "                             name  G1_1_RelAbun G2_1_RelAbun  G3_1_RelAbun  \\\n",
       "7                     Pseudomonas      9.143152     2.377387     37.917381   \n",
       "8                 Thiopseudomonas      2.849671     0.109726      0.193280   \n",
       "103                     Advenella      1.139191     0.210480      2.208617   \n",
       "106              Parapusillimonas      0.232747     0.038645      0.236115   \n",
       "129                       Thauera      0.006771     0.024153      0.078357   \n",
       "\n",
       "    G4_1_RelAbun  G5_1_RelAbun  G6_1_RelAbun  \n",
       "7      26.975064     31.096310     27.970466  \n",
       "8      10.643450      1.360833      0.413500  \n",
       "103    13.180878      1.213245      1.770403  \n",
       "106     2.392945      2.132829      0.512984  \n",
       "129     1.282415      1.967077     18.242050  \n",
       "\n",
       "[5 rows x 24 columns]"
      ]
     },
     "execution_count": 517,
     "metadata": {},
     "output_type": "execute_result"
    }
   ],
   "source": [
    "bracken_file.head()"
   ]
  },
  {
   "cell_type": "code",
   "execution_count": 518,
   "metadata": {},
   "outputs": [
    {
     "data": {
      "text/plain": [
       "<Figure size 1000x800 with 0 Axes>"
      ]
     },
     "metadata": {},
     "output_type": "display_data"
    },
    {
     "data": {
      "image/png": "[encoded data removed]",
      "text/plain": [
       "<Figure size 1000x1000 with 3 Axes>"
      ]
     },
     "metadata": {},
     "output_type": "display_data"
    }
   ],
   "source": [
    "fig = plt.figure(figsize=(10,8))\n",
    "correlation=bracken_file_relative_abun.T.corr()\n",
    "cluster_plot = sns.clustermap(correlation, cmap=\"mako\")\n",
    "cluster_plot.ax_row_dendrogram.remove()\n",
    "#fig.savefig('clustermap_samples_vs_genus.png', format='png', dpi=1200)\n",
    "cluster_plot.savefig('clustermap_samples_vs_genus.png', format='png', dpi=1200)"
   ]
  }
 ],
 "metadata": {
  "kernelspec": {
   "display_name": "MAUS",
   "language": "python",
   "name": "python3"
  },
  "language_info": {
   "codemirror_mode": {
    "name": "ipython",
    "version": 3
   },
   "file_extension": ".py",
   "mimetype": "text/x-python",
   "name": "python",
   "nbconvert_exporter": "python",
   "pygments_lexer": "ipython3",
   "version": "3.8.20"
  }
 },
 "nbformat": 4,
 "nbformat_minor": 2
}
