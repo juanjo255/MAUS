{
 "cells": [
  {
   "cell_type": "code",
   "execution_count": 229,
   "metadata": {},
   "outputs": [],
   "source": [
    "import pandas as pd\n",
    "import numpy as np"
   ]
  },
  {
   "cell_type": "code",
   "execution_count": 250,
   "metadata": {},
   "outputs": [
    {
     "data": {
      "text/html": [
       "<div>\n",
       "<style scoped>\n",
       "    .dataframe tbody tr th:only-of-type {\n",
       "        vertical-align: middle;\n",
       "    }\n",
       "\n",
       "    .dataframe tbody tr th {\n",
       "        vertical-align: top;\n",
       "    }\n",
       "\n",
       "    .dataframe thead th {\n",
       "        text-align: right;\n",
       "    }\n",
       "</style>\n",
       "<table border=\"1\" class=\"dataframe\">\n",
       "  <thead>\n",
       "    <tr style=\"text-align: right;\">\n",
       "      <th></th>\n",
       "      <th>#perc</th>\n",
       "      <th>tot_all</th>\n",
       "      <th>tot_lvl</th>\n",
       "      <th>G1_1_all</th>\n",
       "      <th>G1_1_lvl</th>\n",
       "      <th>G2_1_all</th>\n",
       "      <th>G2_1_lvl</th>\n",
       "      <th>G3_1_all</th>\n",
       "      <th>G3_1_lvl</th>\n",
       "      <th>G4_1_all</th>\n",
       "      <th>G4_1_lvl</th>\n",
       "      <th>G5_1_all</th>\n",
       "      <th>G5_1_lvl</th>\n",
       "      <th>G6_1_all</th>\n",
       "      <th>G6_1_lvl</th>\n",
       "      <th>lvl_type</th>\n",
       "      <th>taxid</th>\n",
       "      <th>name</th>\n",
       "    </tr>\n",
       "  </thead>\n",
       "  <tbody>\n",
       "    <tr>\n",
       "      <th>104</th>\n",
       "      <td>37.4598</td>\n",
       "      <td>66523</td>\n",
       "      <td>66523</td>\n",
       "      <td>302</td>\n",
       "      <td>302</td>\n",
       "      <td>1367</td>\n",
       "      <td>1367</td>\n",
       "      <td>35853</td>\n",
       "      <td>35853</td>\n",
       "      <td>1001</td>\n",
       "      <td>1001</td>\n",
       "      <td>1485</td>\n",
       "      <td>1485</td>\n",
       "      <td>26515</td>\n",
       "      <td>26515</td>\n",
       "      <td>O</td>\n",
       "      <td>45726</td>\n",
       "      <td>MBA03</td>\n",
       "    </tr>\n",
       "  </tbody>\n",
       "</table>\n",
       "</div>"
      ],
      "text/plain": [
       "       #perc  tot_all  tot_lvl  G1_1_all  G1_1_lvl  G2_1_all  G2_1_lvl  \\\n",
       "104  37.4598    66523    66523       302       302      1367      1367   \n",
       "\n",
       "     G3_1_all  G3_1_lvl  G4_1_all  G4_1_lvl  G5_1_all  G5_1_lvl  G6_1_all  \\\n",
       "104     35853     35853      1001      1001      1485      1485     26515   \n",
       "\n",
       "     G6_1_lvl lvl_type  taxid           name  \n",
       "104     26515        O  45726          MBA03  "
      ]
     },
     "execution_count": 250,
     "metadata": {},
     "output_type": "execute_result"
    }
   ],
   "source": [
    "## Open file\n",
    "number_samples = 6\n",
    "bracken_file=pd.read_csv(filepath_or_buffer='/Volumes/PiconCossio/biocomp_tools/MAUS/utils/all_orders_bracken_report_V3-V4.txt', \n",
    "                        delimiter='\\t', skiprows=8)"
   ]
  },
  {
   "cell_type": "code",
   "execution_count": 231,
   "metadata": {},
   "outputs": [],
   "source": [
    "import os\n",
    "alpha_diversity_raw={\"sample\":[], \"shannon\":[], \"simpson_reciprocal\":[]}\n",
    "for i in os.listdir():\n",
    "    if i.startswith(\"G\"):\n",
    "        handler=open(i)\n",
    "        handler=handler.readlines()\n",
    "        ## select lines 0 and 3 which are Shannon and Simpson's Reciprocal Index\n",
    "        alpha_diversity_raw[\"sample\"].append(i[:4])\n",
    "        alpha_diversity_raw[\"shannon\"].append(round(float(handler[0].split(\" \")[2].strip()),2))\n",
    "        alpha_diversity_raw[\"simpson_reciprocal\"].append(round(float(handler[3].split(\" \")[3].strip()),2))\n",
    "alpha_data=pd.DataFrame(alpha_diversity_raw)\n",
    "alpha_data.sort_values(by=\"sample\",inplace=True)"
   ]
  },
  {
   "cell_type": "code",
   "execution_count": 232,
   "metadata": {},
   "outputs": [],
   "source": [
    "## compute relative abundance (RelAbun)\n",
    "def compute_relative_abun (df, number_samples=6):\n",
    "    for i in range(1, number_samples+1):\n",
    "        i = str(i)\n",
    "        df[f\"G{i}_1_RelAbun\"] = df[f\"G{i}_1_all\"]/df[f\"G{i}_1_all\"].sum() * 100\n",
    "    return df"
   ]
  },
  {
   "cell_type": "code",
   "execution_count": 233,
   "metadata": {},
   "outputs": [],
   "source": [
    "bracken_file=compute_relative_abun(df=bracken_file, number_samples=number_samples)\n",
    "min_abundance=0.5\n",
    "def filter_by_abundance_conditional (df, number_samples, min_abundance, min_samples):\n",
    "    ## This is intended to mimic the taxa filter by abundance conditionally of qiime2\n",
    "    ## Select taxa that have at least n abundance in at least n samples \n",
    "    df = df[(df.iloc[:,number_samples*-1:] >= min_abundance).sum(axis=1) >= min_samples]\n",
    "    return df\n",
    "\n",
    "bracken_file = filter_by_abundance_conditional (df=bracken_file, \n",
    "                                                number_samples=number_samples,\n",
    "                                                min_abundance=min_abundance, \n",
    "                                                min_samples=2)\n",
    "bracken_file=compute_relative_abun(df=bracken_file, number_samples=number_samples)"
   ]
  },
  {
   "cell_type": "code",
   "execution_count": 234,
   "metadata": {},
   "outputs": [
    {
     "data": {
      "text/html": [
       "<div>\n",
       "<style scoped>\n",
       "    .dataframe tbody tr th:only-of-type {\n",
       "        vertical-align: middle;\n",
       "    }\n",
       "\n",
       "    .dataframe tbody tr th {\n",
       "        vertical-align: top;\n",
       "    }\n",
       "\n",
       "    .dataframe thead th {\n",
       "        text-align: right;\n",
       "    }\n",
       "</style>\n",
       "<table border=\"1\" class=\"dataframe\">\n",
       "  <thead>\n",
       "    <tr style=\"text-align: right;\">\n",
       "      <th></th>\n",
       "      <th>#perc</th>\n",
       "      <th>tot_all</th>\n",
       "      <th>tot_lvl</th>\n",
       "      <th>G1_1_all</th>\n",
       "      <th>G1_1_lvl</th>\n",
       "      <th>G2_1_all</th>\n",
       "      <th>G2_1_lvl</th>\n",
       "      <th>G3_1_all</th>\n",
       "      <th>G3_1_lvl</th>\n",
       "      <th>G4_1_all</th>\n",
       "      <th>...</th>\n",
       "      <th>G6_1_lvl</th>\n",
       "      <th>lvl_type</th>\n",
       "      <th>taxid</th>\n",
       "      <th>name</th>\n",
       "      <th>G1_1_RelAbun</th>\n",
       "      <th>G2_1_RelAbun</th>\n",
       "      <th>G3_1_RelAbun</th>\n",
       "      <th>G4_1_RelAbun</th>\n",
       "      <th>G5_1_RelAbun</th>\n",
       "      <th>G6_1_RelAbun</th>\n",
       "    </tr>\n",
       "  </thead>\n",
       "  <tbody>\n",
       "    <tr>\n",
       "      <th>5</th>\n",
       "      <td>13.7050</td>\n",
       "      <td>119259</td>\n",
       "      <td>0</td>\n",
       "      <td>7121</td>\n",
       "      <td>0</td>\n",
       "      <td>2258</td>\n",
       "      <td>0</td>\n",
       "      <td>23811</td>\n",
       "      <td>0</td>\n",
       "      <td>39253</td>\n",
       "      <td>...</td>\n",
       "      <td>0</td>\n",
       "      <td>O</td>\n",
       "      <td>3709</td>\n",
       "      <td>Pseudomonadales</td>\n",
       "      <td>5.396087</td>\n",
       "      <td>1.496732</td>\n",
       "      <td>26.714611</td>\n",
       "      <td>24.326200</td>\n",
       "      <td>16.261131</td>\n",
       "      <td>18.559341</td>\n",
       "    </tr>\n",
       "    <tr>\n",
       "      <th>86</th>\n",
       "      <td>11.4611</td>\n",
       "      <td>99733</td>\n",
       "      <td>0</td>\n",
       "      <td>6080</td>\n",
       "      <td>0</td>\n",
       "      <td>3368</td>\n",
       "      <td>0</td>\n",
       "      <td>16490</td>\n",
       "      <td>0</td>\n",
       "      <td>35072</td>\n",
       "      <td>...</td>\n",
       "      <td>0</td>\n",
       "      <td>O</td>\n",
       "      <td>46187</td>\n",
       "      <td>Burkholderiales</td>\n",
       "      <td>4.607247</td>\n",
       "      <td>2.232504</td>\n",
       "      <td>18.500858</td>\n",
       "      <td>21.735116</td>\n",
       "      <td>6.738249</td>\n",
       "      <td>22.460617</td>\n",
       "    </tr>\n",
       "    <tr>\n",
       "      <th>280</th>\n",
       "      <td>2.6130</td>\n",
       "      <td>22738</td>\n",
       "      <td>0</td>\n",
       "      <td>157</td>\n",
       "      <td>0</td>\n",
       "      <td>3049</td>\n",
       "      <td>0</td>\n",
       "      <td>1637</td>\n",
       "      <td>0</td>\n",
       "      <td>5469</td>\n",
       "      <td>...</td>\n",
       "      <td>0</td>\n",
       "      <td>O</td>\n",
       "      <td>46449</td>\n",
       "      <td>Enterobacterales</td>\n",
       "      <td>0.118970</td>\n",
       "      <td>2.021052</td>\n",
       "      <td>1.836622</td>\n",
       "      <td>3.389295</td>\n",
       "      <td>5.458140</td>\n",
       "      <td>3.716301</td>\n",
       "    </tr>\n",
       "    <tr>\n",
       "      <th>398</th>\n",
       "      <td>0.4778</td>\n",
       "      <td>4158</td>\n",
       "      <td>0</td>\n",
       "      <td>304</td>\n",
       "      <td>0</td>\n",
       "      <td>762</td>\n",
       "      <td>0</td>\n",
       "      <td>706</td>\n",
       "      <td>0</td>\n",
       "      <td>1212</td>\n",
       "      <td>...</td>\n",
       "      <td>0</td>\n",
       "      <td>O</td>\n",
       "      <td>3786</td>\n",
       "      <td>Xanthomonadales</td>\n",
       "      <td>0.230362</td>\n",
       "      <td>0.505097</td>\n",
       "      <td>0.792093</td>\n",
       "      <td>0.751111</td>\n",
       "      <td>0.377394</td>\n",
       "      <td>0.497596</td>\n",
       "    </tr>\n",
       "    <tr>\n",
       "      <th>531</th>\n",
       "      <td>4.7332</td>\n",
       "      <td>41188</td>\n",
       "      <td>0</td>\n",
       "      <td>7778</td>\n",
       "      <td>0</td>\n",
       "      <td>5146</td>\n",
       "      <td>0</td>\n",
       "      <td>9932</td>\n",
       "      <td>0</td>\n",
       "      <td>10852</td>\n",
       "      <td>...</td>\n",
       "      <td>0</td>\n",
       "      <td>O</td>\n",
       "      <td>2421</td>\n",
       "      <td>Rhizobiales</td>\n",
       "      <td>5.893942</td>\n",
       "      <td>3.411064</td>\n",
       "      <td>11.143149</td>\n",
       "      <td>6.725293</td>\n",
       "      <td>2.497438</td>\n",
       "      <td>3.071949</td>\n",
       "    </tr>\n",
       "    <tr>\n",
       "      <th>643</th>\n",
       "      <td>2.0673</td>\n",
       "      <td>17989</td>\n",
       "      <td>0</td>\n",
       "      <td>5852</td>\n",
       "      <td>0</td>\n",
       "      <td>271</td>\n",
       "      <td>0</td>\n",
       "      <td>589</td>\n",
       "      <td>0</td>\n",
       "      <td>652</td>\n",
       "      <td>...</td>\n",
       "      <td>0</td>\n",
       "      <td>O</td>\n",
       "      <td>2823</td>\n",
       "      <td>Sphingomonadales</td>\n",
       "      <td>4.434476</td>\n",
       "      <td>0.179634</td>\n",
       "      <td>0.660825</td>\n",
       "      <td>0.404063</td>\n",
       "      <td>7.366758</td>\n",
       "      <td>0.317972</td>\n",
       "    </tr>\n",
       "    <tr>\n",
       "      <th>730</th>\n",
       "      <td>0.4075</td>\n",
       "      <td>3546</td>\n",
       "      <td>0</td>\n",
       "      <td>733</td>\n",
       "      <td>0</td>\n",
       "      <td>342</td>\n",
       "      <td>0</td>\n",
       "      <td>650</td>\n",
       "      <td>0</td>\n",
       "      <td>644</td>\n",
       "      <td>...</td>\n",
       "      <td>0</td>\n",
       "      <td>O</td>\n",
       "      <td>2386</td>\n",
       "      <td>Caulobacterales</td>\n",
       "      <td>0.555446</td>\n",
       "      <td>0.226697</td>\n",
       "      <td>0.729264</td>\n",
       "      <td>0.399105</td>\n",
       "      <td>0.572946</td>\n",
       "      <td>0.292749</td>\n",
       "    </tr>\n",
       "    <tr>\n",
       "      <th>904</th>\n",
       "      <td>5.3145</td>\n",
       "      <td>46246</td>\n",
       "      <td>0</td>\n",
       "      <td>11891</td>\n",
       "      <td>0</td>\n",
       "      <td>24823</td>\n",
       "      <td>0</td>\n",
       "      <td>1713</td>\n",
       "      <td>0</td>\n",
       "      <td>1941</td>\n",
       "      <td>...</td>\n",
       "      <td>0</td>\n",
       "      <td>O</td>\n",
       "      <td>45370</td>\n",
       "      <td>Eubacteriales</td>\n",
       "      <td>9.010654</td>\n",
       "      <td>16.454110</td>\n",
       "      <td>1.921890</td>\n",
       "      <td>1.202893</td>\n",
       "      <td>3.623847</td>\n",
       "      <td>0.654289</td>\n",
       "    </tr>\n",
       "    <tr>\n",
       "      <th>917</th>\n",
       "      <td>3.7525</td>\n",
       "      <td>32654</td>\n",
       "      <td>0</td>\n",
       "      <td>6064</td>\n",
       "      <td>0</td>\n",
       "      <td>6945</td>\n",
       "      <td>0</td>\n",
       "      <td>11436</td>\n",
       "      <td>0</td>\n",
       "      <td>1292</td>\n",
       "      <td>...</td>\n",
       "      <td>0</td>\n",
       "      <td>O</td>\n",
       "      <td>45570</td>\n",
       "      <td>Peptostreptococcales-Tissierellales</td>\n",
       "      <td>4.595123</td>\n",
       "      <td>4.603545</td>\n",
       "      <td>12.830553</td>\n",
       "      <td>0.800689</td>\n",
       "      <td>3.685183</td>\n",
       "      <td>1.383485</td>\n",
       "    </tr>\n",
       "    <tr>\n",
       "      <th>978</th>\n",
       "      <td>2.3419</td>\n",
       "      <td>20379</td>\n",
       "      <td>0</td>\n",
       "      <td>4393</td>\n",
       "      <td>0</td>\n",
       "      <td>4623</td>\n",
       "      <td>0</td>\n",
       "      <td>1502</td>\n",
       "      <td>0</td>\n",
       "      <td>2853</td>\n",
       "      <td>...</td>\n",
       "      <td>0</td>\n",
       "      <td>O</td>\n",
       "      <td>45325</td>\n",
       "      <td>Christensenellales</td>\n",
       "      <td>3.328888</td>\n",
       "      <td>3.064390</td>\n",
       "      <td>1.685160</td>\n",
       "      <td>1.768085</td>\n",
       "      <td>2.747832</td>\n",
       "      <td>2.445941</td>\n",
       "    </tr>\n",
       "    <tr>\n",
       "      <th>983</th>\n",
       "      <td>1.2123</td>\n",
       "      <td>10549</td>\n",
       "      <td>0</td>\n",
       "      <td>1342</td>\n",
       "      <td>0</td>\n",
       "      <td>1537</td>\n",
       "      <td>0</td>\n",
       "      <td>1391</td>\n",
       "      <td>0</td>\n",
       "      <td>1250</td>\n",
       "      <td>...</td>\n",
       "      <td>0</td>\n",
       "      <td>O</td>\n",
       "      <td>45508</td>\n",
       "      <td>Oscillospirales</td>\n",
       "      <td>1.016929</td>\n",
       "      <td>1.018812</td>\n",
       "      <td>1.560624</td>\n",
       "      <td>0.774661</td>\n",
       "      <td>1.563695</td>\n",
       "      <td>2.187588</td>\n",
       "    </tr>\n",
       "    <tr>\n",
       "      <th>1040</th>\n",
       "      <td>0.6686</td>\n",
       "      <td>5818</td>\n",
       "      <td>0</td>\n",
       "      <td>851</td>\n",
       "      <td>0</td>\n",
       "      <td>833</td>\n",
       "      <td>0</td>\n",
       "      <td>495</td>\n",
       "      <td>0</td>\n",
       "      <td>1041</td>\n",
       "      <td>...</td>\n",
       "      <td>0</td>\n",
       "      <td>O</td>\n",
       "      <td>45405</td>\n",
       "      <td>Lachnospirales</td>\n",
       "      <td>0.644863</td>\n",
       "      <td>0.552160</td>\n",
       "      <td>0.555362</td>\n",
       "      <td>0.645137</td>\n",
       "      <td>0.925806</td>\n",
       "      <td>1.005129</td>\n",
       "    </tr>\n",
       "    <tr>\n",
       "      <th>1165</th>\n",
       "      <td>2.4074</td>\n",
       "      <td>20949</td>\n",
       "      <td>0</td>\n",
       "      <td>3253</td>\n",
       "      <td>0</td>\n",
       "      <td>6996</td>\n",
       "      <td>0</td>\n",
       "      <td>2024</td>\n",
       "      <td>0</td>\n",
       "      <td>7121</td>\n",
       "      <td>...</td>\n",
       "      <td>0</td>\n",
       "      <td>O</td>\n",
       "      <td>45200</td>\n",
       "      <td>Erysipelotrichales</td>\n",
       "      <td>2.465029</td>\n",
       "      <td>4.637351</td>\n",
       "      <td>2.270815</td>\n",
       "      <td>4.413086</td>\n",
       "      <td>0.583770</td>\n",
       "      <td>0.570210</td>\n",
       "    </tr>\n",
       "    <tr>\n",
       "      <th>1192</th>\n",
       "      <td>1.7897</td>\n",
       "      <td>15574</td>\n",
       "      <td>0</td>\n",
       "      <td>7612</td>\n",
       "      <td>0</td>\n",
       "      <td>5958</td>\n",
       "      <td>0</td>\n",
       "      <td>453</td>\n",
       "      <td>0</td>\n",
       "      <td>112</td>\n",
       "      <td>...</td>\n",
       "      <td>0</td>\n",
       "      <td>O</td>\n",
       "      <td>45148</td>\n",
       "      <td>Acholeplasmatales</td>\n",
       "      <td>5.768152</td>\n",
       "      <td>3.949305</td>\n",
       "      <td>0.508241</td>\n",
       "      <td>0.069410</td>\n",
       "      <td>0.741799</td>\n",
       "      <td>0.314151</td>\n",
       "    </tr>\n",
       "    <tr>\n",
       "      <th>1199</th>\n",
       "      <td>0.6446</td>\n",
       "      <td>5609</td>\n",
       "      <td>0</td>\n",
       "      <td>547</td>\n",
       "      <td>0</td>\n",
       "      <td>816</td>\n",
       "      <td>0</td>\n",
       "      <td>175</td>\n",
       "      <td>0</td>\n",
       "      <td>1121</td>\n",
       "      <td>...</td>\n",
       "      <td>0</td>\n",
       "      <td>O</td>\n",
       "      <td>1800</td>\n",
       "      <td>Lactobacillales</td>\n",
       "      <td>0.414501</td>\n",
       "      <td>0.540892</td>\n",
       "      <td>0.196340</td>\n",
       "      <td>0.694716</td>\n",
       "      <td>1.273614</td>\n",
       "      <td>0.905762</td>\n",
       "    </tr>\n",
       "    <tr>\n",
       "      <th>1343</th>\n",
       "      <td>0.4767</td>\n",
       "      <td>4148</td>\n",
       "      <td>0</td>\n",
       "      <td>1138</td>\n",
       "      <td>0</td>\n",
       "      <td>1602</td>\n",
       "      <td>0</td>\n",
       "      <td>163</td>\n",
       "      <td>0</td>\n",
       "      <td>187</td>\n",
       "      <td>...</td>\n",
       "      <td>0</td>\n",
       "      <td>O</td>\n",
       "      <td>45813</td>\n",
       "      <td>Thermacetogeniales</td>\n",
       "      <td>0.862343</td>\n",
       "      <td>1.061898</td>\n",
       "      <td>0.182877</td>\n",
       "      <td>0.115889</td>\n",
       "      <td>0.627066</td>\n",
       "      <td>0.144463</td>\n",
       "    </tr>\n",
       "    <tr>\n",
       "      <th>1449</th>\n",
       "      <td>8.1757</td>\n",
       "      <td>71144</td>\n",
       "      <td>0</td>\n",
       "      <td>13685</td>\n",
       "      <td>0</td>\n",
       "      <td>15434</td>\n",
       "      <td>0</td>\n",
       "      <td>2744</td>\n",
       "      <td>0</td>\n",
       "      <td>17551</td>\n",
       "      <td>...</td>\n",
       "      <td>0</td>\n",
       "      <td>O</td>\n",
       "      <td>1387</td>\n",
       "      <td>Anaerolineales</td>\n",
       "      <td>10.370095</td>\n",
       "      <td>10.230542</td>\n",
       "      <td>3.078615</td>\n",
       "      <td>10.876854</td>\n",
       "      <td>11.831984</td>\n",
       "      <td>4.076313</td>\n",
       "    </tr>\n",
       "    <tr>\n",
       "      <th>1498</th>\n",
       "      <td>2.3190</td>\n",
       "      <td>20180</td>\n",
       "      <td>0</td>\n",
       "      <td>1439</td>\n",
       "      <td>0</td>\n",
       "      <td>2545</td>\n",
       "      <td>0</td>\n",
       "      <td>2840</td>\n",
       "      <td>0</td>\n",
       "      <td>3382</td>\n",
       "      <td>...</td>\n",
       "      <td>0</td>\n",
       "      <td>O</td>\n",
       "      <td>43677</td>\n",
       "      <td>Pseudonocardiales</td>\n",
       "      <td>1.090432</td>\n",
       "      <td>1.686972</td>\n",
       "      <td>3.186321</td>\n",
       "      <td>2.095922</td>\n",
       "      <td>3.071106</td>\n",
       "      <td>4.370591</td>\n",
       "    </tr>\n",
       "    <tr>\n",
       "      <th>1515</th>\n",
       "      <td>0.8166</td>\n",
       "      <td>7106</td>\n",
       "      <td>0</td>\n",
       "      <td>2080</td>\n",
       "      <td>0</td>\n",
       "      <td>79</td>\n",
       "      <td>0</td>\n",
       "      <td>67</td>\n",
       "      <td>0</td>\n",
       "      <td>1455</td>\n",
       "      <td>...</td>\n",
       "      <td>0</td>\n",
       "      <td>O</td>\n",
       "      <td>43376</td>\n",
       "      <td>Frankiales</td>\n",
       "      <td>1.576164</td>\n",
       "      <td>0.052366</td>\n",
       "      <td>0.075170</td>\n",
       "      <td>0.901705</td>\n",
       "      <td>1.251966</td>\n",
       "      <td>1.291763</td>\n",
       "    </tr>\n",
       "    <tr>\n",
       "      <th>1538</th>\n",
       "      <td>0.6759</td>\n",
       "      <td>5882</td>\n",
       "      <td>0</td>\n",
       "      <td>3550</td>\n",
       "      <td>0</td>\n",
       "      <td>373</td>\n",
       "      <td>0</td>\n",
       "      <td>684</td>\n",
       "      <td>0</td>\n",
       "      <td>564</td>\n",
       "      <td>...</td>\n",
       "      <td>0</td>\n",
       "      <td>O</td>\n",
       "      <td>43709</td>\n",
       "      <td>Streptomycetales</td>\n",
       "      <td>2.690087</td>\n",
       "      <td>0.247246</td>\n",
       "      <td>0.767410</td>\n",
       "      <td>0.349527</td>\n",
       "      <td>0.329769</td>\n",
       "      <td>0.194147</td>\n",
       "    </tr>\n",
       "    <tr>\n",
       "      <th>1789</th>\n",
       "      <td>3.5480</td>\n",
       "      <td>30874</td>\n",
       "      <td>0</td>\n",
       "      <td>5308</td>\n",
       "      <td>0</td>\n",
       "      <td>7734</td>\n",
       "      <td>0</td>\n",
       "      <td>460</td>\n",
       "      <td>0</td>\n",
       "      <td>9476</td>\n",
       "      <td>...</td>\n",
       "      <td>0</td>\n",
       "      <td>O</td>\n",
       "      <td>46812</td>\n",
       "      <td>Pedosphaerales</td>\n",
       "      <td>4.022248</td>\n",
       "      <td>5.126539</td>\n",
       "      <td>0.516094</td>\n",
       "      <td>5.872547</td>\n",
       "      <td>4.172259</td>\n",
       "      <td>1.615850</td>\n",
       "    </tr>\n",
       "    <tr>\n",
       "      <th>1868</th>\n",
       "      <td>2.7187</td>\n",
       "      <td>23658</td>\n",
       "      <td>0</td>\n",
       "      <td>9488</td>\n",
       "      <td>0</td>\n",
       "      <td>4011</td>\n",
       "      <td>0</td>\n",
       "      <td>1675</td>\n",
       "      <td>0</td>\n",
       "      <td>2634</td>\n",
       "      <td>...</td>\n",
       "      <td>0</td>\n",
       "      <td>O</td>\n",
       "      <td>43870</td>\n",
       "      <td>Bacteroidales</td>\n",
       "      <td>7.189731</td>\n",
       "      <td>2.658721</td>\n",
       "      <td>1.879256</td>\n",
       "      <td>1.632365</td>\n",
       "      <td>2.146022</td>\n",
       "      <td>2.198289</td>\n",
       "    </tr>\n",
       "    <tr>\n",
       "      <th>1953</th>\n",
       "      <td>0.5049</td>\n",
       "      <td>4394</td>\n",
       "      <td>0</td>\n",
       "      <td>1037</td>\n",
       "      <td>0</td>\n",
       "      <td>61</td>\n",
       "      <td>0</td>\n",
       "      <td>421</td>\n",
       "      <td>0</td>\n",
       "      <td>261</td>\n",
       "      <td>...</td>\n",
       "      <td>0</td>\n",
       "      <td>O</td>\n",
       "      <td>44004</td>\n",
       "      <td>Chitinophagales</td>\n",
       "      <td>0.785808</td>\n",
       "      <td>0.040434</td>\n",
       "      <td>0.472338</td>\n",
       "      <td>0.161749</td>\n",
       "      <td>1.746980</td>\n",
       "      <td>0.147521</td>\n",
       "    </tr>\n",
       "    <tr>\n",
       "      <th>1991</th>\n",
       "      <td>0.2943</td>\n",
       "      <td>2561</td>\n",
       "      <td>0</td>\n",
       "      <td>1233</td>\n",
       "      <td>0</td>\n",
       "      <td>116</td>\n",
       "      <td>0</td>\n",
       "      <td>1101</td>\n",
       "      <td>0</td>\n",
       "      <td>44</td>\n",
       "      <td>...</td>\n",
       "      <td>0</td>\n",
       "      <td>O</td>\n",
       "      <td>44330</td>\n",
       "      <td>Sphingobacteriales</td>\n",
       "      <td>0.934332</td>\n",
       "      <td>0.076891</td>\n",
       "      <td>1.235260</td>\n",
       "      <td>0.027268</td>\n",
       "      <td>0.023091</td>\n",
       "      <td>0.026752</td>\n",
       "    </tr>\n",
       "    <tr>\n",
       "      <th>2069</th>\n",
       "      <td>3.2734</td>\n",
       "      <td>28485</td>\n",
       "      <td>0</td>\n",
       "      <td>1260</td>\n",
       "      <td>0</td>\n",
       "      <td>1502</td>\n",
       "      <td>0</td>\n",
       "      <td>652</td>\n",
       "      <td>0</td>\n",
       "      <td>6762</td>\n",
       "      <td>...</td>\n",
       "      <td>0</td>\n",
       "      <td>O</td>\n",
       "      <td>46637</td>\n",
       "      <td>Synergistales</td>\n",
       "      <td>0.954791</td>\n",
       "      <td>0.995612</td>\n",
       "      <td>0.731508</td>\n",
       "      <td>4.190604</td>\n",
       "      <td>2.094067</td>\n",
       "      <td>11.776441</td>\n",
       "    </tr>\n",
       "    <tr>\n",
       "      <th>2090</th>\n",
       "      <td>0.7686</td>\n",
       "      <td>6688</td>\n",
       "      <td>0</td>\n",
       "      <td>1889</td>\n",
       "      <td>0</td>\n",
       "      <td>3255</td>\n",
       "      <td>0</td>\n",
       "      <td>240</td>\n",
       "      <td>0</td>\n",
       "      <td>190</td>\n",
       "      <td>...</td>\n",
       "      <td>0</td>\n",
       "      <td>O</td>\n",
       "      <td>45054</td>\n",
       "      <td>Syntrophales</td>\n",
       "      <td>1.431429</td>\n",
       "      <td>2.157601</td>\n",
       "      <td>0.269267</td>\n",
       "      <td>0.117748</td>\n",
       "      <td>0.720873</td>\n",
       "      <td>0.087901</td>\n",
       "    </tr>\n",
       "    <tr>\n",
       "      <th>2184</th>\n",
       "      <td>0.8754</td>\n",
       "      <td>7618</td>\n",
       "      <td>0</td>\n",
       "      <td>16</td>\n",
       "      <td>0</td>\n",
       "      <td>82</td>\n",
       "      <td>0</td>\n",
       "      <td>1134</td>\n",
       "      <td>0</td>\n",
       "      <td>226</td>\n",
       "      <td>...</td>\n",
       "      <td>0</td>\n",
       "      <td>O</td>\n",
       "      <td>50046</td>\n",
       "      <td>Campylobacterales</td>\n",
       "      <td>0.012124</td>\n",
       "      <td>0.054354</td>\n",
       "      <td>1.272285</td>\n",
       "      <td>0.140059</td>\n",
       "      <td>1.894185</td>\n",
       "      <td>2.702000</td>\n",
       "    </tr>\n",
       "    <tr>\n",
       "      <th>2604</th>\n",
       "      <td>6.1572</td>\n",
       "      <td>53579</td>\n",
       "      <td>0</td>\n",
       "      <td>12885</td>\n",
       "      <td>0</td>\n",
       "      <td>19404</td>\n",
       "      <td>0</td>\n",
       "      <td>2956</td>\n",
       "      <td>0</td>\n",
       "      <td>4666</td>\n",
       "      <td>...</td>\n",
       "      <td>0</td>\n",
       "      <td>O</td>\n",
       "      <td>43077</td>\n",
       "      <td>Methanosarciniales</td>\n",
       "      <td>9.763879</td>\n",
       "      <td>12.862086</td>\n",
       "      <td>3.316467</td>\n",
       "      <td>2.891653</td>\n",
       "      <td>9.207545</td>\n",
       "      <td>0.694036</td>\n",
       "    </tr>\n",
       "    <tr>\n",
       "      <th>2627</th>\n",
       "      <td>5.1158</td>\n",
       "      <td>44517</td>\n",
       "      <td>0</td>\n",
       "      <td>8989</td>\n",
       "      <td>0</td>\n",
       "      <td>19110</td>\n",
       "      <td>0</td>\n",
       "      <td>66</td>\n",
       "      <td>0</td>\n",
       "      <td>499</td>\n",
       "      <td>...</td>\n",
       "      <td>0</td>\n",
       "      <td>O</td>\n",
       "      <td>43052</td>\n",
       "      <td>Methanomicrobiales</td>\n",
       "      <td>6.811603</td>\n",
       "      <td>12.667206</td>\n",
       "      <td>0.074048</td>\n",
       "      <td>0.309244</td>\n",
       "      <td>2.462802</td>\n",
       "      <td>9.508595</td>\n",
       "    </tr>\n",
       "    <tr>\n",
       "      <th>2682</th>\n",
       "      <td>2.1387</td>\n",
       "      <td>18611</td>\n",
       "      <td>0</td>\n",
       "      <td>3009</td>\n",
       "      <td>0</td>\n",
       "      <td>5813</td>\n",
       "      <td>0</td>\n",
       "      <td>501</td>\n",
       "      <td>0</td>\n",
       "      <td>3528</td>\n",
       "      <td>...</td>\n",
       "      <td>0</td>\n",
       "      <td>O</td>\n",
       "      <td>43143</td>\n",
       "      <td>Methanomassiliicoccales</td>\n",
       "      <td>2.280133</td>\n",
       "      <td>3.853190</td>\n",
       "      <td>0.562094</td>\n",
       "      <td>2.186402</td>\n",
       "      <td>3.287584</td>\n",
       "      <td>0.920285</td>\n",
       "    </tr>\n",
       "    <tr>\n",
       "      <th>2694</th>\n",
       "      <td>0.7926</td>\n",
       "      <td>6897</td>\n",
       "      <td>0</td>\n",
       "      <td>982</td>\n",
       "      <td>0</td>\n",
       "      <td>2014</td>\n",
       "      <td>0</td>\n",
       "      <td>423</td>\n",
       "      <td>0</td>\n",
       "      <td>51</td>\n",
       "      <td>...</td>\n",
       "      <td>0</td>\n",
       "      <td>O</td>\n",
       "      <td>120</td>\n",
       "      <td>Methanobacteriales</td>\n",
       "      <td>0.744131</td>\n",
       "      <td>1.334995</td>\n",
       "      <td>0.474582</td>\n",
       "      <td>0.031606</td>\n",
       "      <td>0.715100</td>\n",
       "      <td>1.861972</td>\n",
       "    </tr>\n",
       "  </tbody>\n",
       "</table>\n",
       "<p>31 rows × 24 columns</p>\n",
       "</div>"
      ],
      "text/plain": [
       "        #perc  tot_all  tot_lvl  G1_1_all  G1_1_lvl  G2_1_all  G2_1_lvl  \\\n",
       "5     13.7050   119259        0      7121         0      2258         0   \n",
       "86    11.4611    99733        0      6080         0      3368         0   \n",
       "280    2.6130    22738        0       157         0      3049         0   \n",
       "398    0.4778     4158        0       304         0       762         0   \n",
       "531    4.7332    41188        0      7778         0      5146         0   \n",
       "643    2.0673    17989        0      5852         0       271         0   \n",
       "730    0.4075     3546        0       733         0       342         0   \n",
       "904    5.3145    46246        0     11891         0     24823         0   \n",
       "917    3.7525    32654        0      6064         0      6945         0   \n",
       "978    2.3419    20379        0      4393         0      4623         0   \n",
       "983    1.2123    10549        0      1342         0      1537         0   \n",
       "1040   0.6686     5818        0       851         0       833         0   \n",
       "1165   2.4074    20949        0      3253         0      6996         0   \n",
       "1192   1.7897    15574        0      7612         0      5958         0   \n",
       "1199   0.6446     5609        0       547         0       816         0   \n",
       "1343   0.4767     4148        0      1138         0      1602         0   \n",
       "1449   8.1757    71144        0     13685         0     15434         0   \n",
       "1498   2.3190    20180        0      1439         0      2545         0   \n",
       "1515   0.8166     7106        0      2080         0        79         0   \n",
       "1538   0.6759     5882        0      3550         0       373         0   \n",
       "1789   3.5480    30874        0      5308         0      7734         0   \n",
       "1868   2.7187    23658        0      9488         0      4011         0   \n",
       "1953   0.5049     4394        0      1037         0        61         0   \n",
       "1991   0.2943     2561        0      1233         0       116         0   \n",
       "2069   3.2734    28485        0      1260         0      1502         0   \n",
       "2090   0.7686     6688        0      1889         0      3255         0   \n",
       "2184   0.8754     7618        0        16         0        82         0   \n",
       "2604   6.1572    53579        0     12885         0     19404         0   \n",
       "2627   5.1158    44517        0      8989         0     19110         0   \n",
       "2682   2.1387    18611        0      3009         0      5813         0   \n",
       "2694   0.7926     6897        0       982         0      2014         0   \n",
       "\n",
       "      G3_1_all  G3_1_lvl  G4_1_all  ...  G6_1_lvl  lvl_type  taxid  \\\n",
       "5        23811         0     39253  ...         0         O   3709   \n",
       "86       16490         0     35072  ...         0         O  46187   \n",
       "280       1637         0      5469  ...         0         O  46449   \n",
       "398        706         0      1212  ...         0         O   3786   \n",
       "531       9932         0     10852  ...         0         O   2421   \n",
       "643        589         0       652  ...         0         O   2823   \n",
       "730        650         0       644  ...         0         O   2386   \n",
       "904       1713         0      1941  ...         0         O  45370   \n",
       "917      11436         0      1292  ...         0         O  45570   \n",
       "978       1502         0      2853  ...         0         O  45325   \n",
       "983       1391         0      1250  ...         0         O  45508   \n",
       "1040       495         0      1041  ...         0         O  45405   \n",
       "1165      2024         0      7121  ...         0         O  45200   \n",
       "1192       453         0       112  ...         0         O  45148   \n",
       "1199       175         0      1121  ...         0         O   1800   \n",
       "1343       163         0       187  ...         0         O  45813   \n",
       "1449      2744         0     17551  ...         0         O   1387   \n",
       "1498      2840         0      3382  ...         0         O  43677   \n",
       "1515        67         0      1455  ...         0         O  43376   \n",
       "1538       684         0       564  ...         0         O  43709   \n",
       "1789       460         0      9476  ...         0         O  46812   \n",
       "1868      1675         0      2634  ...         0         O  43870   \n",
       "1953       421         0       261  ...         0         O  44004   \n",
       "1991      1101         0        44  ...         0         O  44330   \n",
       "2069       652         0      6762  ...         0         O  46637   \n",
       "2090       240         0       190  ...         0         O  45054   \n",
       "2184      1134         0       226  ...         0         O  50046   \n",
       "2604      2956         0      4666  ...         0         O  43077   \n",
       "2627        66         0       499  ...         0         O  43052   \n",
       "2682       501         0      3528  ...         0         O  43143   \n",
       "2694       423         0        51  ...         0         O    120   \n",
       "\n",
       "                                             name  G1_1_RelAbun G2_1_RelAbun  \\\n",
       "5                                 Pseudomonadales      5.396087     1.496732   \n",
       "86                                Burkholderiales      4.607247     2.232504   \n",
       "280                              Enterobacterales      0.118970     2.021052   \n",
       "398                               Xanthomonadales      0.230362     0.505097   \n",
       "531                                   Rhizobiales      5.893942     3.411064   \n",
       "643                              Sphingomonadales      4.434476     0.179634   \n",
       "730                               Caulobacterales      0.555446     0.226697   \n",
       "904                                 Eubacteriales      9.010654    16.454110   \n",
       "917           Peptostreptococcales-Tissierellales      4.595123     4.603545   \n",
       "978                            Christensenellales      3.328888     3.064390   \n",
       "983                               Oscillospirales      1.016929     1.018812   \n",
       "1040                               Lachnospirales      0.644863     0.552160   \n",
       "1165                           Erysipelotrichales      2.465029     4.637351   \n",
       "1192                            Acholeplasmatales      5.768152     3.949305   \n",
       "1199                              Lactobacillales      0.414501     0.540892   \n",
       "1343                           Thermacetogeniales      0.862343     1.061898   \n",
       "1449                               Anaerolineales     10.370095    10.230542   \n",
       "1498                            Pseudonocardiales      1.090432     1.686972   \n",
       "1515                                   Frankiales      1.576164     0.052366   \n",
       "1538                             Streptomycetales      2.690087     0.247246   \n",
       "1789                               Pedosphaerales      4.022248     5.126539   \n",
       "1868                                Bacteroidales      7.189731     2.658721   \n",
       "1953                              Chitinophagales      0.785808     0.040434   \n",
       "1991                           Sphingobacteriales      0.934332     0.076891   \n",
       "2069                                Synergistales      0.954791     0.995612   \n",
       "2090                                 Syntrophales      1.431429     2.157601   \n",
       "2184                            Campylobacterales      0.012124     0.054354   \n",
       "2604                           Methanosarciniales      9.763879    12.862086   \n",
       "2627                           Methanomicrobiales      6.811603    12.667206   \n",
       "2682                      Methanomassiliicoccales      2.280133     3.853190   \n",
       "2694                           Methanobacteriales      0.744131     1.334995   \n",
       "\n",
       "      G3_1_RelAbun G4_1_RelAbun  G5_1_RelAbun  G6_1_RelAbun  \n",
       "5        26.714611    24.326200     16.261131     18.559341  \n",
       "86       18.500858    21.735116      6.738249     22.460617  \n",
       "280       1.836622     3.389295      5.458140      3.716301  \n",
       "398       0.792093     0.751111      0.377394      0.497596  \n",
       "531      11.143149     6.725293      2.497438      3.071949  \n",
       "643       0.660825     0.404063      7.366758      0.317972  \n",
       "730       0.729264     0.399105      0.572946      0.292749  \n",
       "904       1.921890     1.202893      3.623847      0.654289  \n",
       "917      12.830553     0.800689      3.685183      1.383485  \n",
       "978       1.685160     1.768085      2.747832      2.445941  \n",
       "983       1.560624     0.774661      1.563695      2.187588  \n",
       "1040      0.555362     0.645137      0.925806      1.005129  \n",
       "1165      2.270815     4.413086      0.583770      0.570210  \n",
       "1192      0.508241     0.069410      0.741799      0.314151  \n",
       "1199      0.196340     0.694716      1.273614      0.905762  \n",
       "1343      0.182877     0.115889      0.627066      0.144463  \n",
       "1449      3.078615    10.876854     11.831984      4.076313  \n",
       "1498      3.186321     2.095922      3.071106      4.370591  \n",
       "1515      0.075170     0.901705      1.251966      1.291763  \n",
       "1538      0.767410     0.349527      0.329769      0.194147  \n",
       "1789      0.516094     5.872547      4.172259      1.615850  \n",
       "1868      1.879256     1.632365      2.146022      2.198289  \n",
       "1953      0.472338     0.161749      1.746980      0.147521  \n",
       "1991      1.235260     0.027268      0.023091      0.026752  \n",
       "2069      0.731508     4.190604      2.094067     11.776441  \n",
       "2090      0.269267     0.117748      0.720873      0.087901  \n",
       "2184      1.272285     0.140059      1.894185      2.702000  \n",
       "2604      3.316467     2.891653      9.207545      0.694036  \n",
       "2627      0.074048     0.309244      2.462802      9.508595  \n",
       "2682      0.562094     2.186402      3.287584      0.920285  \n",
       "2694      0.474582     0.031606      0.715100      1.861972  \n",
       "\n",
       "[31 rows x 24 columns]"
      ]
     },
     "execution_count": 234,
     "metadata": {},
     "output_type": "execute_result"
    }
   ],
   "source": [
    "bracken_file"
   ]
  },
  {
   "cell_type": "code",
   "execution_count": 235,
   "metadata": {},
   "outputs": [],
   "source": [
    "from plotly.subplots import make_subplots\n",
    "import plotly.express as px"
   ]
  },
  {
   "cell_type": "code",
   "execution_count": 236,
   "metadata": {},
   "outputs": [
    {
     "data": {
      "application/vnd.plotly.v1+json": {
       "config": {
        "plotlyServerURL": "https://plot.ly"
       },
       "data": [
        {
         "marker": {
          "color": "rgb(158, 1, 66)"
         },
         "name": "Pseudomonadales",
         "type": "bar",
         "x": [
          "G1_1_RelAbun",
          "G2_1_RelAbun",
          "G3_1_RelAbun",
          "G4_1_RelAbun",
          "G5_1_RelAbun",
          "G6_1_RelAbun"
         ],
         "xaxis": "x2",
         "y": [
          5.396086870860676,
          1.496732112791823,
          26.71461107807609,
          24.326200259046484,
          16.261130594160857,
          18.559340818931584
         ],
         "yaxis": "y2"
        },
        {
         "marker": {
          "color": "rgb(176, 21, 70)"
         },
         "name": "Burkholderiales",
         "type": "bar",
         "x": [
          "G1_1_RelAbun",
          "G2_1_RelAbun",
          "G3_1_RelAbun",
          "G4_1_RelAbun",
          "G5_1_RelAbun",
          "G6_1_RelAbun"
         ],
         "xaxis": "x2",
         "y": [
          4.607247321279724,
          2.2325038777160584,
          18.500858287240128,
          21.735115672312393,
          6.738248834624988,
          22.460616529974242
         ],
         "yaxis": "y2"
        },
        {
         "marker": {
          "color": "rgb(195, 42, 75)"
         },
         "name": "Enterobacterales",
         "type": "bar",
         "x": [
          "G1_1_RelAbun",
          "G2_1_RelAbun",
          "G3_1_RelAbun",
          "G4_1_RelAbun",
          "G5_1_RelAbun",
          "G6_1_RelAbun"
         ],
         "xaxis": "x2",
         "y": [
          0.11897003773699286,
          2.0210523524810755,
          1.8366224994670766,
          3.389294811013814,
          5.458140306821954,
          3.7163014316397742
         ],
         "yaxis": "y2"
        },
        {
         "marker": {
          "color": "rgb(213, 62, 79)"
         },
         "name": "Xanthomonadales",
         "type": "bar",
         "x": [
          "G1_1_RelAbun",
          "G2_1_RelAbun",
          "G3_1_RelAbun",
          "G4_1_RelAbun",
          "G5_1_RelAbun",
          "G6_1_RelAbun"
         ],
         "xaxis": "x2",
         "y": [
          0.23036236606398616,
          0.5050973737587995,
          0.7920925379497593,
          0.7511108632197371,
          0.37739388953832387,
          0.49759609872428895
         ],
         "yaxis": "y2"
        },
        {
         "marker": {
          "color": "rgb(223, 78, 75)"
         },
         "name": "Rhizobiales",
         "type": "bar",
         "x": [
          "G1_1_RelAbun",
          "G2_1_RelAbun",
          "G3_1_RelAbun",
          "G4_1_RelAbun",
          "G5_1_RelAbun",
          "G6_1_RelAbun"
         ],
         "xaxis": "x2",
         "y": [
          5.893942379097647,
          3.41106441648659,
          11.143148848324376,
          6.725292976617646,
          2.497438339755524,
          3.0719488798355106
         ],
         "yaxis": "y2"
        },
        {
         "marker": {
          "color": "rgb(234, 93, 71)"
         },
         "name": "Sphingomonadales",
         "type": "bar",
         "x": [
          "G1_1_RelAbun",
          "G2_1_RelAbun",
          "G3_1_RelAbun",
          "G4_1_RelAbun",
          "G5_1_RelAbun",
          "G6_1_RelAbun"
         ],
         "xaxis": "x2",
         "y": [
          4.434475546731734,
          0.17963436783285386,
          0.6608250776946293,
          0.40406293961985856,
          7.366757587565485,
          0.31797231500661166
         ],
         "yaxis": "y2"
        },
        {
         "marker": {
          "color": "rgb(244, 109, 67)"
         },
         "name": "Caulobacterales",
         "type": "bar",
         "x": [
          "G1_1_RelAbun",
          "G2_1_RelAbun",
          "G3_1_RelAbun",
          "G4_1_RelAbun",
          "G5_1_RelAbun",
          "G6_1_RelAbun"
         ],
         "xaxis": "x2",
         "y": [
          0.5554460997529667,
          0.2266972464901698,
          0.7292636680840561,
          0.3991051121398603,
          0.5729459814405911,
          0.292748549633491
         ],
         "yaxis": "y2"
        },
        {
         "marker": {
          "color": "rgb(247, 131, 77)"
         },
         "name": "Eubacteriales",
         "type": "bar",
         "x": [
          "G1_1_RelAbun",
          "G2_1_RelAbun",
          "G3_1_RelAbun",
          "G4_1_RelAbun",
          "G5_1_RelAbun",
          "G6_1_RelAbun"
         ],
         "xaxis": "x2",
         "y": [
          9.010654259430458,
          16.454110379021888,
          1.921890251427674,
          1.202892892334579,
          3.6238472528899854,
          0.6542891866482202
         ],
         "yaxis": "y2"
        },
        {
         "marker": {
          "color": "rgb(250, 152, 87)"
         },
         "name": "Peptostreptococcales-Tissierellales",
         "type": "bar",
         "x": [
          "G1_1_RelAbun",
          "G2_1_RelAbun",
          "G3_1_RelAbun",
          "G4_1_RelAbun",
          "G5_1_RelAbun",
          "G6_1_RelAbun"
         ],
         "xaxis": "x2",
         "y": [
          4.595122986223724,
          4.603544961620553,
          12.830552781860408,
          0.8006891380197197,
          3.6851827798704018,
          1.383485312889344
         ],
         "yaxis": "y2"
        },
        {
         "marker": {
          "color": "rgb(253, 174, 97)"
         },
         "name": "Christensenellales",
         "type": "bar",
         "x": [
          "G1_1_RelAbun",
          "G2_1_RelAbun",
          "G3_1_RelAbun",
          "G4_1_RelAbun",
          "G5_1_RelAbun",
          "G6_1_RelAbun"
         ],
         "xaxis": "x2",
         "y": [
          3.3288877438128,
          3.0643899722925587,
          1.6851600453265418,
          1.7680852250543813,
          2.7478316087226338,
          2.4459408846662436
         ],
         "yaxis": "y2"
        },
        {
         "marker": {
          "color": "rgb(253, 191, 111)"
         },
         "name": "Oscillospirales",
         "type": "bar",
         "x": [
          "G1_1_RelAbun",
          "G2_1_RelAbun",
          "G3_1_RelAbun",
          "G4_1_RelAbun",
          "G5_1_RelAbun",
          "G6_1_RelAbun"
         ],
         "xaxis": "x2",
         "y": [
          1.016928602821939,
          1.0188118943140088,
          1.56062424969988,
          0.7746605437497288,
          1.5636951407830744,
          2.1875883787233716
         ],
         "yaxis": "y2"
        },
        {
         "marker": {
          "color": "rgb(254, 207, 125)"
         },
         "name": "Lachnospirales",
         "type": "bar",
         "x": [
          "G1_1_RelAbun",
          "G2_1_RelAbun",
          "G3_1_RelAbun",
          "G4_1_RelAbun",
          "G5_1_RelAbun",
          "G6_1_RelAbun"
         ],
         "xaxis": "x2",
         "y": [
          0.6448630707909613,
          0.5521602524161154,
          0.5553623318486273,
          0.6451373008347742,
          0.9258056601867487,
          1.0051288322925345
         ],
         "yaxis": "y2"
        },
        {
         "marker": {
          "color": "rgb(254, 224, 139)"
         },
         "name": "Erysipelotrichales",
         "type": "bar",
         "x": [
          "G1_1_RelAbun",
          "G2_1_RelAbun",
          "G3_1_RelAbun",
          "G4_1_RelAbun",
          "G5_1_RelAbun",
          "G6_1_RelAbun"
         ],
         "xaxis": "x2",
         "y": [
          2.465028871072852,
          4.637350691360316,
          2.270814868003276,
          4.413086185633455,
          0.5837698979665469,
          0.570209968737818
         ],
         "yaxis": "y2"
        },
        {
         "marker": {
          "color": "rgb(254, 234, 156)"
         },
         "name": "Acholeplasmatales",
         "type": "bar",
         "x": [
          "G1_1_RelAbun",
          "G2_1_RelAbun",
          "G3_1_RelAbun",
          "G4_1_RelAbun",
          "G5_1_RelAbun",
          "G6_1_RelAbun"
         ],
         "xaxis": "x2",
         "y": [
          5.768152402891654,
          3.9493046625392743,
          0.5082406794493498,
          0.06940958471997571,
          0.7417990792455009,
          0.31415053237432067
         ],
         "yaxis": "y2"
        },
        {
         "marker": {
          "color": "rgb(255, 245, 174)"
         },
         "name": "Lactobacillales",
         "type": "bar",
         "x": [
          "G1_1_RelAbun",
          "G2_1_RelAbun",
          "G3_1_RelAbun",
          "G4_1_RelAbun",
          "G5_1_RelAbun",
          "G6_1_RelAbun"
         ],
         "xaxis": "x2",
         "y": [
          0.41450070472697514,
          0.5408916758361947,
          0.1963402183303228,
          0.6947155756347568,
          1.2736141778874601,
          0.9057624838529683
         ],
         "yaxis": "y2"
        },
        {
         "marker": {
          "color": "rgb(255, 255, 191)"
         },
         "name": "Thermacetogeniales",
         "type": "bar",
         "x": [
          "G1_1_RelAbun",
          "G2_1_RelAbun",
          "G3_1_RelAbun",
          "G4_1_RelAbun",
          "G5_1_RelAbun",
          "G6_1_RelAbun"
         ],
         "xaxis": "x2",
         "y": [
          0.8623433308579483,
          1.0618976282960586,
          0.18287688907338637,
          0.11588921734495944,
          0.62706556407037,
          0.1444633835006
         ],
         "yaxis": "y2"
        },
        {
         "marker": {
          "color": "rgb(247, 252, 178)"
         },
         "name": "Anaerolineales",
         "type": "bar",
         "x": [
          "G1_1_RelAbun",
          "G2_1_RelAbun",
          "G3_1_RelAbun",
          "G4_1_RelAbun",
          "G5_1_RelAbun",
          "G6_1_RelAbun"
         ],
         "xaxis": "x2",
         "y": [
          10.370095327584378,
          10.23054181967626,
          3.0786146234194613,
          10.876853762681193,
          11.831983951739765,
          4.076313355601586
         ],
         "yaxis": "y2"
        },
        {
         "marker": {
          "color": "rgb(238, 248, 165)"
         },
         "name": "Pseudonocardiales",
         "type": "bar",
         "x": [
          "G1_1_RelAbun",
          "G2_1_RelAbun",
          "G3_1_RelAbun",
          "G4_1_RelAbun",
          "G5_1_RelAbun",
          "G6_1_RelAbun"
         ],
         "xaxis": "x2",
         "y": [
          1.0904323840989347,
          1.6869721997587197,
          3.186321257474953,
          2.0959215671692664,
          3.0711059156311786,
          4.370590618287994
         ],
         "yaxis": "y2"
        },
        {
         "marker": {
          "color": "rgb(230, 245, 152)"
         },
         "name": "Frankiales",
         "type": "bar",
         "x": [
          "G1_1_RelAbun",
          "G2_1_RelAbun",
          "G3_1_RelAbun",
          "G4_1_RelAbun",
          "G5_1_RelAbun",
          "G6_1_RelAbun"
         ],
         "xaxis": "x2",
         "y": [
          1.5761635572799055,
          0.052365738224337474,
          0.07517025501789501,
          0.9017048729246844,
          1.2519663448355487,
          1.29176252971436
         ],
         "yaxis": "y2"
        },
        {
         "marker": {
          "color": "rgb(210, 237, 156)"
         },
         "name": "Streptomycetales",
         "type": "bar",
         "x": [
          "G1_1_RelAbun",
          "G2_1_RelAbun",
          "G3_1_RelAbun",
          "G4_1_RelAbun",
          "G5_1_RelAbun",
          "G6_1_RelAbun"
         ],
         "xaxis": "x2",
         "y": [
          2.6900868405498386,
          0.2472458273123782,
          0.7674097676453759,
          0.34952683733987766,
          0.32976865682411854,
          0.1941465577203831
         ],
         "yaxis": "y2"
        },
        {
         "marker": {
          "color": "rgb(191, 229, 160)"
         },
         "name": "Pedosphaerales",
         "type": "bar",
         "x": [
          "G1_1_RelAbun",
          "G2_1_RelAbun",
          "G3_1_RelAbun",
          "G4_1_RelAbun",
          "G5_1_RelAbun",
          "G6_1_RelAbun"
         ],
         "xaxis": "x2",
         "y": [
          4.022248154827759,
          5.126539486418051,
          0.5160942881825628,
          5.872546650057944,
          4.172259023538411,
          1.6158496969326375
         ],
         "yaxis": "y2"
        },
        {
         "marker": {
          "color": "rgb(171, 221, 164)"
         },
         "name": "Bacteroidales",
         "type": "bar",
         "x": [
          "G1_1_RelAbun",
          "G2_1_RelAbun",
          "G3_1_RelAbun",
          "G4_1_RelAbun",
          "G5_1_RelAbun",
          "G6_1_RelAbun"
         ],
         "xaxis": "x2",
         "y": [
          7.189730688207568,
          2.6587212154154125,
          1.8792563754473752,
          1.6323646977894286,
          2.1460218498794936,
          2.1982893700937867
         ],
         "yaxis": "y2"
        },
        {
         "marker": {
          "color": "rgb(148, 212, 164)"
         },
         "name": "Chitinophagales",
         "type": "bar",
         "x": [
          "G1_1_RelAbun",
          "G2_1_RelAbun",
          "G3_1_RelAbun",
          "G4_1_RelAbun",
          "G5_1_RelAbun",
          "G6_1_RelAbun"
         ],
         "xaxis": "x2",
         "y": [
          0.7858084658169529,
          0.040434304198539064,
          0.47233846809751934,
          0.1617491215349434,
          1.7469801272892584,
          0.14752080960643282
         ],
         "yaxis": "y2"
        },
        {
         "marker": {
          "color": "rgb(125, 203, 165)"
         },
         "name": "Sphingobacteriales",
         "type": "bar",
         "x": [
          "G1_1_RelAbun",
          "G2_1_RelAbun",
          "G3_1_RelAbun",
          "G4_1_RelAbun",
          "G5_1_RelAbun",
          "G6_1_RelAbun"
         ],
         "xaxis": "x2",
         "y": [
          0.9343315702529439,
          0.07689146372181198,
          1.2352604593239165,
          0.027268051139990455,
          0.023091021922038938,
          0.02675247842603704
         ],
         "yaxis": "y2"
        },
        {
         "marker": {
          "color": "rgb(102, 194, 165)"
         },
         "name": "Synergistales",
         "type": "bar",
         "x": [
          "G1_1_RelAbun",
          "G2_1_RelAbun",
          "G3_1_RelAbun",
          "G4_1_RelAbun",
          "G5_1_RelAbun",
          "G6_1_RelAbun"
         ],
         "xaxis": "x2",
         "y": [
          0.9547913856599427,
          0.9956118837082898,
          0.7315075562935455,
          4.190603677468533,
          2.0940670505549064,
          11.776441003141505
         ],
         "yaxis": "y2"
        },
        {
         "marker": {
          "color": "rgb(85, 175, 173)"
         },
         "name": "Syntrophales",
         "type": "bar",
         "x": [
          "G1_1_RelAbun",
          "G2_1_RelAbun",
          "G3_1_RelAbun",
          "G4_1_RelAbun",
          "G5_1_RelAbun",
          "G6_1_RelAbun"
         ],
         "xaxis": "x2",
         "y": [
          1.4314293075489142,
          2.1576009863318797,
          0.26926658513872836,
          0.11774840264995878,
          0.7208728406286531,
          0.08790100054269313
         ],
         "yaxis": "y2"
        },
        {
         "marker": {
          "color": "rgb(67, 155, 181)"
         },
         "name": "Campylobacterales",
         "type": "bar",
         "x": [
          "G1_1_RelAbun",
          "G2_1_RelAbun",
          "G3_1_RelAbun",
          "G4_1_RelAbun",
          "G5_1_RelAbun",
          "G6_1_RelAbun"
         ],
         "xaxis": "x2",
         "y": [
          0.012124335055999273,
          0.05435431056197054,
          1.2722846147804918,
          0.14005862630995097,
          1.8941853920422567,
          2.7020003210297414
         ],
         "yaxis": "y2"
        },
        {
         "marker": {
          "color": "rgb(50, 136, 189)"
         },
         "name": "Methanosarciniales",
         "type": "bar",
         "x": [
          "G1_1_RelAbun",
          "G2_1_RelAbun",
          "G3_1_RelAbun",
          "G4_1_RelAbun",
          "G5_1_RelAbun",
          "G6_1_RelAbun"
         ],
         "xaxis": "x2",
         "y": [
          9.763878574784414,
          12.862085879810689,
          3.316466773625338,
          2.891652877708988,
          9.207544991413027,
          0.6940357260240466
         ],
         "yaxis": "y2"
        },
        {
         "marker": {
          "color": "rgb(65, 117, 180)"
         },
         "name": "Methanomicrobiales",
         "type": "bar",
         "x": [
          "G1_1_RelAbun",
          "G2_1_RelAbun",
          "G3_1_RelAbun",
          "G4_1_RelAbun",
          "G5_1_RelAbun",
          "G6_1_RelAbun"
         ],
         "xaxis": "x2",
         "y": [
          6.811602988648591,
          12.667205790722647,
          0.07404831091315031,
          0.30924448906489177,
          2.462801806872465,
          9.508595189140022
         ],
         "yaxis": "y2"
        },
        {
         "marker": {
          "color": "rgb(79, 98, 171)"
         },
         "name": "Methanomassiliicoccales",
         "type": "bar",
         "x": [
          "G1_1_RelAbun",
          "G2_1_RelAbun",
          "G3_1_RelAbun",
          "G4_1_RelAbun",
          "G5_1_RelAbun",
          "G6_1_RelAbun"
         ],
         "xaxis": "x2",
         "y": [
          2.280132761468863,
          3.853190332887009,
          0.5620939964770955,
          2.186401918679235,
          3.2875842461502938,
          0.9202852578556742
         ],
         "yaxis": "y2"
        },
        {
         "marker": {
          "color": "rgb(94, 79, 162)"
         },
         "name": "Methanobacteriales",
         "type": "bar",
         "x": [
          "G1_1_RelAbun",
          "G2_1_RelAbun",
          "G3_1_RelAbun",
          "G4_1_RelAbun",
          "G5_1_RelAbun",
          "G6_1_RelAbun"
         ],
         "xaxis": "x2",
         "y": [
          0.7441310640619554,
          1.3349948959976667,
          0.4745823563070088,
          0.03160615018498893,
          0.7151000851481434,
          1.8619724984521782
         ],
         "yaxis": "y2"
        },
        {
         "base": "group",
         "name": "Shannon",
         "offset": 0.2,
         "showlegend": false,
         "text": [
          "4.36",
          "3.66",
          "3.92",
          "3.75",
          "4.04",
          "3.88"
         ],
         "textangle": 0,
         "type": "bar",
         "width": 0.4,
         "x": [
          1,
          2,
          3,
          4,
          5,
          6
         ],
         "xaxis": "x",
         "y": [
          4.36,
          3.66,
          3.92,
          3.75,
          4.04,
          3.88
         ],
         "yaxis": "y"
        },
        {
         "base": "group",
         "name": "Simpson",
         "showlegend": false,
         "text": "simpson",
         "textangle": 0,
         "type": "bar",
         "width": 0.4,
         "x": [
          1,
          2,
          3,
          4,
          5,
          6
         ],
         "xaxis": "x",
         "y": [
          33.28,
          16.25,
          17.26,
          13.67,
          19.78,
          17.2
         ],
         "yaxis": "y"
        }
       ],
       "layout": {
        "autosize": true,
        "barmode": "stack",
        "height": 800,
        "template": {
         "data": {
          "bar": [
           {
            "error_x": {
             "color": "#2a3f5f"
            },
            "error_y": {
             "color": "#2a3f5f"
            },
            "marker": {
             "line": {
              "color": "#E5ECF6",
              "width": 0.5
             },
             "pattern": {
              "fillmode": "overlay",
              "size": 10,
              "solidity": 0.2
             }
            },
            "type": "bar"
           }
          ],
          "barpolar": [
           {
            "marker": {
             "line": {
              "color": "#E5ECF6",
              "width": 0.5
             },
             "pattern": {
              "fillmode": "overlay",
              "size": 10,
              "solidity": 0.2
             }
            },
            "type": "barpolar"
           }
          ],
          "carpet": [
           {
            "aaxis": {
             "endlinecolor": "#2a3f5f",
             "gridcolor": "white",
             "linecolor": "white",
             "minorgridcolor": "white",
             "startlinecolor": "#2a3f5f"
            },
            "baxis": {
             "endlinecolor": "#2a3f5f",
             "gridcolor": "white",
             "linecolor": "white",
             "minorgridcolor": "white",
             "startlinecolor": "#2a3f5f"
            },
            "type": "carpet"
           }
          ],
          "choropleth": [
           {
            "colorbar": {
             "outlinewidth": 0,
             "ticks": ""
            },
            "type": "choropleth"
           }
          ],
          "contour": [
           {
            "colorbar": {
             "outlinewidth": 0,
             "ticks": ""
            },
            "colorscale": [
             [
              0,
              "#0d0887"
             ],
             [
              0.1111111111111111,
              "#46039f"
             ],
             [
              0.2222222222222222,
              "#7201a8"
             ],
             [
              0.3333333333333333,
              "#9c179e"
             ],
             [
              0.4444444444444444,
              "#bd3786"
             ],
             [
              0.5555555555555556,
              "#d8576b"
             ],
             [
              0.6666666666666666,
              "#ed7953"
             ],
             [
              0.7777777777777778,
              "#fb9f3a"
             ],
             [
              0.8888888888888888,
              "#fdca26"
             ],
             [
              1,
              "#f0f921"
             ]
            ],
            "type": "contour"
           }
          ],
          "contourcarpet": [
           {
            "colorbar": {
             "outlinewidth": 0,
             "ticks": ""
            },
            "type": "contourcarpet"
           }
          ],
          "heatmap": [
           {
            "colorbar": {
             "outlinewidth": 0,
             "ticks": ""
            },
            "colorscale": [
             [
              0,
              "#0d0887"
             ],
             [
              0.1111111111111111,
              "#46039f"
             ],
             [
              0.2222222222222222,
              "#7201a8"
             ],
             [
              0.3333333333333333,
              "#9c179e"
             ],
             [
              0.4444444444444444,
              "#bd3786"
             ],
             [
              0.5555555555555556,
              "#d8576b"
             ],
             [
              0.6666666666666666,
              "#ed7953"
             ],
             [
              0.7777777777777778,
              "#fb9f3a"
             ],
             [
              0.8888888888888888,
              "#fdca26"
             ],
             [
              1,
              "#f0f921"
             ]
            ],
            "type": "heatmap"
           }
          ],
          "heatmapgl": [
           {
            "colorbar": {
             "outlinewidth": 0,
             "ticks": ""
            },
            "colorscale": [
             [
              0,
              "#0d0887"
             ],
             [
              0.1111111111111111,
              "#46039f"
             ],
             [
              0.2222222222222222,
              "#7201a8"
             ],
             [
              0.3333333333333333,
              "#9c179e"
             ],
             [
              0.4444444444444444,
              "#bd3786"
             ],
             [
              0.5555555555555556,
              "#d8576b"
             ],
             [
              0.6666666666666666,
              "#ed7953"
             ],
             [
              0.7777777777777778,
              "#fb9f3a"
             ],
             [
              0.8888888888888888,
              "#fdca26"
             ],
             [
              1,
              "#f0f921"
             ]
            ],
            "type": "heatmapgl"
           }
          ],
          "histogram": [
           {
            "marker": {
             "pattern": {
              "fillmode": "overlay",
              "size": 10,
              "solidity": 0.2
             }
            },
            "type": "histogram"
           }
          ],
          "histogram2d": [
           {
            "colorbar": {
             "outlinewidth": 0,
             "ticks": ""
            },
            "colorscale": [
             [
              0,
              "#0d0887"
             ],
             [
              0.1111111111111111,
              "#46039f"
             ],
             [
              0.2222222222222222,
              "#7201a8"
             ],
             [
              0.3333333333333333,
              "#9c179e"
             ],
             [
              0.4444444444444444,
              "#bd3786"
             ],
             [
              0.5555555555555556,
              "#d8576b"
             ],
             [
              0.6666666666666666,
              "#ed7953"
             ],
             [
              0.7777777777777778,
              "#fb9f3a"
             ],
             [
              0.8888888888888888,
              "#fdca26"
             ],
             [
              1,
              "#f0f921"
             ]
            ],
            "type": "histogram2d"
           }
          ],
          "histogram2dcontour": [
           {
            "colorbar": {
             "outlinewidth": 0,
             "ticks": ""
            },
            "colorscale": [
             [
              0,
              "#0d0887"
             ],
             [
              0.1111111111111111,
              "#46039f"
             ],
             [
              0.2222222222222222,
              "#7201a8"
             ],
             [
              0.3333333333333333,
              "#9c179e"
             ],
             [
              0.4444444444444444,
              "#bd3786"
             ],
             [
              0.5555555555555556,
              "#d8576b"
             ],
             [
              0.6666666666666666,
              "#ed7953"
             ],
             [
              0.7777777777777778,
              "#fb9f3a"
             ],
             [
              0.8888888888888888,
              "#fdca26"
             ],
             [
              1,
              "#f0f921"
             ]
            ],
            "type": "histogram2dcontour"
           }
          ],
          "mesh3d": [
           {
            "colorbar": {
             "outlinewidth": 0,
             "ticks": ""
            },
            "type": "mesh3d"
           }
          ],
          "parcoords": [
           {
            "line": {
             "colorbar": {
              "outlinewidth": 0,
              "ticks": ""
             }
            },
            "type": "parcoords"
           }
          ],
          "pie": [
           {
            "automargin": true,
            "type": "pie"
           }
          ],
          "scatter": [
           {
            "fillpattern": {
             "fillmode": "overlay",
             "size": 10,
             "solidity": 0.2
            },
            "type": "scatter"
           }
          ],
          "scatter3d": [
           {
            "line": {
             "colorbar": {
              "outlinewidth": 0,
              "ticks": ""
             }
            },
            "marker": {
             "colorbar": {
              "outlinewidth": 0,
              "ticks": ""
             }
            },
            "type": "scatter3d"
           }
          ],
          "scattercarpet": [
           {
            "marker": {
             "colorbar": {
              "outlinewidth": 0,
              "ticks": ""
             }
            },
            "type": "scattercarpet"
           }
          ],
          "scattergeo": [
           {
            "marker": {
             "colorbar": {
              "outlinewidth": 0,
              "ticks": ""
             }
            },
            "type": "scattergeo"
           }
          ],
          "scattergl": [
           {
            "marker": {
             "colorbar": {
              "outlinewidth": 0,
              "ticks": ""
             }
            },
            "type": "scattergl"
           }
          ],
          "scattermapbox": [
           {
            "marker": {
             "colorbar": {
              "outlinewidth": 0,
              "ticks": ""
             }
            },
            "type": "scattermapbox"
           }
          ],
          "scatterpolar": [
           {
            "marker": {
             "colorbar": {
              "outlinewidth": 0,
              "ticks": ""
             }
            },
            "type": "scatterpolar"
           }
          ],
          "scatterpolargl": [
           {
            "marker": {
             "colorbar": {
              "outlinewidth": 0,
              "ticks": ""
             }
            },
            "type": "scatterpolargl"
           }
          ],
          "scatterternary": [
           {
            "marker": {
             "colorbar": {
              "outlinewidth": 0,
              "ticks": ""
             }
            },
            "type": "scatterternary"
           }
          ],
          "surface": [
           {
            "colorbar": {
             "outlinewidth": 0,
             "ticks": ""
            },
            "colorscale": [
             [
              0,
              "#0d0887"
             ],
             [
              0.1111111111111111,
              "#46039f"
             ],
             [
              0.2222222222222222,
              "#7201a8"
             ],
             [
              0.3333333333333333,
              "#9c179e"
             ],
             [
              0.4444444444444444,
              "#bd3786"
             ],
             [
              0.5555555555555556,
              "#d8576b"
             ],
             [
              0.6666666666666666,
              "#ed7953"
             ],
             [
              0.7777777777777778,
              "#fb9f3a"
             ],
             [
              0.8888888888888888,
              "#fdca26"
             ],
             [
              1,
              "#f0f921"
             ]
            ],
            "type": "surface"
           }
          ],
          "table": [
           {
            "cells": {
             "fill": {
              "color": "#EBF0F8"
             },
             "line": {
              "color": "white"
             }
            },
            "header": {
             "fill": {
              "color": "#C8D4E3"
             },
             "line": {
              "color": "white"
             }
            },
            "type": "table"
           }
          ]
         },
         "layout": {
          "annotationdefaults": {
           "arrowcolor": "#2a3f5f",
           "arrowhead": 0,
           "arrowwidth": 1
          },
          "autotypenumbers": "strict",
          "coloraxis": {
           "colorbar": {
            "outlinewidth": 0,
            "ticks": ""
           }
          },
          "colorscale": {
           "diverging": [
            [
             0,
             "#8e0152"
            ],
            [
             0.1,
             "#c51b7d"
            ],
            [
             0.2,
             "#de77ae"
            ],
            [
             0.3,
             "#f1b6da"
            ],
            [
             0.4,
             "#fde0ef"
            ],
            [
             0.5,
             "#f7f7f7"
            ],
            [
             0.6,
             "#e6f5d0"
            ],
            [
             0.7,
             "#b8e186"
            ],
            [
             0.8,
             "#7fbc41"
            ],
            [
             0.9,
             "#4d9221"
            ],
            [
             1,
             "#276419"
            ]
           ],
           "sequential": [
            [
             0,
             "#0d0887"
            ],
            [
             0.1111111111111111,
             "#46039f"
            ],
            [
             0.2222222222222222,
             "#7201a8"
            ],
            [
             0.3333333333333333,
             "#9c179e"
            ],
            [
             0.4444444444444444,
             "#bd3786"
            ],
            [
             0.5555555555555556,
             "#d8576b"
            ],
            [
             0.6666666666666666,
             "#ed7953"
            ],
            [
             0.7777777777777778,
             "#fb9f3a"
            ],
            [
             0.8888888888888888,
             "#fdca26"
            ],
            [
             1,
             "#f0f921"
            ]
           ],
           "sequentialminus": [
            [
             0,
             "#0d0887"
            ],
            [
             0.1111111111111111,
             "#46039f"
            ],
            [
             0.2222222222222222,
             "#7201a8"
            ],
            [
             0.3333333333333333,
             "#9c179e"
            ],
            [
             0.4444444444444444,
             "#bd3786"
            ],
            [
             0.5555555555555556,
             "#d8576b"
            ],
            [
             0.6666666666666666,
             "#ed7953"
            ],
            [
             0.7777777777777778,
             "#fb9f3a"
            ],
            [
             0.8888888888888888,
             "#fdca26"
            ],
            [
             1,
             "#f0f921"
            ]
           ]
          },
          "colorway": [
           "#636efa",
           "#EF553B",
           "#00cc96",
           "#ab63fa",
           "#FFA15A",
           "#19d3f3",
           "#FF6692",
           "#B6E880",
           "#FF97FF",
           "#FECB52"
          ],
          "font": {
           "color": "#2a3f5f"
          },
          "geo": {
           "bgcolor": "white",
           "lakecolor": "white",
           "landcolor": "#E5ECF6",
           "showlakes": true,
           "showland": true,
           "subunitcolor": "white"
          },
          "hoverlabel": {
           "align": "left"
          },
          "hovermode": "closest",
          "mapbox": {
           "style": "light"
          },
          "paper_bgcolor": "white",
          "plot_bgcolor": "#E5ECF6",
          "polar": {
           "angularaxis": {
            "gridcolor": "white",
            "linecolor": "white",
            "ticks": ""
           },
           "bgcolor": "#E5ECF6",
           "radialaxis": {
            "gridcolor": "white",
            "linecolor": "white",
            "ticks": ""
           }
          },
          "scene": {
           "xaxis": {
            "backgroundcolor": "#E5ECF6",
            "gridcolor": "white",
            "gridwidth": 2,
            "linecolor": "white",
            "showbackground": true,
            "ticks": "",
            "zerolinecolor": "white"
           },
           "yaxis": {
            "backgroundcolor": "#E5ECF6",
            "gridcolor": "white",
            "gridwidth": 2,
            "linecolor": "white",
            "showbackground": true,
            "ticks": "",
            "zerolinecolor": "white"
           },
           "zaxis": {
            "backgroundcolor": "#E5ECF6",
            "gridcolor": "white",
            "gridwidth": 2,
            "linecolor": "white",
            "showbackground": true,
            "ticks": "",
            "zerolinecolor": "white"
           }
          },
          "shapedefaults": {
           "line": {
            "color": "#2a3f5f"
           }
          },
          "ternary": {
           "aaxis": {
            "gridcolor": "white",
            "linecolor": "white",
            "ticks": ""
           },
           "baxis": {
            "gridcolor": "white",
            "linecolor": "white",
            "ticks": ""
           },
           "bgcolor": "#E5ECF6",
           "caxis": {
            "gridcolor": "white",
            "linecolor": "white",
            "ticks": ""
           }
          },
          "title": {
           "x": 0.05
          },
          "xaxis": {
           "automargin": true,
           "gridcolor": "white",
           "linecolor": "white",
           "ticks": "",
           "title": {
            "standoff": 15
           },
           "zerolinecolor": "white",
           "zerolinewidth": 2
          },
          "yaxis": {
           "automargin": true,
           "gridcolor": "white",
           "linecolor": "white",
           "ticks": "",
           "title": {
            "standoff": 15
           },
           "zerolinecolor": "white",
           "zerolinewidth": 2
          }
         }
        },
        "title": {
         "text": "Relative abundance V3-V4 Kraken2-Bracken"
        },
        "width": 1200,
        "xaxis": {
         "anchor": "y",
         "domain": [
          0,
          1
         ],
         "ticktext": [
          "Shannon",
          "Shannon",
          "Shannon",
          "Shannon",
          "Shannon",
          "Shannon"
         ],
         "tickvals": [
          1,
          2,
          3,
          4,
          5,
          6
         ],
         "title": {
          "text": "Alpha diversity"
         }
        },
        "xaxis2": {
         "anchor": "y2",
         "domain": [
          0,
          1
         ],
         "title": {
          "text": "Samples"
         }
        },
        "yaxis": {
         "anchor": "x",
         "domain": [
          0.575,
          1
         ],
         "dtick": 5,
         "tick0": 0,
         "tickmode": "linear",
         "title": {
          "text": "Value"
         }
        },
        "yaxis2": {
         "anchor": "x2",
         "domain": [
          0,
          0.425
         ],
         "title": {
          "text": "Relative frequency (%)"
         }
        }
       }
      }
     },
     "metadata": {},
     "output_type": "display_data"
    }
   ],
   "source": [
    "bracken_file_relative_abun=bracken_file.loc[:,\"name\":]\n",
    "fig = make_subplots(rows=2, cols=1, shared_xaxes=False)\n",
    "\n",
    "sample_names=bracken_file_relative_abun.iloc[:,1:].columns\n",
    "bracken_file_relative_abun[\"name\"] = bracken_file_relative_abun[\"name\"].apply(lambda x:x.strip())\n",
    "\n",
    "# Number of bars\n",
    "num_bars = len(bracken_file_relative_abun[\"name\"])\n",
    "\n",
    "# Generate colors using a predefined colorscale (Viridis, Cividis, etc.)\n",
    "colors = px.colors.sample_colorscale('spectral', np.linspace(0, 1, num_bars))\n",
    "\n",
    "## Composition bars\n",
    "for i in range(0, len(bracken_file_relative_abun[\"name\"])):\n",
    "        fig.add_bar(name=bracken_file_relative_abun.iloc[i,0].strip(),\n",
    "                        x=sample_names,y=bracken_file_relative_abun.iloc[i,1:],\n",
    "                        row=2, col=1, marker=dict(color=colors[i])\n",
    "                    )\n",
    "\n",
    "## Diversity bars\n",
    "width=0.4\n",
    "offset=0.2\n",
    "y = alpha_data[\"shannon\"].to_list()\n",
    "x_values=np.linspace(1, len(y), len(y))\n",
    "fig.add_bar(name=\"Shannon\", x=x_values,y=y, showlegend=False,\n",
    "                        row=1, col=1, width=width,offset=offset,\n",
    "                        text=[str(i) for i in y], textangle=360,\n",
    "                    )\n",
    "fig.add_bar(name=\"Simpson\",x=x_values, y=alpha_data[\"simpson_reciprocal\"], showlegend=False,\n",
    "                        row=1, col=1, width=width,\n",
    "                        text=\"simpson\", textangle=360,\n",
    "                    )\n",
    "\n",
    "fig.update_layout(barmode='stack',\n",
    "    autosize=True,\n",
    "    width=1200,\n",
    "    height=800,\n",
    "    title_text=\"Relative abundance V3-V4 Kraken2-Bracken\"\n",
    "    )\n",
    "\n",
    "\n",
    "## Composition bars\n",
    "\n",
    "fig.update_yaxes(title_text=\"Relative frequency (%)\", row=2, col=1)\n",
    "fig.update_xaxes(title_text=\"Samples\", row=2, col=1)\n",
    "\n",
    "## Diversity bars\n",
    "fig.update_traces(dict(base='group'), row=1, col=1, overwrite=True)\n",
    "fig.update_yaxes(dict(title_text=\"Value\", tickmode=\"linear\", tick0=0, dtick=5), row=1, col=1, overwrite=True)\n",
    "fig.update_xaxes(title_text=\"Alpha diversity\", row=1, col=1, tickvals=x_values ,ticktext=[\"Shannon\"] * len(y))\n",
    "\n",
    "#fig.write_image('kraken2_barplots.png', format='png')"
   ]
  },
  {
   "cell_type": "code",
   "execution_count": 237,
   "metadata": {},
   "outputs": [
    {
     "data": {
      "text/html": [
       "<div>\n",
       "<style scoped>\n",
       "    .dataframe tbody tr th:only-of-type {\n",
       "        vertical-align: middle;\n",
       "    }\n",
       "\n",
       "    .dataframe tbody tr th {\n",
       "        vertical-align: top;\n",
       "    }\n",
       "\n",
       "    .dataframe thead th {\n",
       "        text-align: right;\n",
       "    }\n",
       "</style>\n",
       "<table border=\"1\" class=\"dataframe\">\n",
       "  <thead>\n",
       "    <tr style=\"text-align: right;\">\n",
       "      <th></th>\n",
       "      <th>sample</th>\n",
       "      <th>shannon</th>\n",
       "      <th>simpson_reciprocal</th>\n",
       "    </tr>\n",
       "  </thead>\n",
       "  <tbody>\n",
       "    <tr>\n",
       "      <th>0</th>\n",
       "      <td>G1_1</td>\n",
       "      <td>4.36</td>\n",
       "      <td>33.28</td>\n",
       "    </tr>\n",
       "    <tr>\n",
       "      <th>1</th>\n",
       "      <td>G2_1</td>\n",
       "      <td>3.66</td>\n",
       "      <td>16.25</td>\n",
       "    </tr>\n",
       "    <tr>\n",
       "      <th>2</th>\n",
       "      <td>G3_1</td>\n",
       "      <td>3.92</td>\n",
       "      <td>17.26</td>\n",
       "    </tr>\n",
       "    <tr>\n",
       "      <th>3</th>\n",
       "      <td>G4_1</td>\n",
       "      <td>3.75</td>\n",
       "      <td>13.67</td>\n",
       "    </tr>\n",
       "    <tr>\n",
       "      <th>4</th>\n",
       "      <td>G5_1</td>\n",
       "      <td>4.04</td>\n",
       "      <td>19.78</td>\n",
       "    </tr>\n",
       "    <tr>\n",
       "      <th>5</th>\n",
       "      <td>G6_1</td>\n",
       "      <td>3.88</td>\n",
       "      <td>17.20</td>\n",
       "    </tr>\n",
       "  </tbody>\n",
       "</table>\n",
       "</div>"
      ],
      "text/plain": [
       "  sample  shannon  simpson_reciprocal\n",
       "0   G1_1     4.36               33.28\n",
       "1   G2_1     3.66               16.25\n",
       "2   G3_1     3.92               17.26\n",
       "3   G4_1     3.75               13.67\n",
       "4   G5_1     4.04               19.78\n",
       "5   G6_1     3.88               17.20"
      ]
     },
     "execution_count": 237,
     "metadata": {},
     "output_type": "execute_result"
    }
   ],
   "source": [
    "alpha_data"
   ]
  },
  {
   "cell_type": "code",
   "execution_count": 238,
   "metadata": {},
   "outputs": [],
   "source": [
    "import seaborn as sns\n",
    "import matplotlib.pyplot as plt"
   ]
  },
  {
   "cell_type": "code",
   "execution_count": 239,
   "metadata": {},
   "outputs": [
    {
     "data": {
      "text/html": [
       "<div>\n",
       "<style scoped>\n",
       "    .dataframe tbody tr th:only-of-type {\n",
       "        vertical-align: middle;\n",
       "    }\n",
       "\n",
       "    .dataframe tbody tr th {\n",
       "        vertical-align: top;\n",
       "    }\n",
       "\n",
       "    .dataframe thead th {\n",
       "        text-align: right;\n",
       "    }\n",
       "</style>\n",
       "<table border=\"1\" class=\"dataframe\">\n",
       "  <thead>\n",
       "    <tr style=\"text-align: right;\">\n",
       "      <th></th>\n",
       "      <th>G1_1_RelAbun</th>\n",
       "      <th>G2_1_RelAbun</th>\n",
       "      <th>G3_1_RelAbun</th>\n",
       "      <th>G4_1_RelAbun</th>\n",
       "      <th>G5_1_RelAbun</th>\n",
       "      <th>G6_1_RelAbun</th>\n",
       "    </tr>\n",
       "    <tr>\n",
       "      <th>name</th>\n",
       "      <th></th>\n",
       "      <th></th>\n",
       "      <th></th>\n",
       "      <th></th>\n",
       "      <th></th>\n",
       "      <th></th>\n",
       "    </tr>\n",
       "  </thead>\n",
       "  <tbody>\n",
       "    <tr>\n",
       "      <th>Pseudomonadales</th>\n",
       "      <td>5.396087</td>\n",
       "      <td>1.496732</td>\n",
       "      <td>26.714611</td>\n",
       "      <td>24.326200</td>\n",
       "      <td>16.261131</td>\n",
       "      <td>18.559341</td>\n",
       "    </tr>\n",
       "    <tr>\n",
       "      <th>Burkholderiales</th>\n",
       "      <td>4.607247</td>\n",
       "      <td>2.232504</td>\n",
       "      <td>18.500858</td>\n",
       "      <td>21.735116</td>\n",
       "      <td>6.738249</td>\n",
       "      <td>22.460617</td>\n",
       "    </tr>\n",
       "    <tr>\n",
       "      <th>Enterobacterales</th>\n",
       "      <td>0.118970</td>\n",
       "      <td>2.021052</td>\n",
       "      <td>1.836622</td>\n",
       "      <td>3.389295</td>\n",
       "      <td>5.458140</td>\n",
       "      <td>3.716301</td>\n",
       "    </tr>\n",
       "    <tr>\n",
       "      <th>Xanthomonadales</th>\n",
       "      <td>0.230362</td>\n",
       "      <td>0.505097</td>\n",
       "      <td>0.792093</td>\n",
       "      <td>0.751111</td>\n",
       "      <td>0.377394</td>\n",
       "      <td>0.497596</td>\n",
       "    </tr>\n",
       "    <tr>\n",
       "      <th>Rhizobiales</th>\n",
       "      <td>5.893942</td>\n",
       "      <td>3.411064</td>\n",
       "      <td>11.143149</td>\n",
       "      <td>6.725293</td>\n",
       "      <td>2.497438</td>\n",
       "      <td>3.071949</td>\n",
       "    </tr>\n",
       "  </tbody>\n",
       "</table>\n",
       "</div>"
      ],
      "text/plain": [
       "                  G1_1_RelAbun  G2_1_RelAbun  G3_1_RelAbun  G4_1_RelAbun  \\\n",
       "name                                                                       \n",
       "Pseudomonadales       5.396087      1.496732     26.714611     24.326200   \n",
       "Burkholderiales       4.607247      2.232504     18.500858     21.735116   \n",
       "Enterobacterales      0.118970      2.021052      1.836622      3.389295   \n",
       "Xanthomonadales       0.230362      0.505097      0.792093      0.751111   \n",
       "Rhizobiales           5.893942      3.411064     11.143149      6.725293   \n",
       "\n",
       "                  G5_1_RelAbun  G6_1_RelAbun  \n",
       "name                                          \n",
       "Pseudomonadales      16.261131     18.559341  \n",
       "Burkholderiales       6.738249     22.460617  \n",
       "Enterobacterales      5.458140      3.716301  \n",
       "Xanthomonadales       0.377394      0.497596  \n",
       "Rhizobiales           2.497438      3.071949  "
      ]
     },
     "execution_count": 239,
     "metadata": {},
     "output_type": "execute_result"
    }
   ],
   "source": [
    "duplicates=bracken_file_relative_abun[\"name\"].duplicated()\n",
    "for i in bracken_file_relative_abun[duplicates].index:\n",
    "    bracken_file_relative_abun.loc[i,\"name\"] = bracken_file_relative_abun.loc[i,\"name\"] + str(i)\n",
    "bracken_file_relative_abun.set_index(keys=\"name\",inplace=True)\n",
    "bracken_file_relative_abun.head()"
   ]
  },
  {
   "cell_type": "code",
   "execution_count": 240,
   "metadata": {},
   "outputs": [
    {
     "data": {
      "image/png": "[encoded data removed]",
      "text/plain": [
       "<Figure size 1000x800 with 2 Axes>"
      ]
     },
     "metadata": {},
     "output_type": "display_data"
    }
   ],
   "source": [
    "fig = plt.figure(figsize=(10,8))\n",
    "heatmap=sns.heatmap(bracken_file_relative_abun, cmap=\"gnuplot\", annot=True)\n",
    "heatmap.set_ylabel(\"Genus\")\n",
    "heatmap.set_xlabel(\"Samples\")\n",
    "plt.xticks(rotation=90)\n",
    "plt.tight_layout()\n",
    "#fig.savefig('heatmap_samples_vs_genus.png', format='png', dpi=1200)"
   ]
  },
  {
   "cell_type": "code",
   "execution_count": 241,
   "metadata": {},
   "outputs": [],
   "source": [
    "import re\n",
    "keep_columns = re.findall(\"G\\d+_\\d+_all\", \" \".join(bracken_file.columns))\n"
   ]
  },
  {
   "cell_type": "code",
   "execution_count": 242,
   "metadata": {},
   "outputs": [],
   "source": [
    "cluster=bracken_file[keep_columns + [\"name\"]]\n",
    "cluster.iloc[:,:-1] = cluster.iloc[:,:-1].apply(lambda x: np.log10(x + 1))\n",
    "cluster.set_index(keys=\"name\", inplace=True)"
   ]
  },
  {
   "cell_type": "code",
   "execution_count": 243,
   "metadata": {},
   "outputs": [
    {
     "data": {
      "text/plain": [
       "<Figure size 800x800 with 0 Axes>"
      ]
     },
     "metadata": {},
     "output_type": "display_data"
    },
    {
     "data": {
      "image/png": "[encoded data removed]",
      "text/plain": [
       "<Figure size 1000x1000 with 4 Axes>"
      ]
     },
     "metadata": {},
     "output_type": "display_data"
    }
   ],
   "source": [
    "fig = plt.figure(figsize=(8,8))\n",
    "cluster_plot = sns.clustermap(cluster, cmap=\"mako\")\n",
    "#cluster_plot.ax_row_dendrogram.remove()\n",
    "#cluster_plot.savefig('clustermap_samples_vs_genus.png', format='png', dpi=1200)"
   ]
  },
  {
   "cell_type": "markdown",
   "metadata": {},
   "source": [
    "# Beta diversity (Bray-Curtis with PCoA)"
   ]
  },
  {
   "cell_type": "code",
   "execution_count": 244,
   "metadata": {},
   "outputs": [
    {
     "data": {
      "text/plain": [
       "array([['0.000', '0.353', '0.722', '0.589', '0.446', 0.649],\n",
       "       ['0.353', '0.000', '0.704', '0.579', '0.454', 0.656],\n",
       "       ['0.722', '0.704', '0.000', '0.575', '0.576', 0.55],\n",
       "       ['0.589', '0.579', '0.575', '0.000', '0.407', 0.464],\n",
       "       ['0.446', '0.454', '0.576', '0.407', '0.000', 0.386],\n",
       "       [0.649, 0.656, 0.55, 0.464, 0.386, 0.0]], dtype=object)"
      ]
     },
     "execution_count": 244,
     "metadata": {},
     "output_type": "execute_result"
    }
   ],
   "source": [
    "beta_matrix=pd.read_csv(filepath_or_buffer=\"/Volumes/PiconCossio/biocomp_tools/MAUS/utils/beta_diversity_V3-V4.txt\", delimiter=\"\\t\", skiprows=6, index_col=0)\n",
    "matrix=beta_matrix.to_numpy()\n",
    "i_lower = np.tril_indices(matrix.shape[0], -1)  # Indices for the lower triangle\n",
    "matrix[i_lower] = matrix.T[i_lower] \n",
    "matrix"
   ]
  },
  {
   "cell_type": "code",
   "execution_count": 245,
   "metadata": {},
   "outputs": [],
   "source": [
    "from skbio.stats.ordination import pcoa"
   ]
  },
  {
   "cell_type": "code",
   "execution_count": 246,
   "metadata": {},
   "outputs": [],
   "source": [
    "pcoa_result = pcoa(matrix, number_of_dimensions=2)"
   ]
  },
  {
   "cell_type": "code",
   "execution_count": 247,
   "metadata": {},
   "outputs": [
    {
     "data": {
      "text/html": [
       "<div>\n",
       "<style scoped>\n",
       "    .dataframe tbody tr th:only-of-type {\n",
       "        vertical-align: middle;\n",
       "    }\n",
       "\n",
       "    .dataframe tbody tr th {\n",
       "        vertical-align: top;\n",
       "    }\n",
       "\n",
       "    .dataframe thead th {\n",
       "        text-align: right;\n",
       "    }\n",
       "</style>\n",
       "<table border=\"1\" class=\"dataframe\">\n",
       "  <thead>\n",
       "    <tr style=\"text-align: right;\">\n",
       "      <th></th>\n",
       "      <th>index</th>\n",
       "      <th>PC1</th>\n",
       "      <th>PC2</th>\n",
       "    </tr>\n",
       "  </thead>\n",
       "  <tbody>\n",
       "    <tr>\n",
       "      <th>0</th>\n",
       "      <td>1</td>\n",
       "      <td>-0.326168</td>\n",
       "      <td>0.051724</td>\n",
       "    </tr>\n",
       "    <tr>\n",
       "      <th>1</th>\n",
       "      <td>2</td>\n",
       "      <td>-0.313832</td>\n",
       "      <td>0.089571</td>\n",
       "    </tr>\n",
       "    <tr>\n",
       "      <th>2</th>\n",
       "      <td>3</td>\n",
       "      <td>0.325411</td>\n",
       "      <td>0.311378</td>\n",
       "    </tr>\n",
       "    <tr>\n",
       "      <th>3</th>\n",
       "      <td>4</td>\n",
       "      <td>0.107966</td>\n",
       "      <td>-0.149039</td>\n",
       "    </tr>\n",
       "    <tr>\n",
       "      <th>4</th>\n",
       "      <td>5</td>\n",
       "      <td>-0.019457</td>\n",
       "      <td>-0.115631</td>\n",
       "    </tr>\n",
       "    <tr>\n",
       "      <th>5</th>\n",
       "      <td>6</td>\n",
       "      <td>0.226080</td>\n",
       "      <td>-0.188004</td>\n",
       "    </tr>\n",
       "  </tbody>\n",
       "</table>\n",
       "</div>"
      ],
      "text/plain": [
       "   index       PC1       PC2\n",
       "0      1 -0.326168  0.051724\n",
       "1      2 -0.313832  0.089571\n",
       "2      3  0.325411  0.311378\n",
       "3      4  0.107966 -0.149039\n",
       "4      5 -0.019457 -0.115631\n",
       "5      6  0.226080 -0.188004"
      ]
     },
     "execution_count": 247,
     "metadata": {},
     "output_type": "execute_result"
    }
   ],
   "source": [
    "coordinates = pcoa_result.samples\n",
    "coordinates.reset_index(inplace=True)\n",
    "coordinates[\"index\"]=coordinates[\"index\"].astype(int)+1\n",
    "coordinates"
   ]
  },
  {
   "cell_type": "code",
   "execution_count": 248,
   "metadata": {},
   "outputs": [
    {
     "data": {
      "text/plain": [
       "Text(0.5, 1.0, 'Beta diversity PCoA')"
      ]
     },
     "execution_count": 248,
     "metadata": {},
     "output_type": "execute_result"
    },
    {
     "data": {
      "image/png": "[encoded data removed]",
      "text/plain": [
       "<Figure size 1000x500 with 1 Axes>"
      ]
     },
     "metadata": {},
     "output_type": "display_data"
    }
   ],
   "source": [
    "fig = plt.figure(figsize=(10,5))\n",
    "sns.scatterplot(coordinates, x=\"PC1\",y=\"PC2\", hue=\"index\", palette=\"gnuplot\", s=100)\n",
    "plt.title(\"Beta diversity PCoA\")\n",
    "#fig.savefig('Beta_diversity_PCoA.png', format='png', dpi=1200)"
   ]
  },
  {
   "cell_type": "code",
   "execution_count": 249,
   "metadata": {},
   "outputs": [],
   "source": [
    "import plotly.express as px"
   ]
  },
  {
   "cell_type": "code",
   "execution_count": null,
   "metadata": {},
   "outputs": [],
   "source": []
  }
 ],
 "metadata": {
  "kernelspec": {
   "display_name": "MAUS",
   "language": "python",
   "name": "python3"
  },
  "language_info": {
   "codemirror_mode": {
    "name": "ipython",
    "version": 3
   },
   "file_extension": ".py",
   "mimetype": "text/x-python",
   "name": "python",
   "nbconvert_exporter": "python",
   "pygments_lexer": "ipython3",
   "version": "3.8.20"
  }
 },
 "nbformat": 4,
 "nbformat_minor": 2
}
