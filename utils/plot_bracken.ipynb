{
 "cells": [
  {
   "cell_type": "code",
   "execution_count": 265,
   "metadata": {},
   "outputs": [],
   "source": [
    "import pandas as pd"
   ]
  },
  {
   "cell_type": "code",
   "execution_count": 266,
   "metadata": {},
   "outputs": [
    {
     "data": {
      "text/html": [
       "<div>\n",
       "<style scoped>\n",
       "    .dataframe tbody tr th:only-of-type {\n",
       "        vertical-align: middle;\n",
       "    }\n",
       "\n",
       "    .dataframe tbody tr th {\n",
       "        vertical-align: top;\n",
       "    }\n",
       "\n",
       "    .dataframe thead th {\n",
       "        text-align: right;\n",
       "    }\n",
       "</style>\n",
       "<table border=\"1\" class=\"dataframe\">\n",
       "  <thead>\n",
       "    <tr style=\"text-align: right;\">\n",
       "      <th></th>\n",
       "      <th>#perc</th>\n",
       "      <th>tot_all</th>\n",
       "      <th>tot_lvl</th>\n",
       "      <th>G1_1_all</th>\n",
       "      <th>G1_1_lvl</th>\n",
       "      <th>G2_1_all</th>\n",
       "      <th>G2_1_lvl</th>\n",
       "      <th>G3_1_all</th>\n",
       "      <th>G3_1_lvl</th>\n",
       "      <th>G4_1_all</th>\n",
       "      <th>G4_1_lvl</th>\n",
       "      <th>G5_1_all</th>\n",
       "      <th>G5_1_lvl</th>\n",
       "      <th>G6_1_all</th>\n",
       "      <th>G6_1_lvl</th>\n",
       "      <th>lvl_type</th>\n",
       "      <th>taxid</th>\n",
       "      <th>name</th>\n",
       "    </tr>\n",
       "  </thead>\n",
       "  <tbody>\n",
       "    <tr>\n",
       "      <th>0</th>\n",
       "      <td>0.0000</td>\n",
       "      <td>0</td>\n",
       "      <td>0</td>\n",
       "      <td>0</td>\n",
       "      <td>0</td>\n",
       "      <td>0</td>\n",
       "      <td>0</td>\n",
       "      <td>0</td>\n",
       "      <td>0</td>\n",
       "      <td>0</td>\n",
       "      <td>0</td>\n",
       "      <td>0</td>\n",
       "      <td>0</td>\n",
       "      <td>0</td>\n",
       "      <td>0</td>\n",
       "      <td>U</td>\n",
       "      <td>0</td>\n",
       "      <td>unclassified</td>\n",
       "    </tr>\n",
       "    <tr>\n",
       "      <th>1</th>\n",
       "      <td>100.1948</td>\n",
       "      <td>1841211</td>\n",
       "      <td>0</td>\n",
       "      <td>314064</td>\n",
       "      <td>0</td>\n",
       "      <td>326812</td>\n",
       "      <td>0</td>\n",
       "      <td>231626</td>\n",
       "      <td>0</td>\n",
       "      <td>341953</td>\n",
       "      <td>0</td>\n",
       "      <td>308615</td>\n",
       "      <td>0</td>\n",
       "      <td>318141</td>\n",
       "      <td>0</td>\n",
       "      <td>R</td>\n",
       "      <td>1</td>\n",
       "      <td>root</td>\n",
       "    </tr>\n",
       "    <tr>\n",
       "      <th>2</th>\n",
       "      <td>86.6385</td>\n",
       "      <td>1592096</td>\n",
       "      <td>0</td>\n",
       "      <td>261690</td>\n",
       "      <td>0</td>\n",
       "      <td>233040</td>\n",
       "      <td>0</td>\n",
       "      <td>223694</td>\n",
       "      <td>0</td>\n",
       "      <td>324432</td>\n",
       "      <td>0</td>\n",
       "      <td>265100</td>\n",
       "      <td>0</td>\n",
       "      <td>284140</td>\n",
       "      <td>0</td>\n",
       "      <td>D</td>\n",
       "      <td>3</td>\n",
       "      <td>Bacteria</td>\n",
       "    </tr>\n",
       "    <tr>\n",
       "      <th>3</th>\n",
       "      <td>35.1509</td>\n",
       "      <td>645944</td>\n",
       "      <td>0</td>\n",
       "      <td>62650</td>\n",
       "      <td>0</td>\n",
       "      <td>30091</td>\n",
       "      <td>0</td>\n",
       "      <td>114312</td>\n",
       "      <td>0</td>\n",
       "      <td>189540</td>\n",
       "      <td>0</td>\n",
       "      <td>110498</td>\n",
       "      <td>0</td>\n",
       "      <td>138853</td>\n",
       "      <td>0</td>\n",
       "      <td>P</td>\n",
       "      <td>2375</td>\n",
       "      <td>Proteobacteria</td>\n",
       "    </tr>\n",
       "    <tr>\n",
       "      <th>4</th>\n",
       "      <td>28.3632</td>\n",
       "      <td>521211</td>\n",
       "      <td>0</td>\n",
       "      <td>29902</td>\n",
       "      <td>0</td>\n",
       "      <td>20580</td>\n",
       "      <td>0</td>\n",
       "      <td>92022</td>\n",
       "      <td>0</td>\n",
       "      <td>169623</td>\n",
       "      <td>0</td>\n",
       "      <td>79585</td>\n",
       "      <td>0</td>\n",
       "      <td>129499</td>\n",
       "      <td>0</td>\n",
       "      <td>C</td>\n",
       "      <td>3303</td>\n",
       "      <td>Gammaproteobacteria</td>\n",
       "    </tr>\n",
       "  </tbody>\n",
       "</table>\n",
       "</div>"
      ],
      "text/plain": [
       "      #perc  tot_all  tot_lvl  G1_1_all  G1_1_lvl  G2_1_all  G2_1_lvl  \\\n",
       "0    0.0000        0        0         0         0         0         0   \n",
       "1  100.1948  1841211        0    314064         0    326812         0   \n",
       "2   86.6385  1592096        0    261690         0    233040         0   \n",
       "3   35.1509   645944        0     62650         0     30091         0   \n",
       "4   28.3632   521211        0     29902         0     20580         0   \n",
       "\n",
       "   G3_1_all  G3_1_lvl  G4_1_all  G4_1_lvl  G5_1_all  G5_1_lvl  G6_1_all  \\\n",
       "0         0         0         0         0         0         0         0   \n",
       "1    231626         0    341953         0    308615         0    318141   \n",
       "2    223694         0    324432         0    265100         0    284140   \n",
       "3    114312         0    189540         0    110498         0    138853   \n",
       "4     92022         0    169623         0     79585         0    129499   \n",
       "\n",
       "   G6_1_lvl lvl_type  taxid                       name  \n",
       "0         0        U      0               unclassified  \n",
       "1         0        R      1                       root  \n",
       "2         0        D      3                   Bacteria  \n",
       "3         0        P   2375             Proteobacteria  \n",
       "4         0        C   3303        Gammaproteobacteria  "
      ]
     },
     "execution_count": 266,
     "metadata": {},
     "output_type": "execute_result"
    }
   ],
   "source": [
    "## Open file\n",
    "number_samples = 6\n",
    "bracken_file=pd.read_csv(filepath_or_buffer='/Volumes/PiconCossio/biocomp_tools/MAUS/utils/braken_output_G1_G2.txt', \n",
    "                         delimiter='\\t', skiprows=8)\n",
    "bracken_file.head()"
   ]
  },
  {
   "cell_type": "code",
   "execution_count": 267,
   "metadata": {},
   "outputs": [],
   "source": [
    "## compute relative abundance (RelAbun)\n",
    "def compute_relative_abun (df, number_samples=6):\n",
    "    for i in range(1, number_samples+1):\n",
    "        i = str(i)\n",
    "        df[f\"G{i}_1_RelAbun\"] = df[f\"G{i}_1_lvl\"]/df[f\"G{i}_1_lvl\"].sum() * 100\n",
    "    return df"
   ]
  },
  {
   "cell_type": "code",
   "execution_count": 268,
   "metadata": {},
   "outputs": [],
   "source": [
    "bracken_file=compute_relative_abun(df=bracken_file, number_samples=number_samples)\n",
    "min_abundance=1\n",
    "def filter_by_abundance_conditional (df, number_samples, min_abundance, min_samples):\n",
    "    ## This is intended to mimic the taxa filter by abundance conditionally of qiime2\n",
    "    ## Select taxa that have at least n abundance in at least n samples \n",
    "    df = df[(df.iloc[:,number_samples*-1:] >= min_abundance).sum(axis=1) >= min_samples]\n",
    "    return df\n",
    "\n",
    "bracken_file = filter_by_abundance_conditional (df=bracken_file, \n",
    "                                                number_samples=number_samples,\n",
    "                                                min_abundance=min_abundance, \n",
    "                                                min_samples=2)\n",
    "bracken_file=compute_relative_abun(df=bracken_file, number_samples=number_samples)"
   ]
  },
  {
   "cell_type": "code",
   "execution_count": 269,
   "metadata": {},
   "outputs": [],
   "source": [
    "from plotly.subplots import make_subplots\n",
    "import plotly.graph_objects as go\n",
    "import plotly.express as px\n"
   ]
  },
  {
   "cell_type": "code",
   "execution_count": 270,
   "metadata": {},
   "outputs": [],
   "source": [
    "bracken_file_relative_abun=bracken_file.loc[:,\"name\":]\n",
    "fig = make_subplots(rows=2, cols=1)"
   ]
  },
  {
   "cell_type": "code",
   "execution_count": 271,
   "metadata": {},
   "outputs": [],
   "source": [
    "#bracken_file_relative_abun"
   ]
  },
  {
   "cell_type": "code",
   "execution_count": 272,
   "metadata": {},
   "outputs": [
    {
     "data": {
      "application/vnd.plotly.v1+json": {
       "config": {
        "plotlyServerURL": "https://plot.ly"
       },
       "data": [
        {
         "name": "Pseudomonas",
         "type": "bar",
         "x": [
          "G1_1_RelAbun",
          "G2_1_RelAbun",
          "G3_1_RelAbun",
          "G4_1_RelAbun",
          "G5_1_RelAbun",
          "G6_1_RelAbun"
         ],
         "xaxis": "x",
         "y": [
          6.48500630575926,
          1.5136064212110496,
          30.61717194239626,
          28.023965373084685,
          22.62745683860091,
          28.81381997129383
         ],
         "yaxis": "y"
        },
        {
         "name": "Thiopseudomonas",
         "type": "bar",
         "x": [
          "G1_1_RelAbun",
          "G2_1_RelAbun",
          "G3_1_RelAbun",
          "G4_1_RelAbun",
          "G5_1_RelAbun",
          "G6_1_RelAbun"
         ],
         "xaxis": "x",
         "y": [
          1.9804755009575414,
          0.06825826295056622,
          0.14531642844511422,
          10.09474360099594,
          0.9693975543652233,
          0.3650923837513954
         ],
         "yaxis": "y"
        },
        {
         "name": "Lampropedia",
         "type": "bar",
         "x": [
          "G1_1_RelAbun",
          "G2_1_RelAbun",
          "G3_1_RelAbun",
          "G4_1_RelAbun",
          "G5_1_RelAbun",
          "G6_1_RelAbun"
         ],
         "xaxis": "x",
         "y": [
          0.012845065159512354,
          0.33553459378109657,
          11.214737700002306,
          0.46332438712300034,
          0.5377835634563264,
          3.10527874604151
         ],
         "yaxis": "y"
        },
        {
         "name": "Burkholderia-Caballeronia-Paraburkholderia",
         "type": "bar",
         "x": [
          "G1_1_RelAbun",
          "G2_1_RelAbun",
          "G3_1_RelAbun",
          "G4_1_RelAbun",
          "G5_1_RelAbun",
          "G6_1_RelAbun"
         ],
         "xaxis": "x",
         "y": [
          1.081904806389836,
          1.454805628428333,
          2.3665818346775747,
          1.8676176442056733,
          0.7378518534326384,
          0.48811883443829307
         ],
         "yaxis": "y"
        },
        {
         "name": "Haemophilus",
         "type": "bar",
         "x": [
          "G1_1_RelAbun",
          "G2_1_RelAbun",
          "G3_1_RelAbun",
          "G4_1_RelAbun",
          "G5_1_RelAbun",
          "G6_1_RelAbun"
         ],
         "xaxis": "x",
         "y": [
          0.004670932785277219,
          0.01850374598057518,
          0.027679319703831282,
          3.466848978422849,
          3.8087667257090416,
          3.481192900918142
         ],
         "yaxis": "y"
        },
        {
         "name": "Bradyrhizobium",
         "type": "bar",
         "x": [
          "G1_1_RelAbun",
          "G2_1_RelAbun",
          "G3_1_RelAbun",
          "G4_1_RelAbun",
          "G5_1_RelAbun",
          "G6_1_RelAbun"
         ],
         "xaxis": "x",
         "y": [
          0.5032930076136205,
          1.3429607638346341,
          4.8454186881540195,
          3.262672129860171,
          0.659958599201861,
          1.4159433167019797
         ],
         "yaxis": "y"
        },
        {
         "name": "uncultured",
         "type": "bar",
         "x": [
          "G1_1_RelAbun",
          "G2_1_RelAbun",
          "G3_1_RelAbun",
          "G4_1_RelAbun",
          "G5_1_RelAbun",
          "G6_1_RelAbun"
         ],
         "xaxis": "x",
         "y": [
          12.569480125180998,
          19.343404853738168,
          2.2389494160432415,
          0.5691083199756096,
          4.873663543822959,
          0.30357915840794664
         ],
         "yaxis": "y"
        },
        {
         "name": "Christensenellaceae R-7 group",
         "type": "bar",
         "x": [
          "G1_1_RelAbun",
          "G2_1_RelAbun",
          "G3_1_RelAbun",
          "G4_1_RelAbun",
          "G5_1_RelAbun",
          "G6_1_RelAbun"
         ],
         "xaxis": "x",
         "y": [
          6.812555467326825,
          7.563508968148885,
          3.1146923366727917,
          3.1430300398652986,
          9.773469344202821,
          3.732371904403891
         ],
         "yaxis": "y"
        },
        {
         "name": "Sedimentibacter",
         "type": "bar",
         "x": [
          "G1_1_RelAbun",
          "G2_1_RelAbun",
          "G3_1_RelAbun",
          "G4_1_RelAbun",
          "G5_1_RelAbun",
          "G6_1_RelAbun"
         ],
         "xaxis": "x",
         "y": [
          6.234527535148769,
          4.646907407255113,
          3.1685132360969086,
          0.8675206371056777,
          4.636782688491005,
          1.1055293554780945
         ],
         "yaxis": "y"
        },
        {
         "name": "Acholeplasma",
         "type": "bar",
         "x": [
          "G1_1_RelAbun",
          "G2_1_RelAbun",
          "G3_1_RelAbun",
          "G4_1_RelAbun",
          "G5_1_RelAbun",
          "G6_1_RelAbun"
         ],
         "xaxis": "x",
         "y": [
          9.049348404876453,
          4.998889775241166,
          0.607407293500742,
          0.09700709999584255,
          1.0894385283510106,
          0.42546647529218784
         ],
         "yaxis": "y"
        },
        {
         "name": "UCG-004",
         "type": "bar",
         "x": [
          "G1_1_RelAbun",
          "G2_1_RelAbun",
          "G3_1_RelAbun",
          "G4_1_RelAbun",
          "G5_1_RelAbun",
          "G6_1_RelAbun"
         ],
         "xaxis": "x",
         "y": [
          2.0452846933532625,
          2.904265730240055,
          0.3990435257302343,
          3.340739748428254,
          0.529780831857274,
          0.2790877816508327
         ],
         "yaxis": "y"
        },
        {
         "name": "Staphylococcus",
         "type": "bar",
         "x": [
          "G1_1_RelAbun",
          "G2_1_RelAbun",
          "G3_1_RelAbun",
          "G4_1_RelAbun",
          "G5_1_RelAbun",
          "G6_1_RelAbun"
         ],
         "xaxis": "x",
         "y": [
          1.805899388107805,
          3.096293494082913,
          0.34060940635547937,
          3.9694381441155953,
          0.2432830406111953,
          0.2346615633472308
         ],
         "yaxis": "y"
        },
        {
         "name": "Hydrogenispora",
         "type": "bar",
         "x": [
          "G1_1_RelAbun",
          "G2_1_RelAbun",
          "G3_1_RelAbun",
          "G4_1_RelAbun",
          "G5_1_RelAbun",
          "G6_1_RelAbun"
         ],
         "xaxis": "x",
         "y": [
          0.04495772805829324,
          0.4905548656628042,
          25.618748125879392,
          0.43237450283861256,
          0.7522567703109327,
          13.081812589706788
         ],
         "yaxis": "y"
        },
        {
         "name": "uncultured",
         "type": "bar",
         "x": [
          "G1_1_RelAbun",
          "G2_1_RelAbun",
          "G3_1_RelAbun",
          "G4_1_RelAbun",
          "G5_1_RelAbun",
          "G6_1_RelAbun"
         ],
         "xaxis": "x",
         "y": [
          12.782591433509271,
          11.642968165333025,
          3.889713288380068,
          7.007146189699694,
          15.849676689643399,
          4.177203654341239
         ],
         "yaxis": "y"
        },
        {
         "name": "Flexilinea",
         "type": "bar",
         "x": [
          "G1_1_RelAbun",
          "G2_1_RelAbun",
          "G3_1_RelAbun",
          "G4_1_RelAbun",
          "G5_1_RelAbun",
          "G6_1_RelAbun"
         ],
         "xaxis": "x",
         "y": [
          3.3910972021112618,
          1.3211674630130679,
          0.4167275355410153,
          9.40876482245391,
          1.75473228195224,
          2.0242407673205296
         ],
         "yaxis": "y"
        },
        {
         "name": "Amycolatopsis",
         "type": "bar",
         "x": [
          "G1_1_RelAbun",
          "G2_1_RelAbun",
          "G3_1_RelAbun",
          "G4_1_RelAbun",
          "G5_1_RelAbun",
          "G6_1_RelAbun"
         ],
         "xaxis": "x",
         "y": [
          0.026857863515344017,
          2.3240704951602424,
          4.946140657076295,
          3.618826768416336,
          5.034251691243945,
          7.185086460255621
         ],
         "yaxis": "y"
        },
        {
         "name": "DEV114",
         "type": "bar",
         "x": [
          "G1_1_RelAbun",
          "G2_1_RelAbun",
          "G3_1_RelAbun",
          "G4_1_RelAbun",
          "G5_1_RelAbun",
          "G6_1_RelAbun"
         ],
         "xaxis": "x",
         "y": [
          4.542482133682096,
          4.804394845267565,
          0.15531173833816442,
          8.062213886797334,
          5.220982095221836,
          2.0196842321099036
         ],
         "yaxis": "y"
        },
        {
         "name": "Bacteroides",
         "type": "bar",
         "x": [
          "G1_1_RelAbun",
          "G2_1_RelAbun",
          "G3_1_RelAbun",
          "G4_1_RelAbun",
          "G5_1_RelAbun",
          "G6_1_RelAbun"
         ],
         "xaxis": "x",
         "y": [
          4.8028866364613005,
          1.0678717402567497,
          0.3136989566434212,
          2.152633742764887,
          1.8363601442625748,
          0.733032602009432
         ],
         "yaxis": "y"
        },
        {
         "name": "uncultured",
         "type": "bar",
         "x": [
          "G1_1_RelAbun",
          "G2_1_RelAbun",
          "G3_1_RelAbun",
          "G4_1_RelAbun",
          "G5_1_RelAbun",
          "G6_1_RelAbun"
         ],
         "xaxis": "x",
         "y": [
          1.238381054696623,
          1.0152388628008915,
          0.9018845003498359,
          4.154213572679105,
          2.2551697646129876,
          11.548538491331191
         ],
         "yaxis": "y"
        },
        {
         "name": "Methanoculleus",
         "type": "bar",
         "x": [
          "G1_1_RelAbun",
          "G2_1_RelAbun",
          "G3_1_RelAbun",
          "G4_1_RelAbun",
          "G5_1_RelAbun",
          "G6_1_RelAbun"
         ],
         "xaxis": "x",
         "y": [
          12.794268765472463,
          17.077312762650397,
          0.08918891904567856,
          0.43653194998129147,
          0.428412898269276,
          0.6498758344155104
         ],
         "yaxis": "y"
        },
        {
         "name": "Methanocorpusculum",
         "type": "bar",
         "x": [
          "G1_1_RelAbun",
          "G2_1_RelAbun",
          "G3_1_RelAbun",
          "G4_1_RelAbun",
          "G5_1_RelAbun",
          "G6_1_RelAbun"
         ],
         "xaxis": "x",
         "y": [
          0.10859918725769535,
          0.22204495176690214,
          0.02229722976141964,
          0.1122510728523321,
          4.027508056083143,
          14.02387624450368
         ],
         "yaxis": "y"
        },
        {
         "name": "Methanosaeta",
         "type": "bar",
         "x": [
          "G1_1_RelAbun",
          "G2_1_RelAbun",
          "G3_1_RelAbun",
          "G4_1_RelAbun",
          "G5_1_RelAbun",
          "G6_1_RelAbun"
         ],
         "xaxis": "x",
         "y": [
          8.390746882152365,
          8.72801138185975,
          4.132676205780364,
          3.812840968408021,
          10.623892955462132,
          0.46248832387852273
         ],
         "yaxis": "y"
        },
        {
         "name": "Methanosarcina",
         "type": "bar",
         "x": [
          "G1_1_RelAbun",
          "G2_1_RelAbun",
          "G3_1_RelAbun",
          "G4_1_RelAbun",
          "G5_1_RelAbun",
          "G6_1_RelAbun"
         ],
         "xaxis": "x",
         "y": [
          2.3494791909944417,
          2.5436482807964014,
          0.1383965985191564,
          0.030026007141570315,
          0.24274952517125845,
          0.01651744013851867
         ],
         "yaxis": "y"
        },
        {
         "name": "Candidatus Methanogranum",
         "type": "bar",
         "x": [
          "G1_1_RelAbun",
          "G2_1_RelAbun",
          "G3_1_RelAbun",
          "G4_1_RelAbun",
          "G5_1_RelAbun",
          "G6_1_RelAbun"
         ],
         "xaxis": "x",
         "y": [
          0.942360689429679,
          1.4757765405396515,
          0.2890951169066822,
          1.6061604127883076,
          1.4863740156640133,
          0.32750096826373226
         ],
         "yaxis": "y"
        }
       ],
       "layout": {
        "autosize": true,
        "barmode": "stack",
        "height": 800,
        "template": {
         "data": {
          "bar": [
           {
            "error_x": {
             "color": "#2a3f5f"
            },
            "error_y": {
             "color": "#2a3f5f"
            },
            "marker": {
             "line": {
              "color": "#E5ECF6",
              "width": 0.5
             },
             "pattern": {
              "fillmode": "overlay",
              "size": 10,
              "solidity": 0.2
             }
            },
            "type": "bar"
           }
          ],
          "barpolar": [
           {
            "marker": {
             "line": {
              "color": "#E5ECF6",
              "width": 0.5
             },
             "pattern": {
              "fillmode": "overlay",
              "size": 10,
              "solidity": 0.2
             }
            },
            "type": "barpolar"
           }
          ],
          "carpet": [
           {
            "aaxis": {
             "endlinecolor": "#2a3f5f",
             "gridcolor": "white",
             "linecolor": "white",
             "minorgridcolor": "white",
             "startlinecolor": "#2a3f5f"
            },
            "baxis": {
             "endlinecolor": "#2a3f5f",
             "gridcolor": "white",
             "linecolor": "white",
             "minorgridcolor": "white",
             "startlinecolor": "#2a3f5f"
            },
            "type": "carpet"
           }
          ],
          "choropleth": [
           {
            "colorbar": {
             "outlinewidth": 0,
             "ticks": ""
            },
            "type": "choropleth"
           }
          ],
          "contour": [
           {
            "colorbar": {
             "outlinewidth": 0,
             "ticks": ""
            },
            "colorscale": [
             [
              0,
              "#0d0887"
             ],
             [
              0.1111111111111111,
              "#46039f"
             ],
             [
              0.2222222222222222,
              "#7201a8"
             ],
             [
              0.3333333333333333,
              "#9c179e"
             ],
             [
              0.4444444444444444,
              "#bd3786"
             ],
             [
              0.5555555555555556,
              "#d8576b"
             ],
             [
              0.6666666666666666,
              "#ed7953"
             ],
             [
              0.7777777777777778,
              "#fb9f3a"
             ],
             [
              0.8888888888888888,
              "#fdca26"
             ],
             [
              1,
              "#f0f921"
             ]
            ],
            "type": "contour"
           }
          ],
          "contourcarpet": [
           {
            "colorbar": {
             "outlinewidth": 0,
             "ticks": ""
            },
            "type": "contourcarpet"
           }
          ],
          "heatmap": [
           {
            "colorbar": {
             "outlinewidth": 0,
             "ticks": ""
            },
            "colorscale": [
             [
              0,
              "#0d0887"
             ],
             [
              0.1111111111111111,
              "#46039f"
             ],
             [
              0.2222222222222222,
              "#7201a8"
             ],
             [
              0.3333333333333333,
              "#9c179e"
             ],
             [
              0.4444444444444444,
              "#bd3786"
             ],
             [
              0.5555555555555556,
              "#d8576b"
             ],
             [
              0.6666666666666666,
              "#ed7953"
             ],
             [
              0.7777777777777778,
              "#fb9f3a"
             ],
             [
              0.8888888888888888,
              "#fdca26"
             ],
             [
              1,
              "#f0f921"
             ]
            ],
            "type": "heatmap"
           }
          ],
          "heatmapgl": [
           {
            "colorbar": {
             "outlinewidth": 0,
             "ticks": ""
            },
            "colorscale": [
             [
              0,
              "#0d0887"
             ],
             [
              0.1111111111111111,
              "#46039f"
             ],
             [
              0.2222222222222222,
              "#7201a8"
             ],
             [
              0.3333333333333333,
              "#9c179e"
             ],
             [
              0.4444444444444444,
              "#bd3786"
             ],
             [
              0.5555555555555556,
              "#d8576b"
             ],
             [
              0.6666666666666666,
              "#ed7953"
             ],
             [
              0.7777777777777778,
              "#fb9f3a"
             ],
             [
              0.8888888888888888,
              "#fdca26"
             ],
             [
              1,
              "#f0f921"
             ]
            ],
            "type": "heatmapgl"
           }
          ],
          "histogram": [
           {
            "marker": {
             "pattern": {
              "fillmode": "overlay",
              "size": 10,
              "solidity": 0.2
             }
            },
            "type": "histogram"
           }
          ],
          "histogram2d": [
           {
            "colorbar": {
             "outlinewidth": 0,
             "ticks": ""
            },
            "colorscale": [
             [
              0,
              "#0d0887"
             ],
             [
              0.1111111111111111,
              "#46039f"
             ],
             [
              0.2222222222222222,
              "#7201a8"
             ],
             [
              0.3333333333333333,
              "#9c179e"
             ],
             [
              0.4444444444444444,
              "#bd3786"
             ],
             [
              0.5555555555555556,
              "#d8576b"
             ],
             [
              0.6666666666666666,
              "#ed7953"
             ],
             [
              0.7777777777777778,
              "#fb9f3a"
             ],
             [
              0.8888888888888888,
              "#fdca26"
             ],
             [
              1,
              "#f0f921"
             ]
            ],
            "type": "histogram2d"
           }
          ],
          "histogram2dcontour": [
           {
            "colorbar": {
             "outlinewidth": 0,
             "ticks": ""
            },
            "colorscale": [
             [
              0,
              "#0d0887"
             ],
             [
              0.1111111111111111,
              "#46039f"
             ],
             [
              0.2222222222222222,
              "#7201a8"
             ],
             [
              0.3333333333333333,
              "#9c179e"
             ],
             [
              0.4444444444444444,
              "#bd3786"
             ],
             [
              0.5555555555555556,
              "#d8576b"
             ],
             [
              0.6666666666666666,
              "#ed7953"
             ],
             [
              0.7777777777777778,
              "#fb9f3a"
             ],
             [
              0.8888888888888888,
              "#fdca26"
             ],
             [
              1,
              "#f0f921"
             ]
            ],
            "type": "histogram2dcontour"
           }
          ],
          "mesh3d": [
           {
            "colorbar": {
             "outlinewidth": 0,
             "ticks": ""
            },
            "type": "mesh3d"
           }
          ],
          "parcoords": [
           {
            "line": {
             "colorbar": {
              "outlinewidth": 0,
              "ticks": ""
             }
            },
            "type": "parcoords"
           }
          ],
          "pie": [
           {
            "automargin": true,
            "type": "pie"
           }
          ],
          "scatter": [
           {
            "fillpattern": {
             "fillmode": "overlay",
             "size": 10,
             "solidity": 0.2
            },
            "type": "scatter"
           }
          ],
          "scatter3d": [
           {
            "line": {
             "colorbar": {
              "outlinewidth": 0,
              "ticks": ""
             }
            },
            "marker": {
             "colorbar": {
              "outlinewidth": 0,
              "ticks": ""
             }
            },
            "type": "scatter3d"
           }
          ],
          "scattercarpet": [
           {
            "marker": {
             "colorbar": {
              "outlinewidth": 0,
              "ticks": ""
             }
            },
            "type": "scattercarpet"
           }
          ],
          "scattergeo": [
           {
            "marker": {
             "colorbar": {
              "outlinewidth": 0,
              "ticks": ""
             }
            },
            "type": "scattergeo"
           }
          ],
          "scattergl": [
           {
            "marker": {
             "colorbar": {
              "outlinewidth": 0,
              "ticks": ""
             }
            },
            "type": "scattergl"
           }
          ],
          "scattermapbox": [
           {
            "marker": {
             "colorbar": {
              "outlinewidth": 0,
              "ticks": ""
             }
            },
            "type": "scattermapbox"
           }
          ],
          "scatterpolar": [
           {
            "marker": {
             "colorbar": {
              "outlinewidth": 0,
              "ticks": ""
             }
            },
            "type": "scatterpolar"
           }
          ],
          "scatterpolargl": [
           {
            "marker": {
             "colorbar": {
              "outlinewidth": 0,
              "ticks": ""
             }
            },
            "type": "scatterpolargl"
           }
          ],
          "scatterternary": [
           {
            "marker": {
             "colorbar": {
              "outlinewidth": 0,
              "ticks": ""
             }
            },
            "type": "scatterternary"
           }
          ],
          "surface": [
           {
            "colorbar": {
             "outlinewidth": 0,
             "ticks": ""
            },
            "colorscale": [
             [
              0,
              "#0d0887"
             ],
             [
              0.1111111111111111,
              "#46039f"
             ],
             [
              0.2222222222222222,
              "#7201a8"
             ],
             [
              0.3333333333333333,
              "#9c179e"
             ],
             [
              0.4444444444444444,
              "#bd3786"
             ],
             [
              0.5555555555555556,
              "#d8576b"
             ],
             [
              0.6666666666666666,
              "#ed7953"
             ],
             [
              0.7777777777777778,
              "#fb9f3a"
             ],
             [
              0.8888888888888888,
              "#fdca26"
             ],
             [
              1,
              "#f0f921"
             ]
            ],
            "type": "surface"
           }
          ],
          "table": [
           {
            "cells": {
             "fill": {
              "color": "#EBF0F8"
             },
             "line": {
              "color": "white"
             }
            },
            "header": {
             "fill": {
              "color": "#C8D4E3"
             },
             "line": {
              "color": "white"
             }
            },
            "type": "table"
           }
          ]
         },
         "layout": {
          "annotationdefaults": {
           "arrowcolor": "#2a3f5f",
           "arrowhead": 0,
           "arrowwidth": 1
          },
          "autotypenumbers": "strict",
          "coloraxis": {
           "colorbar": {
            "outlinewidth": 0,
            "ticks": ""
           }
          },
          "colorscale": {
           "diverging": [
            [
             0,
             "#8e0152"
            ],
            [
             0.1,
             "#c51b7d"
            ],
            [
             0.2,
             "#de77ae"
            ],
            [
             0.3,
             "#f1b6da"
            ],
            [
             0.4,
             "#fde0ef"
            ],
            [
             0.5,
             "#f7f7f7"
            ],
            [
             0.6,
             "#e6f5d0"
            ],
            [
             0.7,
             "#b8e186"
            ],
            [
             0.8,
             "#7fbc41"
            ],
            [
             0.9,
             "#4d9221"
            ],
            [
             1,
             "#276419"
            ]
           ],
           "sequential": [
            [
             0,
             "#0d0887"
            ],
            [
             0.1111111111111111,
             "#46039f"
            ],
            [
             0.2222222222222222,
             "#7201a8"
            ],
            [
             0.3333333333333333,
             "#9c179e"
            ],
            [
             0.4444444444444444,
             "#bd3786"
            ],
            [
             0.5555555555555556,
             "#d8576b"
            ],
            [
             0.6666666666666666,
             "#ed7953"
            ],
            [
             0.7777777777777778,
             "#fb9f3a"
            ],
            [
             0.8888888888888888,
             "#fdca26"
            ],
            [
             1,
             "#f0f921"
            ]
           ],
           "sequentialminus": [
            [
             0,
             "#0d0887"
            ],
            [
             0.1111111111111111,
             "#46039f"
            ],
            [
             0.2222222222222222,
             "#7201a8"
            ],
            [
             0.3333333333333333,
             "#9c179e"
            ],
            [
             0.4444444444444444,
             "#bd3786"
            ],
            [
             0.5555555555555556,
             "#d8576b"
            ],
            [
             0.6666666666666666,
             "#ed7953"
            ],
            [
             0.7777777777777778,
             "#fb9f3a"
            ],
            [
             0.8888888888888888,
             "#fdca26"
            ],
            [
             1,
             "#f0f921"
            ]
           ]
          },
          "colorway": [
           "#636efa",
           "#EF553B",
           "#00cc96",
           "#ab63fa",
           "#FFA15A",
           "#19d3f3",
           "#FF6692",
           "#B6E880",
           "#FF97FF",
           "#FECB52"
          ],
          "font": {
           "color": "#2a3f5f"
          },
          "geo": {
           "bgcolor": "white",
           "lakecolor": "white",
           "landcolor": "#E5ECF6",
           "showlakes": true,
           "showland": true,
           "subunitcolor": "white"
          },
          "hoverlabel": {
           "align": "left"
          },
          "hovermode": "closest",
          "mapbox": {
           "style": "light"
          },
          "paper_bgcolor": "white",
          "plot_bgcolor": "#E5ECF6",
          "polar": {
           "angularaxis": {
            "gridcolor": "white",
            "linecolor": "white",
            "ticks": ""
           },
           "bgcolor": "#E5ECF6",
           "radialaxis": {
            "gridcolor": "white",
            "linecolor": "white",
            "ticks": ""
           }
          },
          "scene": {
           "xaxis": {
            "backgroundcolor": "#E5ECF6",
            "gridcolor": "white",
            "gridwidth": 2,
            "linecolor": "white",
            "showbackground": true,
            "ticks": "",
            "zerolinecolor": "white"
           },
           "yaxis": {
            "backgroundcolor": "#E5ECF6",
            "gridcolor": "white",
            "gridwidth": 2,
            "linecolor": "white",
            "showbackground": true,
            "ticks": "",
            "zerolinecolor": "white"
           },
           "zaxis": {
            "backgroundcolor": "#E5ECF6",
            "gridcolor": "white",
            "gridwidth": 2,
            "linecolor": "white",
            "showbackground": true,
            "ticks": "",
            "zerolinecolor": "white"
           }
          },
          "shapedefaults": {
           "line": {
            "color": "#2a3f5f"
           }
          },
          "ternary": {
           "aaxis": {
            "gridcolor": "white",
            "linecolor": "white",
            "ticks": ""
           },
           "baxis": {
            "gridcolor": "white",
            "linecolor": "white",
            "ticks": ""
           },
           "bgcolor": "#E5ECF6",
           "caxis": {
            "gridcolor": "white",
            "linecolor": "white",
            "ticks": ""
           }
          },
          "title": {
           "x": 0.05
          },
          "xaxis": {
           "automargin": true,
           "gridcolor": "white",
           "linecolor": "white",
           "ticks": "",
           "title": {
            "standoff": 15
           },
           "zerolinecolor": "white",
           "zerolinewidth": 2
          },
          "yaxis": {
           "automargin": true,
           "gridcolor": "white",
           "linecolor": "white",
           "ticks": "",
           "title": {
            "standoff": 15
           },
           "zerolinecolor": "white",
           "zerolinewidth": 2
          }
         }
        },
        "title": {
         "text": "Relative abundance V3-V4 Kraken2-Bracken"
        },
        "width": 1200,
        "xaxis": {
         "anchor": "y",
         "domain": [
          0,
          1
         ]
        },
        "xaxis2": {
         "anchor": "y2",
         "domain": [
          0,
          1
         ]
        },
        "yaxis": {
         "anchor": "x",
         "domain": [
          0.575,
          1
         ]
        },
        "yaxis2": {
         "anchor": "x2",
         "domain": [
          0,
          0.425
         ]
        }
       }
      }
     },
     "metadata": {},
     "output_type": "display_data"
    }
   ],
   "source": [
    "sample_names=bracken_file_relative_abun.iloc[:,1:].columns\n",
    "bracken_file_relative_abun[\"name\"] = bracken_file_relative_abun[\"name\"].apply(lambda x:x.strip())\n",
    "\n",
    "for i in range(0, len(bracken_file_relative_abun[\"name\"])):\n",
    "      fig.add_trace(go.Bar(name=bracken_file_relative_abun.iloc[i,0].strip(),\n",
    "                        x=sample_names,y=bracken_file_relative_abun.iloc[i,1:]),\n",
    "                  row=1, col=1)\n",
    "\n",
    "fig.update_layout(barmode='stack',\n",
    "    autosize=True,\n",
    "    width=1200,\n",
    "    height=800,\n",
    "    title_text=\"Relative abundance V3-V4 Kraken2-Bracken\")\n",
    "fig.show()"
   ]
  },
  {
   "cell_type": "code",
   "execution_count": null,
   "metadata": {},
   "outputs": [],
   "source": []
  }
 ],
 "metadata": {
  "kernelspec": {
   "display_name": "MAUS",
   "language": "python",
   "name": "python3"
  },
  "language_info": {
   "codemirror_mode": {
    "name": "ipython",
    "version": 3
   },
   "file_extension": ".py",
   "mimetype": "text/x-python",
   "name": "python",
   "nbconvert_exporter": "python",
   "pygments_lexer": "ipython3",
   "version": "3.8.19"
  }
 },
 "nbformat": 4,
 "nbformat_minor": 2
}
