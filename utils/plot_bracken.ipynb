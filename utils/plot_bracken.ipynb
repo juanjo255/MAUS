{
 "cells": [
  {
   "cell_type": "code",
   "execution_count": 1,
   "metadata": {},
   "outputs": [],
   "source": [
    "import pandas as pd"
   ]
  },
  {
   "cell_type": "code",
   "execution_count": 2,
   "metadata": {},
   "outputs": [
    {
     "data": {
      "text/html": [
       "<div>\n",
       "<style scoped>\n",
       "    .dataframe tbody tr th:only-of-type {\n",
       "        vertical-align: middle;\n",
       "    }\n",
       "\n",
       "    .dataframe tbody tr th {\n",
       "        vertical-align: top;\n",
       "    }\n",
       "\n",
       "    .dataframe thead th {\n",
       "        text-align: right;\n",
       "    }\n",
       "</style>\n",
       "<table border=\"1\" class=\"dataframe\">\n",
       "  <thead>\n",
       "    <tr style=\"text-align: right;\">\n",
       "      <th></th>\n",
       "      <th>name</th>\n",
       "      <th>taxonomy_id</th>\n",
       "      <th>taxonomy_lvl</th>\n",
       "      <th>kraken_assigned_reads</th>\n",
       "      <th>added_reads</th>\n",
       "      <th>new_est_reads</th>\n",
       "      <th>fraction_total_reads</th>\n",
       "    </tr>\n",
       "  </thead>\n",
       "  <tbody>\n",
       "    <tr>\n",
       "      <th>0</th>\n",
       "      <td>uncultured</td>\n",
       "      <td>45380</td>\n",
       "      <td>G</td>\n",
       "      <td>20757</td>\n",
       "      <td>771</td>\n",
       "      <td>21528</td>\n",
       "      <td>0.06855</td>\n",
       "    </tr>\n",
       "    <tr>\n",
       "      <th>1</th>\n",
       "      <td>Eubacterium</td>\n",
       "      <td>45378</td>\n",
       "      <td>G</td>\n",
       "      <td>604</td>\n",
       "      <td>228</td>\n",
       "      <td>832</td>\n",
       "      <td>0.00265</td>\n",
       "    </tr>\n",
       "    <tr>\n",
       "      <th>2</th>\n",
       "      <td>Pseudoramibacter</td>\n",
       "      <td>45379</td>\n",
       "      <td>G</td>\n",
       "      <td>100</td>\n",
       "      <td>25</td>\n",
       "      <td>125</td>\n",
       "      <td>0.00040</td>\n",
       "    </tr>\n",
       "    <tr>\n",
       "      <th>3</th>\n",
       "      <td>Acetobacterium</td>\n",
       "      <td>45377</td>\n",
       "      <td>G</td>\n",
       "      <td>65</td>\n",
       "      <td>11</td>\n",
       "      <td>76</td>\n",
       "      <td>0.00024</td>\n",
       "    </tr>\n",
       "    <tr>\n",
       "      <th>4</th>\n",
       "      <td>Anaerofustis</td>\n",
       "      <td>45375</td>\n",
       "      <td>G</td>\n",
       "      <td>1085</td>\n",
       "      <td>55</td>\n",
       "      <td>1140</td>\n",
       "      <td>0.00363</td>\n",
       "    </tr>\n",
       "  </tbody>\n",
       "</table>\n",
       "</div>"
      ],
      "text/plain": [
       "               name  taxonomy_id taxonomy_lvl  kraken_assigned_reads  \\\n",
       "0        uncultured        45380            G                  20757   \n",
       "1       Eubacterium        45378            G                    604   \n",
       "2  Pseudoramibacter        45379            G                    100   \n",
       "3    Acetobacterium        45377            G                     65   \n",
       "4      Anaerofustis        45375            G                   1085   \n",
       "\n",
       "   added_reads  new_est_reads  fraction_total_reads  \n",
       "0          771          21528               0.06855  \n",
       "1          228            832               0.00265  \n",
       "2           25            125               0.00040  \n",
       "3           11             76               0.00024  \n",
       "4           55           1140               0.00363  "
      ]
     },
     "execution_count": 2,
     "metadata": {},
     "output_type": "execute_result"
    }
   ],
   "source": [
    "## Open file\n",
    "bracken_file=pd.read_csv(filepath_or_buffer='/Users/jjpc/PiconCossio/UNI-SEQ/16S/G1_1/G1_1_1_G1_1_2_G.bracken_output' ,delimiter='\\t')\n",
    "bracken_file.head()"
   ]
  },
  {
   "cell_type": "code",
   "execution_count": 7,
   "metadata": {},
   "outputs": [
    {
     "data": {
      "text/html": [
       "<div>\n",
       "<style scoped>\n",
       "    .dataframe tbody tr th:only-of-type {\n",
       "        vertical-align: middle;\n",
       "    }\n",
       "\n",
       "    .dataframe tbody tr th {\n",
       "        vertical-align: top;\n",
       "    }\n",
       "\n",
       "    .dataframe thead th {\n",
       "        text-align: right;\n",
       "    }\n",
       "</style>\n",
       "<table border=\"1\" class=\"dataframe\">\n",
       "  <thead>\n",
       "    <tr style=\"text-align: right;\">\n",
       "      <th></th>\n",
       "      <th>name</th>\n",
       "      <th>taxonomy_id</th>\n",
       "      <th>taxonomy_lvl</th>\n",
       "      <th>kraken_assigned_reads</th>\n",
       "      <th>added_reads</th>\n",
       "      <th>new_est_reads</th>\n",
       "      <th>fraction_total_reads</th>\n",
       "    </tr>\n",
       "  </thead>\n",
       "  <tbody>\n",
       "  </tbody>\n",
       "</table>\n",
       "</div>"
      ],
      "text/plain": [
       "Empty DataFrame\n",
       "Columns: [name, taxonomy_id, taxonomy_lvl, kraken_assigned_reads, added_reads, new_est_reads, fraction_total_reads]\n",
       "Index: []"
      ]
     },
     "execution_count": 7,
     "metadata": {},
     "output_type": "execute_result"
    }
   ],
   "source": [
    "bracken_file[bracken_file[\"fraction_total_reads\"] >= 0.1]"
   ]
  }
 ],
 "metadata": {
  "kernelspec": {
   "display_name": "MAUS",
   "language": "python",
   "name": "python3"
  },
  "language_info": {
   "codemirror_mode": {
    "name": "ipython",
    "version": 3
   },
   "file_extension": ".py",
   "mimetype": "text/x-python",
   "name": "python",
   "nbconvert_exporter": "python",
   "pygments_lexer": "ipython3",
   "version": "3.8.19"
  }
 },
 "nbformat": 4,
 "nbformat_minor": 2
}
