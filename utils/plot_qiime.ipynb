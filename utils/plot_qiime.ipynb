{
 "cells": [
  {
   "cell_type": "markdown",
   "metadata": {},
   "source": [
    "# Plotting alpha diversity metrics for Qiime2 bioreactor analysis"
   ]
  },
  {
   "cell_type": "code",
   "execution_count": 70,
   "metadata": {},
   "outputs": [],
   "source": [
    "import pandas as pd\n",
    "import matplotlib.pyplot as plt\n",
    "import seaborn as sns\n",
    "import os"
   ]
  },
  {
   "cell_type": "code",
   "execution_count": 71,
   "metadata": {},
   "outputs": [],
   "source": [
    "alpha_metrics_folders=os.listdir(\"alpha-metric-for-plot\")\n",
    "alpha_diversity=pd.DataFrame()\n",
    "for folder in alpha_metrics_folders:\n",
    "    file=pd.read_csv(filepath_or_buffer=f\"./alpha-metric-for-plot/{folder}/alpha-diversity.tsv\", delimiter=\"\\t\", header=None, skiprows=1)   \n",
    "    file[\"alpha_metric\"]=folder\n",
    "    alpha_diversity = pd.concat([alpha_diversity, file], axis=0)\n",
    "alpha_diversity.reset_index(drop=True,inplace=True)\n",
    "alpha_diversity=alpha_diversity[alpha_diversity[\"alpha_metric\"]!=\"observed_features\"]"
   ]
  },
  {
   "cell_type": "code",
   "execution_count": 72,
   "metadata": {},
   "outputs": [
    {
     "data": {
      "text/html": [
       "<div>\n",
       "<style scoped>\n",
       "    .dataframe tbody tr th:only-of-type {\n",
       "        vertical-align: middle;\n",
       "    }\n",
       "\n",
       "    .dataframe tbody tr th {\n",
       "        vertical-align: top;\n",
       "    }\n",
       "\n",
       "    .dataframe thead th {\n",
       "        text-align: right;\n",
       "    }\n",
       "</style>\n",
       "<table border=\"1\" class=\"dataframe\">\n",
       "  <thead>\n",
       "    <tr style=\"text-align: right;\">\n",
       "      <th></th>\n",
       "      <th>0</th>\n",
       "      <th>1</th>\n",
       "      <th>alpha_metric</th>\n",
       "    </tr>\n",
       "  </thead>\n",
       "  <tbody>\n",
       "    <tr>\n",
       "      <th>0</th>\n",
       "      <td>G1_1</td>\n",
       "      <td>6.64</td>\n",
       "      <td>shannon</td>\n",
       "    </tr>\n",
       "    <tr>\n",
       "      <th>1</th>\n",
       "      <td>G2_1</td>\n",
       "      <td>5.78</td>\n",
       "      <td>shannon</td>\n",
       "    </tr>\n",
       "    <tr>\n",
       "      <th>2</th>\n",
       "      <td>G3_1</td>\n",
       "      <td>6.13</td>\n",
       "      <td>shannon</td>\n",
       "    </tr>\n",
       "    <tr>\n",
       "      <th>3</th>\n",
       "      <td>G4_1</td>\n",
       "      <td>6.11</td>\n",
       "      <td>shannon</td>\n",
       "    </tr>\n",
       "    <tr>\n",
       "      <th>4</th>\n",
       "      <td>G5_1</td>\n",
       "      <td>6.85</td>\n",
       "      <td>shannon</td>\n",
       "    </tr>\n",
       "    <tr>\n",
       "      <th>5</th>\n",
       "      <td>G6_1</td>\n",
       "      <td>6.19</td>\n",
       "      <td>shannon</td>\n",
       "    </tr>\n",
       "    <tr>\n",
       "      <th>12</th>\n",
       "      <td>G1_1</td>\n",
       "      <td>0.97</td>\n",
       "      <td>simpson</td>\n",
       "    </tr>\n",
       "    <tr>\n",
       "      <th>13</th>\n",
       "      <td>G2_1</td>\n",
       "      <td>0.95</td>\n",
       "      <td>simpson</td>\n",
       "    </tr>\n",
       "    <tr>\n",
       "      <th>14</th>\n",
       "      <td>G3_1</td>\n",
       "      <td>0.96</td>\n",
       "      <td>simpson</td>\n",
       "    </tr>\n",
       "    <tr>\n",
       "      <th>15</th>\n",
       "      <td>G4_1</td>\n",
       "      <td>0.96</td>\n",
       "      <td>simpson</td>\n",
       "    </tr>\n",
       "    <tr>\n",
       "      <th>16</th>\n",
       "      <td>G5_1</td>\n",
       "      <td>0.97</td>\n",
       "      <td>simpson</td>\n",
       "    </tr>\n",
       "    <tr>\n",
       "      <th>17</th>\n",
       "      <td>G6_1</td>\n",
       "      <td>0.96</td>\n",
       "      <td>simpson</td>\n",
       "    </tr>\n",
       "  </tbody>\n",
       "</table>\n",
       "</div>"
      ],
      "text/plain": [
       "       0     1 alpha_metric\n",
       "0   G1_1  6.64      shannon\n",
       "1   G2_1  5.78      shannon\n",
       "2   G3_1  6.13      shannon\n",
       "3   G4_1  6.11      shannon\n",
       "4   G5_1  6.85      shannon\n",
       "5   G6_1  6.19      shannon\n",
       "12  G1_1  0.97      simpson\n",
       "13  G2_1  0.95      simpson\n",
       "14  G3_1  0.96      simpson\n",
       "15  G4_1  0.96      simpson\n",
       "16  G5_1  0.97      simpson\n",
       "17  G6_1  0.96      simpson"
      ]
     },
     "execution_count": 72,
     "metadata": {},
     "output_type": "execute_result"
    }
   ],
   "source": [
    "alpha_diversity[1]=alpha_diversity[1].apply(lambda x:round(x,2))\n",
    "alpha_diversity"
   ]
  },
  {
   "cell_type": "code",
   "execution_count": 84,
   "metadata": {},
   "outputs": [
    {
     "data": {
      "image/png": "[encoded data removed]",
      "text/plain": [
       "<Figure size 640x480 with 1 Axes>"
      ]
     },
     "metadata": {},
     "output_type": "display_data"
    }
   ],
   "source": [
    "alpha_plot=sns.barplot(alpha_diversity, x=0, y=1, hue=\"alpha_metric\", legend=\"brief\")\n",
    "alpha_plot.bar_label(alpha_plot.containers[0], fontsize=10)\n",
    "alpha_plot.bar_label(alpha_plot.containers[1], fontsize=10)\n",
    "sns.move_legend(alpha_plot, \"upper left\", bbox_to_anchor=(1, 1))\n",
    "sns.despine()"
   ]
  },
  {
   "cell_type": "code",
   "execution_count": 74,
   "metadata": {},
   "outputs": [
    {
     "name": "stdout",
     "output_type": "stream",
     "text": [
      "0.97\n",
      "0.95\n",
      "0.96\n",
      "0.96\n",
      "0.97\n",
      "0.96\n"
     ]
    }
   ],
   "source": [
    "for i in alpha_plot.containers[1]:\n",
    "    print(i.get_height())"
   ]
  }
 ],
 "metadata": {
  "kernelspec": {
   "display_name": "MAUS",
   "language": "python",
   "name": "python3"
  },
  "language_info": {
   "codemirror_mode": {
    "name": "ipython",
    "version": 3
   },
   "file_extension": ".py",
   "mimetype": "text/x-python",
   "name": "python",
   "nbconvert_exporter": "python",
   "pygments_lexer": "ipython3",
   "version": "3.8.19"
  }
 },
 "nbformat": 4,
 "nbformat_minor": 2
}
